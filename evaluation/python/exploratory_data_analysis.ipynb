{
 "cells": [
  {
   "cell_type": "markdown",
   "metadata": {},
   "source": [
    "# Imports"
   ]
  },
  {
   "cell_type": "code",
   "execution_count": 10,
   "metadata": {},
   "outputs": [],
   "source": [
    "import datetime\n",
    "\n",
    "\n",
    "# Blockchain\n",
    "import web3\n",
    "# Data Analysis\n",
    "import pandas as pd\n",
    "import matplotlib.pyplot as plt\n",
    "import pymongo"
   ]
  },
  {
   "cell_type": "markdown",
   "metadata": {},
   "source": [
    "# Constants"
   ]
  },
  {
   "cell_type": "code",
   "execution_count": 11,
   "metadata": {},
   "outputs": [],
   "source": [
    "PD_COL = 0\n",
    "PD_ROW = 1"
   ]
  },
  {
   "cell_type": "markdown",
   "metadata": {},
   "source": [
    "# Connect to MongoDB"
   ]
  },
  {
   "cell_type": "code",
   "execution_count": 12,
   "metadata": {},
   "outputs": [],
   "source": [
    "client = pymongo.MongoClient('mongodb://localhost')"
   ]
  },
  {
   "cell_type": "markdown",
   "metadata": {},
   "source": [
    "# Connect to Infura Node"
   ]
  },
  {
   "cell_type": "code",
   "execution_count": 50,
   "metadata": {},
   "outputs": [
    {
     "data": {
      "text/plain": [
       "True"
      ]
     },
     "execution_count": 50,
     "metadata": {},
     "output_type": "execute_result"
    }
   ],
   "source": [
    "w3 = web3.Web3(\n",
    "    web3.Web3.WebsocketProvider(\"wss://ropsten.infura.io/ws/v3/109fcb200a994e9b84173b41229a8888\"))\n",
    "\n",
    "w3.isConnected()"
   ]
  },
  {
   "cell_type": "markdown",
   "metadata": {},
   "source": [
    "# Get Oracle Databases"
   ]
  },
  {
   "cell_type": "code",
   "execution_count": 14,
   "metadata": {},
   "outputs": [],
   "source": [
    "db_push_inbound_oracle = client.pushInboundOracle"
   ]
  },
  {
   "cell_type": "code",
   "execution_count": 15,
   "metadata": {},
   "outputs": [],
   "source": [
    "db_push_outbound_oracle = client.pushOutboundOracle"
   ]
  },
  {
   "cell_type": "code",
   "execution_count": 16,
   "metadata": {},
   "outputs": [],
   "source": [
    "db_pull_inbound_oracle = client.pullInboundOracle"
   ]
  },
  {
   "cell_type": "code",
   "execution_count": 17,
   "metadata": {},
   "outputs": [],
   "source": [
    "db_pull_outbound_oracle = client.pullOutboundOracle"
   ]
  },
  {
   "cell_type": "markdown",
   "metadata": {},
   "source": [
    "# First Look at the Databases\n",
    "## Push Inbound Oracles"
   ]
  },
  {
   "cell_type": "code",
   "execution_count": 18,
   "metadata": {},
   "outputs": [
    {
     "data": {
      "text/plain": [
       "['arrival']"
      ]
     },
     "execution_count": 18,
     "metadata": {},
     "output_type": "execute_result"
    }
   ],
   "source": [
    "db_push_inbound_oracle.list_collection_names()"
   ]
  },
  {
   "cell_type": "code",
   "execution_count": 19,
   "metadata": {},
   "outputs": [
    {
     "data": {
      "text/plain": [
       "2591"
      ]
     },
     "execution_count": 19,
     "metadata": {},
     "output_type": "execute_result"
    }
   ],
   "source": [
    "db_push_inbound_oracle.arrival.count_documents({})"
   ]
  },
  {
   "cell_type": "code",
   "execution_count": 20,
   "metadata": {},
   "outputs": [],
   "source": [
    "push_inbound_oracle_arrival = [\n",
    "    oracle for oracle in db_push_inbound_oracle.arrival.find()]"
   ]
  },
  {
   "cell_type": "code",
   "execution_count": 21,
   "metadata": {},
   "outputs": [],
   "source": [
    "df_push_inbound_oracle_arrival = pd.DataFrame(push_inbound_oracle_arrival)"
   ]
  },
  {
   "cell_type": "code",
   "execution_count": 22,
   "metadata": {},
   "outputs": [
    {
     "data": {
      "text/html": [
       "<div>\n",
       "<style scoped>\n",
       "    .dataframe tbody tr th:only-of-type {\n",
       "        vertical-align: middle;\n",
       "    }\n",
       "\n",
       "    .dataframe tbody tr th {\n",
       "        vertical-align: top;\n",
       "    }\n",
       "\n",
       "    .dataframe thead th {\n",
       "        text-align: right;\n",
       "    }\n",
       "</style>\n",
       "<table border=\"1\" class=\"dataframe\">\n",
       "  <thead>\n",
       "    <tr style=\"text-align: right;\">\n",
       "      <th></th>\n",
       "      <th>_id</th>\n",
       "      <th>transaction_hash</th>\n",
       "      <th>start_timestamp</th>\n",
       "      <th>end_timestamp</th>\n",
       "      <th>document</th>\n",
       "    </tr>\n",
       "  </thead>\n",
       "  <tbody>\n",
       "    <tr>\n",
       "      <td>0</td>\n",
       "      <td>5e976a8d53a82761edb60a2f</td>\n",
       "      <td>0x904bb68ca50b9f8a1f1059b789ec2d87dcab55d066fb...</td>\n",
       "      <td>1.586982e+09</td>\n",
       "      <td>1.586982e+09</td>\n",
       "      <td>{'order': 'Samsung Galaxy S10e', 'location': '...</td>\n",
       "    </tr>\n",
       "    <tr>\n",
       "      <td>1</td>\n",
       "      <td>5e976e1153a82761edb60a31</td>\n",
       "      <td>0xc2c2df9ec9c21d99497550ec6482a93a062ffac06d2f...</td>\n",
       "      <td>1.586982e+09</td>\n",
       "      <td>1.586982e+09</td>\n",
       "      <td>{'order': 'Motorola Moto G7 Plus', 'location':...</td>\n",
       "    </tr>\n",
       "    <tr>\n",
       "      <td>2</td>\n",
       "      <td>5e97719553a82761edb60a33</td>\n",
       "      <td>0x51e549887956adcce5ccf699dabaf766b006602fc360...</td>\n",
       "      <td>1.586983e+09</td>\n",
       "      <td>1.586983e+09</td>\n",
       "      <td>{'order': 'iPhone 11 Pro', 'location': 'Budape...</td>\n",
       "    </tr>\n",
       "    <tr>\n",
       "      <td>3</td>\n",
       "      <td>5e97751953a82761edb60a35</td>\n",
       "      <td>0x8202187cb0c3b49a02c65c2869fa09dd605c0b1894b2...</td>\n",
       "      <td>1.586984e+09</td>\n",
       "      <td>1.586984e+09</td>\n",
       "      <td>{'order': 'Samsung Galaxy Note10+', 'location'...</td>\n",
       "    </tr>\n",
       "    <tr>\n",
       "      <td>4</td>\n",
       "      <td>5e97789d53a82761edb60a37</td>\n",
       "      <td>0xda20a5ff5535d6931e057eb5ff5d57568594e13981e1...</td>\n",
       "      <td>1.586985e+09</td>\n",
       "      <td>1.586985e+09</td>\n",
       "      <td>{'order': 'Samsung Galaxy S10e', 'location': '...</td>\n",
       "    </tr>\n",
       "  </tbody>\n",
       "</table>\n",
       "</div>"
      ],
      "text/plain": [
       "                        _id  \\\n",
       "0  5e976a8d53a82761edb60a2f   \n",
       "1  5e976e1153a82761edb60a31   \n",
       "2  5e97719553a82761edb60a33   \n",
       "3  5e97751953a82761edb60a35   \n",
       "4  5e97789d53a82761edb60a37   \n",
       "\n",
       "                                    transaction_hash  start_timestamp  \\\n",
       "0  0x904bb68ca50b9f8a1f1059b789ec2d87dcab55d066fb...     1.586982e+09   \n",
       "1  0xc2c2df9ec9c21d99497550ec6482a93a062ffac06d2f...     1.586982e+09   \n",
       "2  0x51e549887956adcce5ccf699dabaf766b006602fc360...     1.586983e+09   \n",
       "3  0x8202187cb0c3b49a02c65c2869fa09dd605c0b1894b2...     1.586984e+09   \n",
       "4  0xda20a5ff5535d6931e057eb5ff5d57568594e13981e1...     1.586985e+09   \n",
       "\n",
       "   end_timestamp                                           document  \n",
       "0   1.586982e+09  {'order': 'Samsung Galaxy S10e', 'location': '...  \n",
       "1   1.586982e+09  {'order': 'Motorola Moto G7 Plus', 'location':...  \n",
       "2   1.586983e+09  {'order': 'iPhone 11 Pro', 'location': 'Budape...  \n",
       "3   1.586984e+09  {'order': 'Samsung Galaxy Note10+', 'location'...  \n",
       "4   1.586985e+09  {'order': 'Samsung Galaxy S10e', 'location': '...  "
      ]
     },
     "execution_count": 22,
     "metadata": {},
     "output_type": "execute_result"
    }
   ],
   "source": [
    "df_push_inbound_oracle_arrival.head()"
   ]
  },
  {
   "cell_type": "markdown",
   "metadata": {},
   "source": [
    "## Push Outbound Oracles"
   ]
  },
  {
   "cell_type": "code",
   "execution_count": 23,
   "metadata": {},
   "outputs": [
    {
     "data": {
      "text/plain": [
       "['arrival']"
      ]
     },
     "execution_count": 23,
     "metadata": {},
     "output_type": "execute_result"
    }
   ],
   "source": [
    "db_push_outbound_oracle.list_collection_names()"
   ]
  },
  {
   "cell_type": "code",
   "execution_count": 24,
   "metadata": {},
   "outputs": [
    {
     "data": {
      "text/plain": [
       "438"
      ]
     },
     "execution_count": 24,
     "metadata": {},
     "output_type": "execute_result"
    }
   ],
   "source": [
    "db_push_outbound_oracle.arrival.count_documents({})"
   ]
  },
  {
   "cell_type": "code",
   "execution_count": 25,
   "metadata": {},
   "outputs": [],
   "source": [
    "push_outbound_oracle_arrival = [\n",
    "    oracle for oracle in db_push_outbound_oracle.arrival.find()]"
   ]
  },
  {
   "cell_type": "code",
   "execution_count": 26,
   "metadata": {},
   "outputs": [
    {
     "data": {
      "text/plain": [
       "{'_id': ObjectId('5e976aa69c1a8f290e4bf129'),\n",
       " 'received_timestamp': 1586981542.582107,\n",
       " 'event': {'address': '0x1186aEDAb8f37C08CC00a887dBb119787cfE6AAf',\n",
       "  'blockHash': b'8\\xb2g\\xba\\xc9)=&\\xcc2\\x98\\xe2\\xbe\\xaex)[\\x87\\x99,\\xf4d~\\x17\\xf8-\\xbb\\xc2m\\x86%V',\n",
       "  'blockNumber': 7723878,\n",
       "  'data': '0x000000000000000000000000000000000000000000000000000000000000006000000000000000000000000000000000000000000000000000000000000000a0000000000000000000000000000000000000000000000000000000005e976a8c000000000000000000000000000000000000000000000000000000000000001353616d73756e672047616c617879205331306500000000000000000000000000000000000000000000000000000000000000000000000000000000000000000a4272617469736c61766100000000000000000000000000000000000000000000',\n",
       "  'logIndex': 5,\n",
       "  'removed': False,\n",
       "  'topics': [b'\\xc1\\xfe\\x86\\xca\\xc1\\xc2=\\xaa\\xf6J\\x00A<\\xa2(#\\x90h.\\x01>K\\x99o-\\xe98\\x82\\xa0F\\xb8;'],\n",
       "  'transactionHash': b'\\x90K\\xb6\\x8c\\xa5\\x0b\\x9f\\x8a\\x1f\\x10Y\\xb7\\x89\\xec-\\x87\\xdc\\xabU\\xd0f\\xfbLI\\xa9\\xc6.>i\\x80&>',\n",
       "  'transactionIndex': 10}}"
      ]
     },
     "execution_count": 26,
     "metadata": {},
     "output_type": "execute_result"
    }
   ],
   "source": [
    "push_outbound_oracle_arrival[0]"
   ]
  },
  {
   "cell_type": "code",
   "execution_count": 27,
   "metadata": {},
   "outputs": [],
   "source": [
    "df_push_outbound_oracle_arrival = pd.DataFrame(push_outbound_oracle_arrival)"
   ]
  },
  {
   "cell_type": "code",
   "execution_count": 28,
   "metadata": {},
   "outputs": [
    {
     "data": {
      "text/html": [
       "<div>\n",
       "<style scoped>\n",
       "    .dataframe tbody tr th:only-of-type {\n",
       "        vertical-align: middle;\n",
       "    }\n",
       "\n",
       "    .dataframe tbody tr th {\n",
       "        vertical-align: top;\n",
       "    }\n",
       "\n",
       "    .dataframe thead th {\n",
       "        text-align: right;\n",
       "    }\n",
       "</style>\n",
       "<table border=\"1\" class=\"dataframe\">\n",
       "  <thead>\n",
       "    <tr style=\"text-align: right;\">\n",
       "      <th></th>\n",
       "      <th>_id</th>\n",
       "      <th>received_timestamp</th>\n",
       "      <th>event</th>\n",
       "    </tr>\n",
       "  </thead>\n",
       "  <tbody>\n",
       "    <tr>\n",
       "      <td>0</td>\n",
       "      <td>5e976aa69c1a8f290e4bf129</td>\n",
       "      <td>1.586982e+09</td>\n",
       "      <td>{'address': '0x1186aEDAb8f37C08CC00a887dBb1197...</td>\n",
       "    </tr>\n",
       "    <tr>\n",
       "      <td>1</td>\n",
       "      <td>5e976e269c1a8f290e4bf12b</td>\n",
       "      <td>1.586982e+09</td>\n",
       "      <td>{'address': '0x1186aEDAb8f37C08CC00a887dBb1197...</td>\n",
       "    </tr>\n",
       "    <tr>\n",
       "      <td>2</td>\n",
       "      <td>5e9771c59c1a8f290e4bf12d</td>\n",
       "      <td>1.586983e+09</td>\n",
       "      <td>{'address': '0x1186aEDAb8f37C08CC00a887dBb1197...</td>\n",
       "    </tr>\n",
       "    <tr>\n",
       "      <td>3</td>\n",
       "      <td>5e97751e9c1a8f290e4bf12f</td>\n",
       "      <td>1.586984e+09</td>\n",
       "      <td>{'address': '0x1186aEDAb8f37C08CC00a887dBb1197...</td>\n",
       "    </tr>\n",
       "    <tr>\n",
       "      <td>4</td>\n",
       "      <td>5e9778a49c1a8f290e4bf131</td>\n",
       "      <td>1.586985e+09</td>\n",
       "      <td>{'address': '0x1186aEDAb8f37C08CC00a887dBb1197...</td>\n",
       "    </tr>\n",
       "  </tbody>\n",
       "</table>\n",
       "</div>"
      ],
      "text/plain": [
       "                        _id  received_timestamp  \\\n",
       "0  5e976aa69c1a8f290e4bf129        1.586982e+09   \n",
       "1  5e976e269c1a8f290e4bf12b        1.586982e+09   \n",
       "2  5e9771c59c1a8f290e4bf12d        1.586983e+09   \n",
       "3  5e97751e9c1a8f290e4bf12f        1.586984e+09   \n",
       "4  5e9778a49c1a8f290e4bf131        1.586985e+09   \n",
       "\n",
       "                                               event  \n",
       "0  {'address': '0x1186aEDAb8f37C08CC00a887dBb1197...  \n",
       "1  {'address': '0x1186aEDAb8f37C08CC00a887dBb1197...  \n",
       "2  {'address': '0x1186aEDAb8f37C08CC00a887dBb1197...  \n",
       "3  {'address': '0x1186aEDAb8f37C08CC00a887dBb1197...  \n",
       "4  {'address': '0x1186aEDAb8f37C08CC00a887dBb1197...  "
      ]
     },
     "execution_count": 28,
     "metadata": {},
     "output_type": "execute_result"
    }
   ],
   "source": [
    "df_push_outbound_oracle_arrival.head()"
   ]
  },
  {
   "cell_type": "markdown",
   "metadata": {},
   "source": [
    "## Pull Inbound Oracles"
   ]
  },
  {
   "cell_type": "code",
   "execution_count": 29,
   "metadata": {},
   "outputs": [
    {
     "data": {
      "text/plain": [
       "['verifyCustomer', 'order']"
      ]
     },
     "execution_count": 29,
     "metadata": {},
     "output_type": "execute_result"
    }
   ],
   "source": [
    "db_pull_inbound_oracle.list_collection_names()"
   ]
  },
  {
   "cell_type": "code",
   "execution_count": 30,
   "metadata": {},
   "outputs": [
    {
     "name": "stdout",
     "output_type": "stream",
     "text": [
      "verifyCustomer: 129\n",
      "order: 126\n"
     ]
    }
   ],
   "source": [
    "for collection_name in db_pull_inbound_oracle.list_collection_names():\n",
    "    collection_count = db_pull_inbound_oracle[collection_name].count_documents({})\n",
    "    print(f'{collection_name}: {collection_count}')"
   ]
  },
  {
   "cell_type": "code",
   "execution_count": 31,
   "metadata": {},
   "outputs": [],
   "source": [
    "pull_inbound_oracle_verify_customer = [\n",
    "    oracle for oracle in db_pull_inbound_oracle.verifyCustomer.find()]\n",
    "\n",
    "pull_inbound_oracle_order = [\n",
    "    oracle for oracle in db_pull_inbound_oracle.order.find()]"
   ]
  },
  {
   "cell_type": "code",
   "execution_count": 32,
   "metadata": {},
   "outputs": [],
   "source": [
    "df_pull_inbound_oracle_verify_customer = pd.DataFrame(\n",
    "    pull_inbound_oracle_verify_customer)\n",
    "\n",
    "df_pull_inbound_oracle_order = pd.DataFrame(\n",
    "    pull_inbound_oracle_order)"
   ]
  },
  {
   "cell_type": "code",
   "execution_count": 33,
   "metadata": {},
   "outputs": [
    {
     "data": {
      "text/html": [
       "<div>\n",
       "<style scoped>\n",
       "    .dataframe tbody tr th:only-of-type {\n",
       "        vertical-align: middle;\n",
       "    }\n",
       "\n",
       "    .dataframe tbody tr th {\n",
       "        vertical-align: top;\n",
       "    }\n",
       "\n",
       "    .dataframe thead th {\n",
       "        text-align: right;\n",
       "    }\n",
       "</style>\n",
       "<table border=\"1\" class=\"dataframe\">\n",
       "  <thead>\n",
       "    <tr style=\"text-align: right;\">\n",
       "      <th></th>\n",
       "      <th>_id</th>\n",
       "      <th>transaction_hash</th>\n",
       "      <th>start_timestamp</th>\n",
       "      <th>end_timestamp</th>\n",
       "      <th>document</th>\n",
       "    </tr>\n",
       "  </thead>\n",
       "  <tbody>\n",
       "    <tr>\n",
       "      <td>0</td>\n",
       "      <td>5e976c9d2f3ca046f03a6f51</td>\n",
       "      <td>0x7f64f7aae80e41e8bf0f02d478f297a175bb230cd678...</td>\n",
       "      <td>1.586982e+09</td>\n",
       "      <td>1.586982e+09</td>\n",
       "      <td>{'first_name': 'Natascha', 'last_name': 'Danvo...</td>\n",
       "    </tr>\n",
       "    <tr>\n",
       "      <td>1</td>\n",
       "      <td>5e9770212f3ca046f03a6f55</td>\n",
       "      <td>0x2fea80ac05863ad01b1c6301a4aae81a5f89b7a0fb13...</td>\n",
       "      <td>1.586983e+09</td>\n",
       "      <td>1.586983e+09</td>\n",
       "      <td>{'first_name': 'Tony', 'last_name': 'Stark', '...</td>\n",
       "    </tr>\n",
       "    <tr>\n",
       "      <td>2</td>\n",
       "      <td>5e9773a52f3ca046f03a6f59</td>\n",
       "      <td>0x07d21bb163549ff2353adbb81960ea2d641348998f63...</td>\n",
       "      <td>1.586984e+09</td>\n",
       "      <td>1.586984e+09</td>\n",
       "      <td>{'first_name': 'Carol', 'last_name': 'Stark', ...</td>\n",
       "    </tr>\n",
       "    <tr>\n",
       "      <td>3</td>\n",
       "      <td>5e9777292f3ca046f03a6f5d</td>\n",
       "      <td>0x3c044a17885fe3fda21ea5449204b66eb82c38015dd5...</td>\n",
       "      <td>1.586985e+09</td>\n",
       "      <td>1.586985e+09</td>\n",
       "      <td>{'first_name': 'Natascha', 'last_name': 'Roger...</td>\n",
       "    </tr>\n",
       "    <tr>\n",
       "      <td>4</td>\n",
       "      <td>5e977aad2f3ca046f03a6f61</td>\n",
       "      <td>0x046d8a57f570a508a0f109e79d765196dec804cec3c1...</td>\n",
       "      <td>1.586986e+09</td>\n",
       "      <td>1.586986e+09</td>\n",
       "      <td>{'first_name': 'Steve', 'last_name': 'Romanof'...</td>\n",
       "    </tr>\n",
       "  </tbody>\n",
       "</table>\n",
       "</div>"
      ],
      "text/plain": [
       "                        _id  \\\n",
       "0  5e976c9d2f3ca046f03a6f51   \n",
       "1  5e9770212f3ca046f03a6f55   \n",
       "2  5e9773a52f3ca046f03a6f59   \n",
       "3  5e9777292f3ca046f03a6f5d   \n",
       "4  5e977aad2f3ca046f03a6f61   \n",
       "\n",
       "                                    transaction_hash  start_timestamp  \\\n",
       "0  0x7f64f7aae80e41e8bf0f02d478f297a175bb230cd678...     1.586982e+09   \n",
       "1  0x2fea80ac05863ad01b1c6301a4aae81a5f89b7a0fb13...     1.586983e+09   \n",
       "2  0x07d21bb163549ff2353adbb81960ea2d641348998f63...     1.586984e+09   \n",
       "3  0x3c044a17885fe3fda21ea5449204b66eb82c38015dd5...     1.586985e+09   \n",
       "4  0x046d8a57f570a508a0f109e79d765196dec804cec3c1...     1.586986e+09   \n",
       "\n",
       "   end_timestamp                                           document  \n",
       "0   1.586982e+09  {'first_name': 'Natascha', 'last_name': 'Danvo...  \n",
       "1   1.586983e+09  {'first_name': 'Tony', 'last_name': 'Stark', '...  \n",
       "2   1.586984e+09  {'first_name': 'Carol', 'last_name': 'Stark', ...  \n",
       "3   1.586985e+09  {'first_name': 'Natascha', 'last_name': 'Roger...  \n",
       "4   1.586986e+09  {'first_name': 'Steve', 'last_name': 'Romanof'...  "
      ]
     },
     "execution_count": 33,
     "metadata": {},
     "output_type": "execute_result"
    }
   ],
   "source": [
    "df_pull_inbound_oracle_verify_customer.head()"
   ]
  },
  {
   "cell_type": "code",
   "execution_count": 34,
   "metadata": {},
   "outputs": [
    {
     "data": {
      "text/html": [
       "<div>\n",
       "<style scoped>\n",
       "    .dataframe tbody tr th:only-of-type {\n",
       "        vertical-align: middle;\n",
       "    }\n",
       "\n",
       "    .dataframe tbody tr th {\n",
       "        vertical-align: top;\n",
       "    }\n",
       "\n",
       "    .dataframe thead th {\n",
       "        text-align: right;\n",
       "    }\n",
       "</style>\n",
       "<table border=\"1\" class=\"dataframe\">\n",
       "  <thead>\n",
       "    <tr style=\"text-align: right;\">\n",
       "      <th></th>\n",
       "      <th>_id</th>\n",
       "      <th>transaction_hash</th>\n",
       "      <th>order</th>\n",
       "      <th>order_start_timestamp</th>\n",
       "      <th>order_end_timestamp</th>\n",
       "      <th>verify_customer</th>\n",
       "      <th>verify_customer_received_timestamp</th>\n",
       "    </tr>\n",
       "  </thead>\n",
       "  <tbody>\n",
       "    <tr>\n",
       "      <td>0</td>\n",
       "      <td>5e976ca52f3ca046f03a6f53</td>\n",
       "      <td>0xbe5e22a75965be9e86d6cd47276fe58ee6b33d8167f7...</td>\n",
       "      <td>{'is_verified': True, 'order_ID': 1, 'error_co...</td>\n",
       "      <td>1.586982e+09</td>\n",
       "      <td>1.586982e+09</td>\n",
       "      <td>{'address': '0x0a4D9d49Bd7e4402a8CfbA0B6d6C699...</td>\n",
       "      <td>1.586982e+09</td>\n",
       "    </tr>\n",
       "    <tr>\n",
       "      <td>1</td>\n",
       "      <td>5e9770362f3ca046f03a6f57</td>\n",
       "      <td>0x07eb2eaa20021d65429969959558236388e4906c0a94...</td>\n",
       "      <td>{'is_verified': True, 'order_ID': 2, 'error_co...</td>\n",
       "      <td>1.586983e+09</td>\n",
       "      <td>1.586983e+09</td>\n",
       "      <td>{'address': '0x0a4D9d49Bd7e4402a8CfbA0B6d6C699...</td>\n",
       "      <td>1.586983e+09</td>\n",
       "    </tr>\n",
       "    <tr>\n",
       "      <td>2</td>\n",
       "      <td>5e9773c52f3ca046f03a6f5b</td>\n",
       "      <td>0x91c8720954668a676689c8b3730b239dc9d1fe1336d5...</td>\n",
       "      <td>{'is_verified': True, 'order_ID': 3, 'error_co...</td>\n",
       "      <td>1.586984e+09</td>\n",
       "      <td>1.586984e+09</td>\n",
       "      <td>{'address': '0x0a4D9d49Bd7e4402a8CfbA0B6d6C699...</td>\n",
       "      <td>1.586984e+09</td>\n",
       "    </tr>\n",
       "    <tr>\n",
       "      <td>3</td>\n",
       "      <td>5e9777452f3ca046f03a6f5f</td>\n",
       "      <td>0x6a8af4435823d0b5e195ab726e602fbc7f2ba12f04f1...</td>\n",
       "      <td>{'is_verified': True, 'order_ID': 4, 'error_co...</td>\n",
       "      <td>1.586985e+09</td>\n",
       "      <td>1.586985e+09</td>\n",
       "      <td>{'address': '0x0a4D9d49Bd7e4402a8CfbA0B6d6C699...</td>\n",
       "      <td>1.586985e+09</td>\n",
       "    </tr>\n",
       "    <tr>\n",
       "      <td>4</td>\n",
       "      <td>5e977acd2f3ca046f03a6f63</td>\n",
       "      <td>0x71a6436d8ba4e22482811d12f77a5c6b55dc6d824fd8...</td>\n",
       "      <td>{'is_verified': True, 'order_ID': 5, 'error_co...</td>\n",
       "      <td>1.586986e+09</td>\n",
       "      <td>1.586986e+09</td>\n",
       "      <td>{'address': '0x0a4D9d49Bd7e4402a8CfbA0B6d6C699...</td>\n",
       "      <td>1.586986e+09</td>\n",
       "    </tr>\n",
       "  </tbody>\n",
       "</table>\n",
       "</div>"
      ],
      "text/plain": [
       "                        _id  \\\n",
       "0  5e976ca52f3ca046f03a6f53   \n",
       "1  5e9770362f3ca046f03a6f57   \n",
       "2  5e9773c52f3ca046f03a6f5b   \n",
       "3  5e9777452f3ca046f03a6f5f   \n",
       "4  5e977acd2f3ca046f03a6f63   \n",
       "\n",
       "                                    transaction_hash  \\\n",
       "0  0xbe5e22a75965be9e86d6cd47276fe58ee6b33d8167f7...   \n",
       "1  0x07eb2eaa20021d65429969959558236388e4906c0a94...   \n",
       "2  0x91c8720954668a676689c8b3730b239dc9d1fe1336d5...   \n",
       "3  0x6a8af4435823d0b5e195ab726e602fbc7f2ba12f04f1...   \n",
       "4  0x71a6436d8ba4e22482811d12f77a5c6b55dc6d824fd8...   \n",
       "\n",
       "                                               order  order_start_timestamp  \\\n",
       "0  {'is_verified': True, 'order_ID': 1, 'error_co...           1.586982e+09   \n",
       "1  {'is_verified': True, 'order_ID': 2, 'error_co...           1.586983e+09   \n",
       "2  {'is_verified': True, 'order_ID': 3, 'error_co...           1.586984e+09   \n",
       "3  {'is_verified': True, 'order_ID': 4, 'error_co...           1.586985e+09   \n",
       "4  {'is_verified': True, 'order_ID': 5, 'error_co...           1.586986e+09   \n",
       "\n",
       "   order_end_timestamp                                    verify_customer  \\\n",
       "0         1.586982e+09  {'address': '0x0a4D9d49Bd7e4402a8CfbA0B6d6C699...   \n",
       "1         1.586983e+09  {'address': '0x0a4D9d49Bd7e4402a8CfbA0B6d6C699...   \n",
       "2         1.586984e+09  {'address': '0x0a4D9d49Bd7e4402a8CfbA0B6d6C699...   \n",
       "3         1.586985e+09  {'address': '0x0a4D9d49Bd7e4402a8CfbA0B6d6C699...   \n",
       "4         1.586986e+09  {'address': '0x0a4D9d49Bd7e4402a8CfbA0B6d6C699...   \n",
       "\n",
       "   verify_customer_received_timestamp  \n",
       "0                        1.586982e+09  \n",
       "1                        1.586983e+09  \n",
       "2                        1.586984e+09  \n",
       "3                        1.586985e+09  \n",
       "4                        1.586986e+09  "
      ]
     },
     "execution_count": 34,
     "metadata": {},
     "output_type": "execute_result"
    }
   ],
   "source": [
    "df_pull_inbound_oracle_order.head()"
   ]
  },
  {
   "cell_type": "markdown",
   "metadata": {},
   "source": [
    "## Pull Outbound Oracles"
   ]
  },
  {
   "cell_type": "code",
   "execution_count": 35,
   "metadata": {},
   "outputs": [
    {
     "data": {
      "text/plain": [
       "['arrival']"
      ]
     },
     "execution_count": 35,
     "metadata": {},
     "output_type": "execute_result"
    }
   ],
   "source": [
    "db_pull_outbound_oracle.list_collection_names()"
   ]
  },
  {
   "cell_type": "code",
   "execution_count": 36,
   "metadata": {},
   "outputs": [
    {
     "data": {
      "text/plain": [
       "2611"
      ]
     },
     "execution_count": 36,
     "metadata": {},
     "output_type": "execute_result"
    }
   ],
   "source": [
    "db_pull_outbound_oracle.arrival.count_documents({})"
   ]
  },
  {
   "cell_type": "code",
   "execution_count": 37,
   "metadata": {},
   "outputs": [],
   "source": [
    "pull_outbound_oracle_arrival = [\n",
    "    oracle for oracle in db_pull_outbound_oracle.arrival.find()]"
   ]
  },
  {
   "cell_type": "code",
   "execution_count": 38,
   "metadata": {},
   "outputs": [
    {
     "data": {
      "text/plain": [
       "{'_id': ObjectId('5e976b9d4854cbebf27c7b1f'),\n",
       " 'start_timestamp': 1586981789.712676,\n",
       " 'end_timestamp': 1586981789.841327,\n",
       " 'transaction_hash': '0xf15753a9ef3d83e6d9974a936795039605449cdf2530545c8b339deaa6a7641f',\n",
       " 'state': {'_order': 'iPhone 11',\n",
       "  '_location': 'Zagreb',\n",
       "  '_timestamp': 1586791367}}"
      ]
     },
     "execution_count": 38,
     "metadata": {},
     "output_type": "execute_result"
    }
   ],
   "source": [
    "pull_outbound_oracle_arrival[0]"
   ]
  },
  {
   "cell_type": "code",
   "execution_count": 39,
   "metadata": {},
   "outputs": [],
   "source": [
    "df_pull_outbound_oracle_arrival = pd.DataFrame(pull_outbound_oracle_arrival)"
   ]
  },
  {
   "cell_type": "code",
   "execution_count": 40,
   "metadata": {},
   "outputs": [
    {
     "data": {
      "text/html": [
       "<div>\n",
       "<style scoped>\n",
       "    .dataframe tbody tr th:only-of-type {\n",
       "        vertical-align: middle;\n",
       "    }\n",
       "\n",
       "    .dataframe tbody tr th {\n",
       "        vertical-align: top;\n",
       "    }\n",
       "\n",
       "    .dataframe thead th {\n",
       "        text-align: right;\n",
       "    }\n",
       "</style>\n",
       "<table border=\"1\" class=\"dataframe\">\n",
       "  <thead>\n",
       "    <tr style=\"text-align: right;\">\n",
       "      <th></th>\n",
       "      <th>_id</th>\n",
       "      <th>start_timestamp</th>\n",
       "      <th>end_timestamp</th>\n",
       "      <th>transaction_hash</th>\n",
       "      <th>state</th>\n",
       "    </tr>\n",
       "  </thead>\n",
       "  <tbody>\n",
       "    <tr>\n",
       "      <td>0</td>\n",
       "      <td>5e976b9d4854cbebf27c7b1f</td>\n",
       "      <td>1.586982e+09</td>\n",
       "      <td>1.586982e+09</td>\n",
       "      <td>0xf15753a9ef3d83e6d9974a936795039605449cdf2530...</td>\n",
       "      <td>{'_order': 'iPhone 11', '_location': 'Zagreb',...</td>\n",
       "    </tr>\n",
       "    <tr>\n",
       "      <td>1</td>\n",
       "      <td>5e976f214854cbebf27c7b21</td>\n",
       "      <td>1.586983e+09</td>\n",
       "      <td>1.586983e+09</td>\n",
       "      <td>0xf15753a9ef3d83e6d9974a936795039605449cdf2530...</td>\n",
       "      <td>{'_order': 'iPhone 11', '_location': 'Zagreb',...</td>\n",
       "    </tr>\n",
       "    <tr>\n",
       "      <td>2</td>\n",
       "      <td>5e9772a54854cbebf27c7b23</td>\n",
       "      <td>1.586984e+09</td>\n",
       "      <td>1.586984e+09</td>\n",
       "      <td>0xf15753a9ef3d83e6d9974a936795039605449cdf2530...</td>\n",
       "      <td>{'_order': 'iPhone 11', '_location': 'Zagreb',...</td>\n",
       "    </tr>\n",
       "    <tr>\n",
       "      <td>3</td>\n",
       "      <td>5e9776294854cbebf27c7b25</td>\n",
       "      <td>1.586984e+09</td>\n",
       "      <td>1.586984e+09</td>\n",
       "      <td>0xf15753a9ef3d83e6d9974a936795039605449cdf2530...</td>\n",
       "      <td>{'_order': 'iPhone 11', '_location': 'Zagreb',...</td>\n",
       "    </tr>\n",
       "    <tr>\n",
       "      <td>4</td>\n",
       "      <td>5e9779ad4854cbebf27c7b27</td>\n",
       "      <td>1.586985e+09</td>\n",
       "      <td>1.586985e+09</td>\n",
       "      <td>0xf15753a9ef3d83e6d9974a936795039605449cdf2530...</td>\n",
       "      <td>{'_order': 'iPhone 11', '_location': 'Zagreb',...</td>\n",
       "    </tr>\n",
       "  </tbody>\n",
       "</table>\n",
       "</div>"
      ],
      "text/plain": [
       "                        _id  start_timestamp  end_timestamp  \\\n",
       "0  5e976b9d4854cbebf27c7b1f     1.586982e+09   1.586982e+09   \n",
       "1  5e976f214854cbebf27c7b21     1.586983e+09   1.586983e+09   \n",
       "2  5e9772a54854cbebf27c7b23     1.586984e+09   1.586984e+09   \n",
       "3  5e9776294854cbebf27c7b25     1.586984e+09   1.586984e+09   \n",
       "4  5e9779ad4854cbebf27c7b27     1.586985e+09   1.586985e+09   \n",
       "\n",
       "                                    transaction_hash  \\\n",
       "0  0xf15753a9ef3d83e6d9974a936795039605449cdf2530...   \n",
       "1  0xf15753a9ef3d83e6d9974a936795039605449cdf2530...   \n",
       "2  0xf15753a9ef3d83e6d9974a936795039605449cdf2530...   \n",
       "3  0xf15753a9ef3d83e6d9974a936795039605449cdf2530...   \n",
       "4  0xf15753a9ef3d83e6d9974a936795039605449cdf2530...   \n",
       "\n",
       "                                               state  \n",
       "0  {'_order': 'iPhone 11', '_location': 'Zagreb',...  \n",
       "1  {'_order': 'iPhone 11', '_location': 'Zagreb',...  \n",
       "2  {'_order': 'iPhone 11', '_location': 'Zagreb',...  \n",
       "3  {'_order': 'iPhone 11', '_location': 'Zagreb',...  \n",
       "4  {'_order': 'iPhone 11', '_location': 'Zagreb',...  "
      ]
     },
     "execution_count": 40,
     "metadata": {},
     "output_type": "execute_result"
    }
   ],
   "source": [
    "df_pull_outbound_oracle_arrival.head()"
   ]
  },
  {
   "cell_type": "markdown",
   "metadata": {},
   "source": [
    "# Add Columns"
   ]
  },
  {
   "cell_type": "markdown",
   "metadata": {},
   "source": [
    "## Blocks"
   ]
  },
  {
   "cell_type": "code",
   "execution_count": 41,
   "metadata": {},
   "outputs": [],
   "source": [
    "def get_transaction(transaction_hash):\n",
    "    r'''This function is used when we some of the transactions seem to have not gone through.\n",
    "    '''\n",
    "    try:\n",
    "        return w3.eth.getTransaction(transaction_hash)\n",
    "    except:\n",
    "        return 0"
   ]
  },
  {
   "cell_type": "code",
   "execution_count": 42,
   "metadata": {},
   "outputs": [],
   "source": [
    "def get_block(transaction):\n",
    "    r'''Same as get_transaction'''\n",
    "    try:\n",
    "        return w3.eth.getBlock(transaction[\"blockNumber\"])\n",
    "    except:\n",
    "        return 0"
   ]
  },
  {
   "cell_type": "markdown",
   "metadata": {},
   "source": [
    "### Push Inbound Oracle"
   ]
  },
  {
   "cell_type": "code",
   "execution_count": 43,
   "metadata": {},
   "outputs": [],
   "source": [
    "df_push_inbound_oracle_arrival[\"transaction\"] = df_push_inbound_oracle_arrival.transaction_hash.apply(\n",
    "    lambda transaction_hash: get_transaction(transaction_hash))"
   ]
  },
  {
   "cell_type": "code",
   "execution_count": 44,
   "metadata": {},
   "outputs": [],
   "source": [
    "df_push_inbound_oracle_arrival[\"block\"] = df_push_inbound_oracle_arrival.transaction.apply(\n",
    "    lambda transaction: get_block(transaction))"
   ]
  },
  {
   "cell_type": "markdown",
   "metadata": {},
   "source": [
    "### Pull Inbound Oracle"
   ]
  },
  {
   "cell_type": "code",
   "execution_count": 45,
   "metadata": {},
   "outputs": [],
   "source": [
    "df_pull_inbound_oracle_verify_customer[\"transaction\"] = (\n",
    "    df_pull_inbound_oracle_verify_customer\n",
    "        .transaction_hash\n",
    "        .apply(\n",
    "            lambda transaction_hash: w3.eth.getTransaction(transaction_hash)))\n",
    "\n",
    "df_pull_inbound_oracle_verify_customer[\"block\"] = df_pull_inbound_oracle_verify_customer.transaction.apply(\n",
    "    lambda transaction: w3.eth.getBlock(transaction[\"blockNumber\"], full_transactions=True))"
   ]
  },
  {
   "cell_type": "code",
   "execution_count": 46,
   "metadata": {},
   "outputs": [],
   "source": [
    "df_pull_inbound_oracle_order[\"transaction\"] = df_pull_inbound_oracle_order.transaction_hash.apply(\n",
    "    lambda transaction_hash: w3.eth.getTransaction(transaction_hash))\n",
    "\n",
    "df_pull_inbound_oracle_order[\"block\"] = df_pull_inbound_oracle_order.transaction.apply(\n",
    "    lambda transaction: w3.eth.getBlock(transaction[\"blockNumber\"], full_transactions=True))"
   ]
  },
  {
   "cell_type": "markdown",
   "metadata": {},
   "source": [
    "### Pull Outbound Oracle"
   ]
  },
  {
   "cell_type": "code",
   "execution_count": 48,
   "metadata": {},
   "outputs": [
    {
     "data": {
      "text/html": [
       "<div>\n",
       "<style scoped>\n",
       "    .dataframe tbody tr th:only-of-type {\n",
       "        vertical-align: middle;\n",
       "    }\n",
       "\n",
       "    .dataframe tbody tr th {\n",
       "        vertical-align: top;\n",
       "    }\n",
       "\n",
       "    .dataframe thead th {\n",
       "        text-align: right;\n",
       "    }\n",
       "</style>\n",
       "<table border=\"1\" class=\"dataframe\">\n",
       "  <thead>\n",
       "    <tr style=\"text-align: right;\">\n",
       "      <th></th>\n",
       "      <th>_id</th>\n",
       "      <th>start_timestamp</th>\n",
       "      <th>end_timestamp</th>\n",
       "      <th>transaction_hash</th>\n",
       "      <th>state</th>\n",
       "    </tr>\n",
       "  </thead>\n",
       "  <tbody>\n",
       "    <tr>\n",
       "      <td>0</td>\n",
       "      <td>5e976b9d4854cbebf27c7b1f</td>\n",
       "      <td>1.586982e+09</td>\n",
       "      <td>1.586982e+09</td>\n",
       "      <td>0xf15753a9ef3d83e6d9974a936795039605449cdf2530...</td>\n",
       "      <td>{'_order': 'iPhone 11', '_location': 'Zagreb',...</td>\n",
       "    </tr>\n",
       "    <tr>\n",
       "      <td>1</td>\n",
       "      <td>5e976f214854cbebf27c7b21</td>\n",
       "      <td>1.586983e+09</td>\n",
       "      <td>1.586983e+09</td>\n",
       "      <td>0xf15753a9ef3d83e6d9974a936795039605449cdf2530...</td>\n",
       "      <td>{'_order': 'iPhone 11', '_location': 'Zagreb',...</td>\n",
       "    </tr>\n",
       "    <tr>\n",
       "      <td>2</td>\n",
       "      <td>5e9772a54854cbebf27c7b23</td>\n",
       "      <td>1.586984e+09</td>\n",
       "      <td>1.586984e+09</td>\n",
       "      <td>0xf15753a9ef3d83e6d9974a936795039605449cdf2530...</td>\n",
       "      <td>{'_order': 'iPhone 11', '_location': 'Zagreb',...</td>\n",
       "    </tr>\n",
       "    <tr>\n",
       "      <td>3</td>\n",
       "      <td>5e9776294854cbebf27c7b25</td>\n",
       "      <td>1.586984e+09</td>\n",
       "      <td>1.586984e+09</td>\n",
       "      <td>0xf15753a9ef3d83e6d9974a936795039605449cdf2530...</td>\n",
       "      <td>{'_order': 'iPhone 11', '_location': 'Zagreb',...</td>\n",
       "    </tr>\n",
       "    <tr>\n",
       "      <td>4</td>\n",
       "      <td>5e9779ad4854cbebf27c7b27</td>\n",
       "      <td>1.586985e+09</td>\n",
       "      <td>1.586985e+09</td>\n",
       "      <td>0xf15753a9ef3d83e6d9974a936795039605449cdf2530...</td>\n",
       "      <td>{'_order': 'iPhone 11', '_location': 'Zagreb',...</td>\n",
       "    </tr>\n",
       "  </tbody>\n",
       "</table>\n",
       "</div>"
      ],
      "text/plain": [
       "                        _id  start_timestamp  end_timestamp  \\\n",
       "0  5e976b9d4854cbebf27c7b1f     1.586982e+09   1.586982e+09   \n",
       "1  5e976f214854cbebf27c7b21     1.586983e+09   1.586983e+09   \n",
       "2  5e9772a54854cbebf27c7b23     1.586984e+09   1.586984e+09   \n",
       "3  5e9776294854cbebf27c7b25     1.586984e+09   1.586984e+09   \n",
       "4  5e9779ad4854cbebf27c7b27     1.586985e+09   1.586985e+09   \n",
       "\n",
       "                                    transaction_hash  \\\n",
       "0  0xf15753a9ef3d83e6d9974a936795039605449cdf2530...   \n",
       "1  0xf15753a9ef3d83e6d9974a936795039605449cdf2530...   \n",
       "2  0xf15753a9ef3d83e6d9974a936795039605449cdf2530...   \n",
       "3  0xf15753a9ef3d83e6d9974a936795039605449cdf2530...   \n",
       "4  0xf15753a9ef3d83e6d9974a936795039605449cdf2530...   \n",
       "\n",
       "                                               state  \n",
       "0  {'_order': 'iPhone 11', '_location': 'Zagreb',...  \n",
       "1  {'_order': 'iPhone 11', '_location': 'Zagreb',...  \n",
       "2  {'_order': 'iPhone 11', '_location': 'Zagreb',...  \n",
       "3  {'_order': 'iPhone 11', '_location': 'Zagreb',...  \n",
       "4  {'_order': 'iPhone 11', '_location': 'Zagreb',...  "
      ]
     },
     "execution_count": 48,
     "metadata": {},
     "output_type": "execute_result"
    }
   ],
   "source": [
    "df_pull_outbound_oracle_arrival.head()"
   ]
  },
  {
   "cell_type": "code",
   "execution_count": 51,
   "metadata": {},
   "outputs": [],
   "source": [
    "df_pull_outbound_oracle_arrival[\"transaction\"] = df_pull_outbound_oracle_arrival.transaction_hash.apply(\n",
    "    lambda transaction_hash: w3.eth.getTransaction(transaction_hash))"
   ]
  },
  {
   "cell_type": "code",
   "execution_count": 52,
   "metadata": {},
   "outputs": [],
   "source": [
    "df_pull_outbound_oracle_arrival[\"block\"] = df_pull_outbound_oracle_arrival.transaction.apply(\n",
    "    lambda transaction: w3.eth.getBlock(transaction[\"blockNumber\"], full_transactions=True))"
   ]
  },
  {
   "cell_type": "markdown",
   "metadata": {},
   "source": [
    "### Push Outbound Oracle"
   ]
  },
  {
   "cell_type": "code",
   "execution_count": 53,
   "metadata": {},
   "outputs": [],
   "source": [
    "df_push_outbound_oracle_arrival[\"transaction\"] = df_push_outbound_oracle_arrival.event.apply(\n",
    "    lambda event: w3.eth.getTransaction(event[\"transactionHash\"]))"
   ]
  },
  {
   "cell_type": "code",
   "execution_count": 54,
   "metadata": {},
   "outputs": [],
   "source": [
    "df_push_outbound_oracle_arrival[\"block\"] = df_push_outbound_oracle_arrival.event.apply(\n",
    "    lambda event: w3.eth.getBlock(event[\"blockNumber\"], full_transactions=True))"
   ]
  },
  {
   "cell_type": "markdown",
   "metadata": {},
   "source": [
    "> Dirty Hack here: I decode arrival here and append it as a column."
   ]
  },
  {
   "cell_type": "code",
   "execution_count": 55,
   "metadata": {},
   "outputs": [],
   "source": [
    "ARRIVAL_ABI = '[\\\n",
    "    {\\\n",
    "        \"constant\": \"false\",\\\n",
    "        \"inputs\": [\\\n",
    "            {\"name\": \"_order\", \"type\": \"string\"},\\\n",
    "            {\"name\": \"_location\", \"type\": \"string\"},\\\n",
    "            {\"name\": \"_timestamp\", \"type\": \"uint256\"}\\\n",
    "        ],\\\n",
    "        \"name\": \"setArrival\",\\\n",
    "        \"outputs\": \"[]\",\\\n",
    "        \"payable\": \"true\",\\\n",
    "        \"stateMutability\": \"payable\",\\\n",
    "        \"type\": \"function\"\\\n",
    "    },\\\n",
    "    {\\\n",
    "        \"anonymous\": \"false\",\\\n",
    "        \"inputs\": [\\\n",
    "            {\"indexed\": \"false\", \"name\": \"order\", \"type\": \"string\"},\\\n",
    "            {\"indexed\": \"false\", \"name\": \"location\", \"type\": \"string\"},\\\n",
    "            {\"indexed\": \"false\", \"name\": \"timestamp\", \"type\": \"uint256\"}\\\n",
    "        ],\\\n",
    "        \"name\": \"Arrival\",\\\n",
    "        \"type\": \"event\"\\\n",
    "    }\\\n",
    "]'\n",
    "\n",
    "arrival_contract = w3.eth.contract(\n",
    "    address=web3.Web3.toChecksumAddress(\"0x1186aedab8f37c08cc00a887dbb119787cfe6aaf\"),\n",
    "    abi=ARRIVAL_ABI)"
   ]
  },
  {
   "cell_type": "code",
   "execution_count": 56,
   "metadata": {},
   "outputs": [],
   "source": [
    "df_push_outbound_oracle_arrival[\"decodedInput\"] = df_push_outbound_oracle_arrival.transaction.apply(\n",
    "    lambda transaction: arrival_contract.decode_function_input(transaction.input))"
   ]
  },
  {
   "cell_type": "code",
   "execution_count": 57,
   "metadata": {},
   "outputs": [],
   "source": [
    "IDX_FUNCTION_SELECTOR = 0\n",
    "IDX_DECODED_FUNCTION_INPUT = 1\n",
    "\n",
    "df_push_outbound_oracle_arrival[\"arrivalCreationTimestamp\"] = df_push_outbound_oracle_arrival.decodedInput.apply(\n",
    "    lambda decodedInput: decodedInput[IDX_DECODED_FUNCTION_INPUT][\"_timestamp\"])"
   ]
  },
  {
   "cell_type": "markdown",
   "metadata": {},
   "source": [
    "## Delete Transactions that are not found."
   ]
  },
  {
   "cell_type": "code",
   "execution_count": 58,
   "metadata": {},
   "outputs": [],
   "source": [
    "df_push_inbound_oracle_arrival = df_push_inbound_oracle_arrival[\n",
    "    df_push_inbound_oracle_arrival.transaction != 0]"
   ]
  },
  {
   "cell_type": "code",
   "execution_count": 59,
   "metadata": {},
   "outputs": [],
   "source": [
    "df_pull_inbound_oracle_order = df_pull_inbound_oracle_order[\n",
    "    df_pull_inbound_oracle_order.transaction != 0]\n",
    "\n",
    "df_pull_inbound_oracle_verify_customer = df_pull_inbound_oracle_verify_customer[\n",
    "    df_pull_inbound_oracle_verify_customer.transaction != 0]"
   ]
  },
  {
   "cell_type": "markdown",
   "metadata": {},
   "source": [
    "## Transaction timestamps\n",
    "The timestamp of a transaction it the timestamp of its block."
   ]
  },
  {
   "cell_type": "markdown",
   "metadata": {},
   "source": [
    "### Push Inbound Oracle"
   ]
  },
  {
   "cell_type": "code",
   "execution_count": 60,
   "metadata": {},
   "outputs": [
    {
     "name": "stderr",
     "output_type": "stream",
     "text": [
      "/home/stefan/anaconda3/envs/blockchain/lib/python3.7/site-packages/ipykernel_launcher.py:2: SettingWithCopyWarning: \n",
      "A value is trying to be set on a copy of a slice from a DataFrame.\n",
      "Try using .loc[row_indexer,col_indexer] = value instead\n",
      "\n",
      "See the caveats in the documentation: http://pandas.pydata.org/pandas-docs/stable/user_guide/indexing.html#returning-a-view-versus-a-copy\n",
      "  \n"
     ]
    }
   ],
   "source": [
    "df_push_inbound_oracle_arrival[\"transaction_timestamp\"] = df_push_inbound_oracle_arrival.block.apply(\n",
    "    lambda block: block[\"timestamp\"])"
   ]
  },
  {
   "cell_type": "markdown",
   "metadata": {},
   "source": [
    "### Pull Inbound oracle"
   ]
  },
  {
   "cell_type": "code",
   "execution_count": 61,
   "metadata": {},
   "outputs": [],
   "source": [
    "df_pull_inbound_oracle_verify_customer[\"transaction_timestamp\"] = (\n",
    "    df_pull_inbound_oracle_verify_customer\n",
    "        .block\n",
    "        .apply(\n",
    "            lambda block: block[\"timestamp\"]))"
   ]
  },
  {
   "cell_type": "code",
   "execution_count": 62,
   "metadata": {},
   "outputs": [],
   "source": [
    "df_pull_inbound_oracle_order[\"transaction_timestamp\"] = df_pull_inbound_oracle_order.block.apply(\n",
    "    lambda block: block[\"timestamp\"])"
   ]
  },
  {
   "cell_type": "markdown",
   "metadata": {},
   "source": [
    "### Push Outbound Oracle"
   ]
  },
  {
   "cell_type": "code",
   "execution_count": 63,
   "metadata": {},
   "outputs": [],
   "source": [
    "df_push_outbound_oracle_arrival[\"transaction_timestamp\"] = df_push_outbound_oracle_arrival.block.apply(\n",
    "    lambda block: block[\"timestamp\"])"
   ]
  },
  {
   "cell_type": "markdown",
   "metadata": {},
   "source": [
    "## Datetime"
   ]
  },
  {
   "cell_type": "code",
   "execution_count": 64,
   "metadata": {},
   "outputs": [],
   "source": [
    "def convert_timestamp_to_datetime(timestamp):\n",
    "    r\"\"\"Converts a timestamp to a datetime.\n",
    "    \"\"\"\n",
    "    return datetime.datetime.fromtimestamp(timestamp)"
   ]
  },
  {
   "cell_type": "markdown",
   "metadata": {},
   "source": [
    "### Push Inbound Oracle"
   ]
  },
  {
   "cell_type": "code",
   "execution_count": 65,
   "metadata": {},
   "outputs": [
    {
     "name": "stderr",
     "output_type": "stream",
     "text": [
      "/home/stefan/anaconda3/envs/blockchain/lib/python3.7/site-packages/ipykernel_launcher.py:2: SettingWithCopyWarning: \n",
      "A value is trying to be set on a copy of a slice from a DataFrame.\n",
      "Try using .loc[row_indexer,col_indexer] = value instead\n",
      "\n",
      "See the caveats in the documentation: http://pandas.pydata.org/pandas-docs/stable/user_guide/indexing.html#returning-a-view-versus-a-copy\n",
      "  \n",
      "/home/stefan/anaconda3/envs/blockchain/lib/python3.7/site-packages/ipykernel_launcher.py:5: SettingWithCopyWarning: \n",
      "A value is trying to be set on a copy of a slice from a DataFrame.\n",
      "Try using .loc[row_indexer,col_indexer] = value instead\n",
      "\n",
      "See the caveats in the documentation: http://pandas.pydata.org/pandas-docs/stable/user_guide/indexing.html#returning-a-view-versus-a-copy\n",
      "  \"\"\"\n"
     ]
    }
   ],
   "source": [
    "df_push_inbound_oracle_arrival[\"start_datetime\"] = df_push_inbound_oracle_arrival.apply(\n",
    "    lambda row: convert_timestamp_to_datetime(row[\"start_timestamp\"]), axis=PD_ROW)\n",
    "\n",
    "df_push_inbound_oracle_arrival[\"end_datetime\"] = df_push_inbound_oracle_arrival.apply(\n",
    "    lambda row: convert_timestamp_to_datetime(row[\"end_timestamp\"]), axis=PD_ROW)"
   ]
  },
  {
   "cell_type": "code",
   "execution_count": 66,
   "metadata": {},
   "outputs": [
    {
     "name": "stderr",
     "output_type": "stream",
     "text": [
      "/home/stefan/anaconda3/envs/blockchain/lib/python3.7/site-packages/ipykernel_launcher.py:2: SettingWithCopyWarning: \n",
      "A value is trying to be set on a copy of a slice from a DataFrame.\n",
      "Try using .loc[row_indexer,col_indexer] = value instead\n",
      "\n",
      "See the caveats in the documentation: http://pandas.pydata.org/pandas-docs/stable/user_guide/indexing.html#returning-a-view-versus-a-copy\n",
      "  \n"
     ]
    }
   ],
   "source": [
    "df_push_inbound_oracle_arrival[\"transaction_datetime\"] = df_push_inbound_oracle_arrival.apply(\n",
    "    lambda row: convert_timestamp_to_datetime(row[\"transaction_timestamp\"]), axis=PD_ROW)"
   ]
  },
  {
   "cell_type": "markdown",
   "metadata": {},
   "source": [
    "### Push Outbound Oracle"
   ]
  },
  {
   "cell_type": "code",
   "execution_count": 67,
   "metadata": {},
   "outputs": [],
   "source": [
    "df_push_outbound_oracle_arrival[\"received_datetime\"] = df_push_outbound_oracle_arrival.apply(\n",
    "    lambda row: convert_timestamp_to_datetime(row[\"received_timestamp\"]), axis=PD_ROW)"
   ]
  },
  {
   "cell_type": "code",
   "execution_count": 68,
   "metadata": {},
   "outputs": [],
   "source": [
    "df_push_outbound_oracle_arrival[\"transaction_datetime\"] = df_push_outbound_oracle_arrival.apply(\n",
    "    lambda row: convert_timestamp_to_datetime(row[\"transaction_timestamp\"]), axis=PD_ROW)"
   ]
  },
  {
   "cell_type": "code",
   "execution_count": 69,
   "metadata": {},
   "outputs": [],
   "source": [
    "df_push_outbound_oracle_arrival[\"arrival_creation_datetime\"] = (\n",
    "    df_push_outbound_oracle_arrival\n",
    "        .arrivalCreationTimestamp\n",
    "        .apply(\n",
    "            lambda arrivalCreationTimestamp: convert_timestamp_to_datetime(arrivalCreationTimestamp))\n",
    ")"
   ]
  },
  {
   "cell_type": "markdown",
   "metadata": {},
   "source": [
    "### Pull Inbound Oracle"
   ]
  },
  {
   "cell_type": "code",
   "execution_count": 70,
   "metadata": {},
   "outputs": [],
   "source": [
    "df_pull_inbound_oracle_verify_customer[\"start_datetime\"] = df_pull_inbound_oracle_verify_customer.apply(\n",
    "    lambda row: convert_timestamp_to_datetime(row[\"start_timestamp\"]), axis=PD_ROW)\n",
    "\n",
    "df_pull_inbound_oracle_verify_customer[\"end_datetime\"] = df_pull_inbound_oracle_verify_customer.apply(\n",
    "    lambda row: convert_timestamp_to_datetime(row[\"end_timestamp\"]), axis=PD_ROW)"
   ]
  },
  {
   "cell_type": "code",
   "execution_count": 71,
   "metadata": {},
   "outputs": [],
   "source": [
    "df_pull_inbound_oracle_verify_customer[\"transaction_datetime\"] = df_pull_inbound_oracle_verify_customer.apply(\n",
    "    lambda row: convert_timestamp_to_datetime(row[\"transaction_timestamp\"]), axis=PD_ROW)"
   ]
  },
  {
   "cell_type": "code",
   "execution_count": 72,
   "metadata": {},
   "outputs": [],
   "source": [
    "df_pull_inbound_oracle_order[\"order_start_datetime\"] = df_pull_inbound_oracle_order.apply(\n",
    "    lambda row: convert_timestamp_to_datetime(row[\"order_start_timestamp\"]), axis=PD_ROW)\n",
    "\n",
    "df_pull_inbound_oracle_order[\"order_end_datetime\"] = df_pull_inbound_oracle_order.apply(\n",
    "    lambda row: convert_timestamp_to_datetime(row[\"order_end_timestamp\"]), axis=PD_ROW)\n",
    "\n",
    "df_pull_inbound_oracle_order[\"verify_customer_received_datetime\"] = df_pull_inbound_oracle_order.apply(\n",
    "    lambda row: convert_timestamp_to_datetime(row[\"verify_customer_received_timestamp\"]), axis=PD_ROW)"
   ]
  },
  {
   "cell_type": "code",
   "execution_count": 73,
   "metadata": {},
   "outputs": [],
   "source": [
    "df_pull_inbound_oracle_order[\"transaction_datetime\"] = (\n",
    "    df_pull_inbound_oracle_order\n",
    "        .transaction_timestamp\n",
    "        .apply(\n",
    "            lambda transaction_timestamp: convert_timestamp_to_datetime(transaction_timestamp)))"
   ]
  },
  {
   "cell_type": "markdown",
   "metadata": {},
   "source": [
    "### Pull Outbound Oracle"
   ]
  },
  {
   "cell_type": "code",
   "execution_count": 74,
   "metadata": {},
   "outputs": [],
   "source": [
    "df_pull_outbound_oracle_arrival[\"start_datetime\"] = df_pull_outbound_oracle_arrival.apply(\n",
    "    lambda row: convert_timestamp_to_datetime(row[\"start_timestamp\"]), axis=PD_ROW)\n",
    "\n",
    "df_pull_outbound_oracle_arrival[\"end_datetime\"] = df_pull_outbound_oracle_arrival.apply(\n",
    "    lambda row: convert_timestamp_to_datetime(row[\"end_timestamp\"]), axis=PD_ROW)"
   ]
  },
  {
   "cell_type": "markdown",
   "metadata": {},
   "source": [
    "## $dt$\n",
    "$dt$ can be defined in the following ways\n",
    "- either we measure the time we get the transaction hash, or\n",
    "- the time the transaction gets mined\n",
    "\n",
    "### Push Inbound Oracle"
   ]
  },
  {
   "cell_type": "code",
   "execution_count": 75,
   "metadata": {},
   "outputs": [
    {
     "name": "stderr",
     "output_type": "stream",
     "text": [
      "/home/stefan/anaconda3/envs/blockchain/lib/python3.7/site-packages/ipykernel_launcher.py:2: SettingWithCopyWarning: \n",
      "A value is trying to be set on a copy of a slice from a DataFrame.\n",
      "Try using .loc[row_indexer,col_indexer] = value instead\n",
      "\n",
      "See the caveats in the documentation: http://pandas.pydata.org/pandas-docs/stable/user_guide/indexing.html#returning-a-view-versus-a-copy\n",
      "  \n"
     ]
    }
   ],
   "source": [
    "df_push_inbound_oracle_arrival[\"dt_transaction_hash\"] = df_push_inbound_oracle_arrival.apply(\n",
    "    lambda row: row[\"end_datetime\"] - row[\"start_datetime\"], axis=PD_ROW)"
   ]
  },
  {
   "cell_type": "code",
   "execution_count": 76,
   "metadata": {},
   "outputs": [
    {
     "name": "stderr",
     "output_type": "stream",
     "text": [
      "/home/stefan/anaconda3/envs/blockchain/lib/python3.7/site-packages/ipykernel_launcher.py:2: SettingWithCopyWarning: \n",
      "A value is trying to be set on a copy of a slice from a DataFrame.\n",
      "Try using .loc[row_indexer,col_indexer] = value instead\n",
      "\n",
      "See the caveats in the documentation: http://pandas.pydata.org/pandas-docs/stable/user_guide/indexing.html#returning-a-view-versus-a-copy\n",
      "  \n"
     ]
    }
   ],
   "source": [
    "df_push_inbound_oracle_arrival[\"dt_transaction_hash_seconds\"] = df_push_inbound_oracle_arrival.apply(\n",
    "    lambda row: row[\"dt_transaction_hash\"].seconds, axis=PD_ROW)"
   ]
  },
  {
   "cell_type": "code",
   "execution_count": 77,
   "metadata": {},
   "outputs": [
    {
     "name": "stderr",
     "output_type": "stream",
     "text": [
      "/home/stefan/anaconda3/envs/blockchain/lib/python3.7/site-packages/ipykernel_launcher.py:4: SettingWithCopyWarning: \n",
      "A value is trying to be set on a copy of a slice from a DataFrame.\n",
      "Try using .loc[row_indexer,col_indexer] = value instead\n",
      "\n",
      "See the caveats in the documentation: http://pandas.pydata.org/pandas-docs/stable/user_guide/indexing.html#returning-a-view-versus-a-copy\n",
      "  after removing the cwd from sys.path.\n"
     ]
    }
   ],
   "source": [
    "df_push_inbound_oracle_arrival[\"dt_transaction_hash_seconds_total\"] = (\n",
    "    df_push_inbound_oracle_arrival\n",
    "        .dt_transaction_hash\n",
    "        .apply(lambda dt_transaction_hash: dt_transaction_hash.total_seconds()))"
   ]
  },
  {
   "cell_type": "code",
   "execution_count": 78,
   "metadata": {},
   "outputs": [
    {
     "name": "stderr",
     "output_type": "stream",
     "text": [
      "/home/stefan/anaconda3/envs/blockchain/lib/python3.7/site-packages/ipykernel_launcher.py:2: SettingWithCopyWarning: \n",
      "A value is trying to be set on a copy of a slice from a DataFrame.\n",
      "Try using .loc[row_indexer,col_indexer] = value instead\n",
      "\n",
      "See the caveats in the documentation: http://pandas.pydata.org/pandas-docs/stable/user_guide/indexing.html#returning-a-view-versus-a-copy\n",
      "  \n"
     ]
    }
   ],
   "source": [
    "df_push_inbound_oracle_arrival[\"dt_transaction_hash_microseconds\"] = df_push_inbound_oracle_arrival.apply(\n",
    "    lambda row: row[\"dt_transaction_hash\"].microseconds, axis=PD_ROW)"
   ]
  },
  {
   "cell_type": "code",
   "execution_count": 79,
   "metadata": {},
   "outputs": [
    {
     "name": "stderr",
     "output_type": "stream",
     "text": [
      "/home/stefan/anaconda3/envs/blockchain/lib/python3.7/site-packages/ipykernel_launcher.py:2: SettingWithCopyWarning: \n",
      "A value is trying to be set on a copy of a slice from a DataFrame.\n",
      "Try using .loc[row_indexer,col_indexer] = value instead\n",
      "\n",
      "See the caveats in the documentation: http://pandas.pydata.org/pandas-docs/stable/user_guide/indexing.html#returning-a-view-versus-a-copy\n",
      "  \n"
     ]
    }
   ],
   "source": [
    "df_push_inbound_oracle_arrival[\"dt_transaction_mined\"] = df_push_inbound_oracle_arrival.apply(\n",
    "    lambda row: row[\"transaction_datetime\"] - row[\"start_datetime\"], axis=PD_ROW)"
   ]
  },
  {
   "cell_type": "code",
   "execution_count": 80,
   "metadata": {},
   "outputs": [
    {
     "name": "stderr",
     "output_type": "stream",
     "text": [
      "/home/stefan/anaconda3/envs/blockchain/lib/python3.7/site-packages/ipykernel_launcher.py:4: SettingWithCopyWarning: \n",
      "A value is trying to be set on a copy of a slice from a DataFrame.\n",
      "Try using .loc[row_indexer,col_indexer] = value instead\n",
      "\n",
      "See the caveats in the documentation: http://pandas.pydata.org/pandas-docs/stable/user_guide/indexing.html#returning-a-view-versus-a-copy\n",
      "  after removing the cwd from sys.path.\n"
     ]
    }
   ],
   "source": [
    "df_push_inbound_oracle_arrival[\"dt_transaction_mined_seconds\"] = (\n",
    "    df_push_inbound_oracle_arrival\n",
    "        .dt_transaction_mined\n",
    "        .apply(lambda dt_block: dt_block.seconds))"
   ]
  },
  {
   "cell_type": "code",
   "execution_count": 81,
   "metadata": {},
   "outputs": [
    {
     "name": "stderr",
     "output_type": "stream",
     "text": [
      "/home/stefan/anaconda3/envs/blockchain/lib/python3.7/site-packages/ipykernel_launcher.py:4: SettingWithCopyWarning: \n",
      "A value is trying to be set on a copy of a slice from a DataFrame.\n",
      "Try using .loc[row_indexer,col_indexer] = value instead\n",
      "\n",
      "See the caveats in the documentation: http://pandas.pydata.org/pandas-docs/stable/user_guide/indexing.html#returning-a-view-versus-a-copy\n",
      "  after removing the cwd from sys.path.\n"
     ]
    }
   ],
   "source": [
    "df_push_inbound_oracle_arrival[\"dt_transaction_mined_seconds_total\"] = (\n",
    "    df_push_inbound_oracle_arrival\n",
    "        .dt_transaction_mined\n",
    "        .apply(lambda dt_block: dt_block.total_seconds()))"
   ]
  },
  {
   "cell_type": "markdown",
   "metadata": {},
   "source": [
    "### Push Outbound Oracle  \n"
   ]
  },
  {
   "cell_type": "code",
   "execution_count": 82,
   "metadata": {},
   "outputs": [],
   "source": [
    "df_push_outbound_oracle_arrival[\"dt_transaction_mined\"] = df_push_outbound_oracle_arrival.apply(\n",
    "    lambda row: row[\"received_datetime\"] - row[\"transaction_datetime\"], axis=PD_ROW)"
   ]
  },
  {
   "cell_type": "code",
   "execution_count": 83,
   "metadata": {},
   "outputs": [],
   "source": [
    "df_push_outbound_oracle_arrival[\"dt_transaction_mined_seconds_total\"] = (\n",
    "    df_push_outbound_oracle_arrival\n",
    "        .dt_transaction_mined\n",
    "        .apply(lambda dt: dt.total_seconds()))"
   ]
  },
  {
   "cell_type": "code",
   "execution_count": 84,
   "metadata": {},
   "outputs": [],
   "source": [
    "df_push_outbound_oracle_arrival[\"dt_round_trip_time\"] = df_push_outbound_oracle_arrival.apply(\n",
    "    lambda row: row[\"received_datetime\"] - row[\"arrival_creation_datetime\"], axis=PD_ROW)"
   ]
  },
  {
   "cell_type": "code",
   "execution_count": 85,
   "metadata": {},
   "outputs": [],
   "source": [
    "df_push_outbound_oracle_arrival[\"dt_round_trip_time_seconds_total\"] = (\n",
    "    df_push_outbound_oracle_arrival\n",
    "        .dt_round_trip_time\n",
    "        .apply(\n",
    "            lambda dt_round_trip_time: dt_round_trip_time.total_seconds()) \n",
    ")"
   ]
  },
  {
   "cell_type": "markdown",
   "metadata": {},
   "source": [
    "### Pull Inbound Oracle"
   ]
  },
  {
   "cell_type": "code",
   "execution_count": 86,
   "metadata": {},
   "outputs": [],
   "source": [
    "df_pull_inbound_oracle_order[\"dt_transaction_hash\"] = df_pull_inbound_oracle_order.apply(\n",
    "    lambda row: row[\"order_end_datetime\"] - row[\"order_start_datetime\"], axis=PD_ROW)"
   ]
  },
  {
   "cell_type": "code",
   "execution_count": 87,
   "metadata": {},
   "outputs": [],
   "source": [
    "df_pull_inbound_oracle_order[\"dt_transaction_hash_seconds_total\"] = (\n",
    "    df_pull_inbound_oracle_order\n",
    "        .dt_transaction_hash\n",
    "        .apply(lambda dt_transaction_hash: dt_transaction_hash.total_seconds()))"
   ]
  },
  {
   "cell_type": "code",
   "execution_count": 88,
   "metadata": {},
   "outputs": [],
   "source": [
    "df_pull_inbound_oracle_order[\"dt_transaction_mined\"] = df_pull_inbound_oracle_order.apply(\n",
    "    lambda row: row[\"transaction_datetime\"] - row[\"verify_customer_received_datetime\"], axis=PD_ROW)"
   ]
  },
  {
   "cell_type": "code",
   "execution_count": 89,
   "metadata": {},
   "outputs": [],
   "source": [
    "df_pull_inbound_oracle_order[\"dt_transaction_mined_seconds_total\"] = (\n",
    "    df_pull_inbound_oracle_order\n",
    "        .dt_transaction_mined\n",
    "        .apply(lambda dt: dt.total_seconds()))"
   ]
  },
  {
   "cell_type": "code",
   "execution_count": 90,
   "metadata": {},
   "outputs": [
    {
     "data": {
      "text/plain": [
       "Index(['_id', 'transaction_hash', 'start_timestamp', 'end_timestamp',\n",
       "       'document', 'transaction', 'block', 'transaction_timestamp',\n",
       "       'start_datetime', 'end_datetime', 'transaction_datetime'],\n",
       "      dtype='object')"
      ]
     },
     "execution_count": 90,
     "metadata": {},
     "output_type": "execute_result"
    }
   ],
   "source": [
    "df_pull_inbound_oracle_verify_customer.columns"
   ]
  },
  {
   "cell_type": "markdown",
   "metadata": {},
   "source": [
    "### Pull Outbound Oracle"
   ]
  },
  {
   "cell_type": "code",
   "execution_count": 92,
   "metadata": {},
   "outputs": [],
   "source": [
    "df_pull_outbound_oracle_arrival[\"dt_transaction_hash\"] = (\n",
    "    df_pull_outbound_oracle_arrival\n",
    "        .apply(lambda row: row[\"end_datetime\"] - row[\"start_datetime\"], axis=PD_ROW))"
   ]
  },
  {
   "cell_type": "code",
   "execution_count": 93,
   "metadata": {},
   "outputs": [],
   "source": [
    "df_pull_outbound_oracle_arrival[\"dt_transactoin_hash_seconds\"] = (\n",
    "    df_pull_outbound_oracle_arrival\n",
    "        .dt_transaction_hash\n",
    "        .apply(lambda dt: dt.seconds))"
   ]
  },
  {
   "cell_type": "code",
   "execution_count": 94,
   "metadata": {},
   "outputs": [],
   "source": [
    "df_pull_outbound_oracle_arrival[\"dt_transaction_hash_seconds_total\"] = (\n",
    "    df_pull_outbound_oracle_arrival\n",
    "        .dt_transaction_hash\n",
    "        .apply(lambda dt: dt.total_seconds()))"
   ]
  },
  {
   "cell_type": "code",
   "execution_count": 95,
   "metadata": {},
   "outputs": [],
   "source": [
    "df_pull_outbound_oracle_arrival[\"dt_transaction_hash_microseconds\"] = (\n",
    "    df_pull_outbound_oracle_arrival\n",
    "        .dt_transaction_hash\n",
    "        .apply(lambda dt: dt.microseconds))"
   ]
  },
  {
   "cell_type": "markdown",
   "metadata": {},
   "source": [
    "## Gas\n",
    "This includes the gas limit of the transaction and the actually used gas."
   ]
  },
  {
   "cell_type": "markdown",
   "metadata": {},
   "source": [
    "### Push Inbound Oracle"
   ]
  },
  {
   "cell_type": "code",
   "execution_count": 96,
   "metadata": {},
   "outputs": [
    {
     "name": "stderr",
     "output_type": "stream",
     "text": [
      "/home/stefan/anaconda3/envs/blockchain/lib/python3.7/site-packages/ipykernel_launcher.py:2: SettingWithCopyWarning: \n",
      "A value is trying to be set on a copy of a slice from a DataFrame.\n",
      "Try using .loc[row_indexer,col_indexer] = value instead\n",
      "\n",
      "See the caveats in the documentation: http://pandas.pydata.org/pandas-docs/stable/user_guide/indexing.html#returning-a-view-versus-a-copy\n",
      "  \n"
     ]
    }
   ],
   "source": [
    "df_push_inbound_oracle_arrival[\"transactionGasLimit\"] = df_push_inbound_oracle_arrival.transaction.apply(\n",
    "    lambda transaction: transaction[\"gas\"])"
   ]
  },
  {
   "cell_type": "code",
   "execution_count": 97,
   "metadata": {},
   "outputs": [
    {
     "name": "stderr",
     "output_type": "stream",
     "text": [
      "/home/stefan/anaconda3/envs/blockchain/lib/python3.7/site-packages/ipykernel_launcher.py:2: SettingWithCopyWarning: \n",
      "A value is trying to be set on a copy of a slice from a DataFrame.\n",
      "Try using .loc[row_indexer,col_indexer] = value instead\n",
      "\n",
      "See the caveats in the documentation: http://pandas.pydata.org/pandas-docs/stable/user_guide/indexing.html#returning-a-view-versus-a-copy\n",
      "  \n"
     ]
    }
   ],
   "source": [
    "df_push_inbound_oracle_arrival[\"transactionGasUsed\"] = df_push_inbound_oracle_arrival.transaction_hash.apply(\n",
    "    lambda transaction_hash: w3.eth.getTransactionReceipt(transaction_hash).gasUsed)"
   ]
  },
  {
   "cell_type": "markdown",
   "metadata": {},
   "source": [
    "### Push Outbound Oracle\n",
    "We dont have to pay anything because reading is for free."
   ]
  },
  {
   "cell_type": "markdown",
   "metadata": {},
   "source": [
    "### Pull Inbound Oracle"
   ]
  },
  {
   "cell_type": "code",
   "execution_count": 98,
   "metadata": {},
   "outputs": [],
   "source": [
    "df_pull_inbound_oracle_order[\"transactionGasLimit\"] = df_pull_inbound_oracle_order.transaction.apply(\n",
    "    lambda transaction: transaction[\"gas\"])"
   ]
  },
  {
   "cell_type": "code",
   "execution_count": 99,
   "metadata": {},
   "outputs": [],
   "source": [
    "df_pull_inbound_oracle_order[\"transactionGasUsed\"] = df_pull_inbound_oracle_order.transaction_hash.apply(\n",
    "    lambda transaction_hash: w3.eth.getTransactionReceipt(transaction_hash).gasUsed)"
   ]
  },
  {
   "cell_type": "markdown",
   "metadata": {},
   "source": [
    "### Pull Outbound Oracle\n",
    "We do not have to pay anything because reading is for free."
   ]
  },
  {
   "cell_type": "markdown",
   "metadata": {},
   "source": [
    "## Add Columns Gas Price in Gwei and Ether\n",
    "Convert [Wei to Ether](https://web3py.readthedocs.io/en/stable/examples.html?highlight=gwei#currency-conversions). "
   ]
  },
  {
   "cell_type": "markdown",
   "metadata": {},
   "source": [
    "### Push Inbound Oracle"
   ]
  },
  {
   "cell_type": "code",
   "execution_count": 100,
   "metadata": {},
   "outputs": [
    {
     "name": "stderr",
     "output_type": "stream",
     "text": [
      "/home/stefan/anaconda3/envs/blockchain/lib/python3.7/site-packages/ipykernel_launcher.py:2: SettingWithCopyWarning: \n",
      "A value is trying to be set on a copy of a slice from a DataFrame.\n",
      "Try using .loc[row_indexer,col_indexer] = value instead\n",
      "\n",
      "See the caveats in the documentation: http://pandas.pydata.org/pandas-docs/stable/user_guide/indexing.html#returning-a-view-versus-a-copy\n",
      "  \n"
     ]
    }
   ],
   "source": [
    "df_push_inbound_oracle_arrival[\"gasPriceEther\"] = df_push_inbound_oracle_arrival.transaction.apply(\n",
    "    lambda transaction: w3.fromWei(transaction[\"gasPrice\"], \"ether\"))"
   ]
  },
  {
   "cell_type": "code",
   "execution_count": 101,
   "metadata": {},
   "outputs": [
    {
     "name": "stderr",
     "output_type": "stream",
     "text": [
      "/home/stefan/anaconda3/envs/blockchain/lib/python3.7/site-packages/ipykernel_launcher.py:2: SettingWithCopyWarning: \n",
      "A value is trying to be set on a copy of a slice from a DataFrame.\n",
      "Try using .loc[row_indexer,col_indexer] = value instead\n",
      "\n",
      "See the caveats in the documentation: http://pandas.pydata.org/pandas-docs/stable/user_guide/indexing.html#returning-a-view-versus-a-copy\n",
      "  \n"
     ]
    }
   ],
   "source": [
    "df_push_inbound_oracle_arrival[\"gasPriceGwei\"] = df_push_inbound_oracle_arrival.transaction.apply(\n",
    "    lambda transaction: w3.fromWei(transaction[\"gasPrice\"], \"gwei\"))"
   ]
  },
  {
   "cell_type": "markdown",
   "metadata": {},
   "source": [
    "### Pull Inbound Oracle"
   ]
  },
  {
   "cell_type": "code",
   "execution_count": 102,
   "metadata": {},
   "outputs": [],
   "source": [
    "df_pull_inbound_oracle_order[\"gasPriceEther\"] = df_pull_inbound_oracle_order.transaction.apply(\n",
    "    lambda transaction: w3.fromWei(transaction[\"gasPrice\"], \"ether\"))"
   ]
  },
  {
   "cell_type": "code",
   "execution_count": 103,
   "metadata": {},
   "outputs": [],
   "source": [
    "df_pull_inbound_oracle_order[\"gasPriceGwei\"] = df_pull_inbound_oracle_order.transaction.apply(\n",
    "    lambda transaction: w3.fromWei(transaction[\"gasPrice\"], \"gwei\"))"
   ]
  },
  {
   "cell_type": "markdown",
   "metadata": {},
   "source": [
    "## Add Columns Transaction Fee in Wei, Gwei, Ether, and Euro\n",
    "[Ethereum Price Index](https://cointelegraph.com/ethereum-price-index)\n",
    "[Coinbase](https://www.coinbase.com/price/ethereum?locale=de)\n",
    "\n",
    "$144.17$ € for 1 Ether (15. April 2020).\n",
    "\n",
    "$165.24$ € for 1 Ether (22. April 2020).\n",
    "\n",
    "$ \\mu_{€} = 154.70 $"
   ]
  },
  {
   "cell_type": "code",
   "execution_count": 104,
   "metadata": {},
   "outputs": [],
   "source": [
    "mu_euro = 154.70"
   ]
  },
  {
   "cell_type": "markdown",
   "metadata": {},
   "source": [
    "### Push Inbound Oracle"
   ]
  },
  {
   "cell_type": "code",
   "execution_count": 105,
   "metadata": {},
   "outputs": [
    {
     "name": "stderr",
     "output_type": "stream",
     "text": [
      "/home/stefan/anaconda3/envs/blockchain/lib/python3.7/site-packages/ipykernel_launcher.py:2: SettingWithCopyWarning: \n",
      "A value is trying to be set on a copy of a slice from a DataFrame.\n",
      "Try using .loc[row_indexer,col_indexer] = value instead\n",
      "\n",
      "See the caveats in the documentation: http://pandas.pydata.org/pandas-docs/stable/user_guide/indexing.html#returning-a-view-versus-a-copy\n",
      "  \n",
      "/home/stefan/anaconda3/envs/blockchain/lib/python3.7/site-packages/ipykernel_launcher.py:5: SettingWithCopyWarning: \n",
      "A value is trying to be set on a copy of a slice from a DataFrame.\n",
      "Try using .loc[row_indexer,col_indexer] = value instead\n",
      "\n",
      "See the caveats in the documentation: http://pandas.pydata.org/pandas-docs/stable/user_guide/indexing.html#returning-a-view-versus-a-copy\n",
      "  \"\"\"\n",
      "/home/stefan/anaconda3/envs/blockchain/lib/python3.7/site-packages/ipykernel_launcher.py:8: SettingWithCopyWarning: \n",
      "A value is trying to be set on a copy of a slice from a DataFrame.\n",
      "Try using .loc[row_indexer,col_indexer] = value instead\n",
      "\n",
      "See the caveats in the documentation: http://pandas.pydata.org/pandas-docs/stable/user_guide/indexing.html#returning-a-view-versus-a-copy\n",
      "  \n"
     ]
    }
   ],
   "source": [
    "df_push_inbound_oracle_arrival[\"transactionFeeWei\"] = df_push_inbound_oracle_arrival.apply(\n",
    "    lambda row: row[\"transactionGasUsed\"] * row[\"transaction\"][\"gasPrice\"], axis=PD_ROW)\n",
    "\n",
    "df_push_inbound_oracle_arrival[\"transactionFeeGwei\"] = df_push_inbound_oracle_arrival.apply(\n",
    "    lambda row: row[\"transactionGasUsed\"] * row[\"gasPriceGwei\"], axis=PD_ROW)\n",
    "\n",
    "df_push_inbound_oracle_arrival[\"transactionFeeEther\"] = df_push_inbound_oracle_arrival.apply(\n",
    "    lambda row: row[\"transactionGasUsed\"] * row[\"gasPriceEther\"], axis=PD_ROW)"
   ]
  },
  {
   "cell_type": "code",
   "execution_count": 106,
   "metadata": {},
   "outputs": [
    {
     "name": "stderr",
     "output_type": "stream",
     "text": [
      "/home/stefan/anaconda3/envs/blockchain/lib/python3.7/site-packages/ipykernel_launcher.py:5: SettingWithCopyWarning: \n",
      "A value is trying to be set on a copy of a slice from a DataFrame.\n",
      "Try using .loc[row_indexer,col_indexer] = value instead\n",
      "\n",
      "See the caveats in the documentation: http://pandas.pydata.org/pandas-docs/stable/user_guide/indexing.html#returning-a-view-versus-a-copy\n",
      "  \"\"\"\n"
     ]
    }
   ],
   "source": [
    "df_push_inbound_oracle_arrival[\"transactionFeeEuroAverage\"] = (\n",
    "    df_push_inbound_oracle_arrival\n",
    "        .transactionFeeEther\n",
    "        .apply(\n",
    "            lambda transactionFeeEther: float(transactionFeeEther) * mu_euro))"
   ]
  },
  {
   "cell_type": "markdown",
   "metadata": {},
   "source": [
    "### Pull Inbound Oracle"
   ]
  },
  {
   "cell_type": "code",
   "execution_count": 107,
   "metadata": {},
   "outputs": [],
   "source": [
    "df_pull_inbound_oracle_order[\"transactionFeeWei\"] = df_pull_inbound_oracle_order.apply(\n",
    "    lambda row: row[\"transactionGasUsed\"] * row[\"transaction\"][\"gasPrice\"], axis=PD_ROW)\n",
    "\n",
    "df_pull_inbound_oracle_order[\"transactionFeeGwei\"] = df_pull_inbound_oracle_order.apply(\n",
    "    lambda row: row[\"transactionGasUsed\"] * row[\"gasPriceGwei\"], axis=PD_ROW)\n",
    "\n",
    "df_pull_inbound_oracle_order[\"transactionFeeEther\"] = df_pull_inbound_oracle_order.apply(\n",
    "    lambda row: row[\"transactionGasUsed\"] * row[\"gasPriceEther\"], axis=PD_ROW)"
   ]
  },
  {
   "cell_type": "code",
   "execution_count": 108,
   "metadata": {},
   "outputs": [],
   "source": [
    "df_pull_inbound_oracle_order[\"transactionFeeEuroAverage\"] = (\n",
    "    df_push_inbound_oracle_arrival\n",
    "        .transactionFeeEther\n",
    "        .apply(\n",
    "            lambda transactionFeeEther: float(transactionFeeEther) * mu_euro))"
   ]
  },
  {
   "cell_type": "markdown",
   "metadata": {},
   "source": [
    "## Transaction Count in Block"
   ]
  },
  {
   "cell_type": "code",
   "execution_count": 109,
   "metadata": {},
   "outputs": [],
   "source": [
    "COLUMN_NAME = \"transactionCountInBlock\""
   ]
  },
  {
   "cell_type": "markdown",
   "metadata": {},
   "source": [
    "### Push Inbound Oracle"
   ]
  },
  {
   "cell_type": "code",
   "execution_count": 110,
   "metadata": {},
   "outputs": [
    {
     "name": "stderr",
     "output_type": "stream",
     "text": [
      "/home/stefan/anaconda3/envs/blockchain/lib/python3.7/site-packages/ipykernel_launcher.py:2: SettingWithCopyWarning: \n",
      "A value is trying to be set on a copy of a slice from a DataFrame.\n",
      "Try using .loc[row_indexer,col_indexer] = value instead\n",
      "\n",
      "See the caveats in the documentation: http://pandas.pydata.org/pandas-docs/stable/user_guide/indexing.html#returning-a-view-versus-a-copy\n",
      "  \n"
     ]
    }
   ],
   "source": [
    "df_push_inbound_oracle_arrival[COLUMN_NAME] = df_push_inbound_oracle_arrival.block.apply(\n",
    "    lambda block: len(block[\"transactions\"]))"
   ]
  },
  {
   "cell_type": "markdown",
   "metadata": {},
   "source": [
    "### Pull Inbound Oracle"
   ]
  },
  {
   "cell_type": "code",
   "execution_count": 111,
   "metadata": {},
   "outputs": [],
   "source": [
    "df_pull_inbound_oracle_order[COLUMN_NAME] = df_pull_inbound_oracle_order.block.apply(\n",
    "    lambda block: len(block[\"transactions\"]))"
   ]
  },
  {
   "cell_type": "markdown",
   "metadata": {},
   "source": [
    "### Push Outbound Oracle"
   ]
  },
  {
   "cell_type": "code",
   "execution_count": 112,
   "metadata": {},
   "outputs": [],
   "source": [
    "df_push_outbound_oracle_arrival[COLUMN_NAME] = df_push_outbound_oracle_arrival.block.apply(\n",
    "    lambda block: len(block[\"transactions\"]))"
   ]
  },
  {
   "cell_type": "markdown",
   "metadata": {},
   "source": [
    "### Pull Outbound Oracle\n",
    "This does not make sense, does it?"
   ]
  },
  {
   "cell_type": "markdown",
   "metadata": {},
   "source": [
    "# Descriptive Statistics"
   ]
  },
  {
   "cell_type": "markdown",
   "metadata": {},
   "source": [
    "# $dt$"
   ]
  },
  {
   "cell_type": "code",
   "execution_count": 113,
   "metadata": {
    "scrolled": true
   },
   "outputs": [
    {
     "data": {
      "text/plain": [
       "(149, 27)"
      ]
     },
     "execution_count": 113,
     "metadata": {},
     "output_type": "execute_result"
    }
   ],
   "source": [
    "df_push_inbound_oracle_arrival[df_push_inbound_oracle_arrival.dt_transaction_mined_seconds_total < 0].shape"
   ]
  },
  {
   "cell_type": "markdown",
   "metadata": {},
   "source": [
    "Figure that depicts $dt$ for each oracle. We use the transaction mined timestamp for the Push Inbound Oracle, the Push Outbound Oracle, and the Pull Inbound Oracle. It makes sense to use this $dt$ since they either write to the blockhain (Push Inbound and Pull Inbound), or it is necessary as they are deployed in time critical circumstances (Push Outbound). Pull Outbound is different as it is an ad hoc read operation. This means that the limit of the pull outbound oracle's $dt$ is the push outbound oracle."
   ]
  },
  {
   "cell_type": "code",
   "execution_count": 114,
   "metadata": {
    "scrolled": false
   },
   "outputs": [
    {
     "data": {
      "image/png": "[encoded data removed]",
      "text/plain": [
       "<Figure size 1152x1296 with 4 Axes>"
      ]
     },
     "metadata": {
      "needs_background": "light"
     },
     "output_type": "display_data"
    }
   ],
   "source": [
    "FONT_SIZE = \"xx-large\"\n",
    "\n",
    "fig, (ax1, ax2, ax3, ax4) = plt.subplots(\n",
    "    nrows=4,\n",
    "    ncols=1,\n",
    "    figsize=(16, 18))\n",
    "\n",
    "fig.suptitle(\n",
    "    \"Time Performance for each Oracle\",\n",
    "    y=0.92,\n",
    "    fontsize=24)\n",
    "\n",
    "\n",
    "\n",
    "ax1.boxplot(\n",
    "    df_push_inbound_oracle_arrival.dt_transaction_mined_seconds_total,\n",
    "    notch=True,\n",
    "    vert=False)\n",
    "\n",
    "ax1.tick_params(\n",
    "    left=False, labelleft=False)\n",
    "\n",
    "ax1.set_xlabel(\"$dt_{Transaction Mined}$ [seconds]\", fontsize=\"x-large\")\n",
    "\n",
    "ax1.set_ylabel(\"Push Inbound Oracle\", fontsize=FONT_SIZE)\n",
    "\n",
    "\n",
    "\n",
    "ax2.boxplot(\n",
    "    df_pull_inbound_oracle_order.dt_transaction_mined_seconds_total,\n",
    "    notch=True,\n",
    "    vert=False)\n",
    "\n",
    "ax2.tick_params(\n",
    "    left=False, labelleft=False)\n",
    "\n",
    "ax2.set_xlabel(\"$dt_{Transaction Mined}$ [seconds]\", fontsize=\"x-large\")\n",
    "\n",
    "ax2.set_ylabel(\"Pull Inbound Oracle\", fontsize=FONT_SIZE)\n",
    "\n",
    "\n",
    "ax3.boxplot(\n",
    "    df_push_outbound_oracle_arrival.dt_transaction_mined_seconds_total,\n",
    "    notch=True,\n",
    "    vert=False)\n",
    "\n",
    "ax3.tick_params(\n",
    "    left=False, labelleft=False)\n",
    "\n",
    "ax3.set_xlabel(\"$dt_{Transaction Mined}$ [seconds]\", fontsize=\"x-large\")\n",
    "\n",
    "ax3.set_ylabel(\"Push Outbound Oracle\", fontsize=FONT_SIZE)\n",
    "\n",
    "\n",
    "\n",
    "ax4.boxplot(\n",
    "    df_pull_outbound_oracle_arrival.dt_transaction_hash_seconds_total,\n",
    "    notch=True,\n",
    "    vert=False)\n",
    "\n",
    "ax4.tick_params(\n",
    "    left=False, labelleft=False)\n",
    "\n",
    "ax4.set_xlabel(\"$dt$ [seconds]\", fontsize=\"x-large\")\n",
    "\n",
    "ax4.set_ylabel(\"Pull Outbound Oracle\", fontsize=FONT_SIZE)\n",
    "\n",
    "\n",
    "fig.savefig(\"qa_boxplot_time_performance_for_each_oracle.pdf\", dpi=400)"
   ]
  },
  {
   "cell_type": "code",
   "execution_count": 115,
   "metadata": {},
   "outputs": [
    {
     "data": {
      "image/png": "[encoded data removed]",
      "text/plain": [
       "<Figure size 1152x864 with 3 Axes>"
      ]
     },
     "metadata": {
      "needs_background": "light"
     },
     "output_type": "display_data"
    }
   ],
   "source": [
    "FONT_SIZE = \"xx-large\"\n",
    "\n",
    "fig, (ax1, ax2, ax3) = plt.subplots(\n",
    "    nrows=3,\n",
    "    ncols=1,\n",
    "    figsize=(16, 12))\n",
    "\n",
    "fig.suptitle(\n",
    "    \"Time Performance for Push Inbound Oracle\",\n",
    "    y=0.92,\n",
    "    fontsize=24)\n",
    "\n",
    "\n",
    "\n",
    "ax1.boxplot(\n",
    "    df_push_inbound_oracle_arrival.dt_transaction_hash_seconds_total,\n",
    "    notch=True,\n",
    "    vert=False)\n",
    "\n",
    "ax1.tick_params(\n",
    "    left=False, labelleft=False)\n",
    "\n",
    "ax1.set_xlabel(\"$dt_{Transaction Hash}$ [seconds]\", fontsize=\"x-large\")\n",
    "ax1.set_xlim(0, 2.5)\n",
    "\n",
    "ax1.set_ylabel(\"All\", fontsize=FONT_SIZE)\n",
    "\n",
    "\n",
    "\n",
    "ax2.boxplot(\n",
    "    df_push_inbound_oracle_arrival.dt_transaction_mined_seconds_total,\n",
    "    notch=True,\n",
    "    vert=False)\n",
    "\n",
    "ax2.tick_params(\n",
    "    left=False, labelleft=False)\n",
    "\n",
    "ax2.set_xlabel(\"$dt_{Transaction Mined}$ [seconds]\", fontsize=\"x-large\")\n",
    "\n",
    "ax2.set_ylabel(\"All\", fontsize=FONT_SIZE)\n",
    "\n",
    "\n",
    "LONGEST_DELETED = 10\n",
    "ax3.boxplot(\n",
    "    (df_push_inbound_oracle_arrival.sort_values('dt_transaction_mined_seconds_total', ascending=False)\n",
    "                                   .dt_transaction_mined_seconds_total[LONGEST_DELETED:]\n",
    "                                   [df_push_inbound_oracle_arrival.dt_transaction_mined_seconds_total > 0]),\n",
    "    notch=True,\n",
    "    vert=False)\n",
    "\n",
    "ax3.tick_params(\n",
    "    left=False, labelleft=False)\n",
    "\n",
    "ax3.set_xlabel(\"$dt_{Transaction Mined}$ [seconds]\", fontsize=\"x-large\")\n",
    "\n",
    "ax3.set_ylabel(\"Cleaned\", fontsize=FONT_SIZE)\n",
    "\n",
    "\n",
    "fig.savefig(\"qa_boxplot_push_inbound_oracle_time_performance.pdf\", dpi=400)"
   ]
  },
  {
   "cell_type": "code",
   "execution_count": 116,
   "metadata": {},
   "outputs": [
    {
     "data": {
      "image/png": "[encoded data removed]",
      "text/plain": [
       "<Figure size 1152x864 with 2 Axes>"
      ]
     },
     "metadata": {
      "needs_background": "light"
     },
     "output_type": "display_data"
    }
   ],
   "source": [
    "FONT_SIZE = \"xx-large\"\n",
    "\n",
    "fig, (ax1, ax2) = plt.subplots(\n",
    "    nrows=2,\n",
    "    ncols=1,\n",
    "    figsize=(16, 12))\n",
    "\n",
    "fig.suptitle(\n",
    "    \"Blockchain writting Oracles\",\n",
    "    y=0.92,\n",
    "    fontsize=24)\n",
    "\n",
    "\n",
    "\n",
    "ax1.boxplot(\n",
    "    df_push_inbound_oracle_arrival.dt_transaction_hash_seconds_total,\n",
    "    notch=True,\n",
    "    vert=False)\n",
    "\n",
    "ax1.tick_params(\n",
    "    left=False, labelleft=False)\n",
    "\n",
    "ax1.set_xlabel(\"$dt_{Transaction Hash}$ [seconds]\", fontsize=\"x-large\")\n",
    "# ax1.set_xlim(0, 2)\n",
    "\n",
    "ax1.set_ylabel(\"Push Inbound Oracle\", fontsize=FONT_SIZE)\n",
    "\n",
    "\n",
    "\n",
    "ax2.boxplot(\n",
    "    df_pull_inbound_oracle_order.dt_transaction_hash_seconds_total,\n",
    "    notch=True,\n",
    "    vert=False)\n",
    "\n",
    "ax2.tick_params(\n",
    "    left=False, labelleft=False)\n",
    "\n",
    "ax2.set_xlabel(\"$dt_{TransactionHash}$ [seconds]\", fontsize=\"x-large\")\n",
    "# ax2.set_xlim(0, 1)\n",
    "\n",
    "ax2.set_ylabel(\"Pull Inbound Oracle\", fontsize=FONT_SIZE)\n",
    "\n",
    "\n",
    "fig.savefig(\"qa_boxplot_transaction_hash_time_performance.pdf\", dpi=400)"
   ]
  },
  {
   "cell_type": "code",
   "execution_count": 117,
   "metadata": {},
   "outputs": [
    {
     "data": {
      "text/plain": [
       "count    2586.000000\n",
       "mean        0.535073\n",
       "std         0.082754\n",
       "min         0.468846\n",
       "25%         0.493665\n",
       "50%         0.507933\n",
       "75%         0.547821\n",
       "max         2.140109\n",
       "Name: dt_transaction_hash_seconds_total, dtype: float64"
      ]
     },
     "execution_count": 117,
     "metadata": {},
     "output_type": "execute_result"
    }
   ],
   "source": [
    "(\n",
    "    df_push_inbound_oracle_arrival\n",
    "        .dt_transaction_hash_seconds_total\n",
    "        .describe()\n",
    ")"
   ]
  },
  {
   "cell_type": "code",
   "execution_count": 118,
   "metadata": {},
   "outputs": [
    {
     "data": {
      "text/plain": [
       "count    2586.000000\n",
       "mean       22.817050\n",
       "std       126.977176\n",
       "min      -140.018969\n",
       "25%         3.107843\n",
       "50%         9.088548\n",
       "75%        19.111525\n",
       "max      3165.080123\n",
       "Name: dt_transaction_mined_seconds_total, dtype: float64"
      ]
     },
     "execution_count": 118,
     "metadata": {},
     "output_type": "execute_result"
    }
   ],
   "source": [
    "(\n",
    "    df_push_inbound_oracle_arrival\n",
    "        .dt_transaction_mined_seconds_total\n",
    "        .describe()\n",
    ")"
   ]
  },
  {
   "cell_type": "code",
   "execution_count": 119,
   "metadata": {},
   "outputs": [
    {
     "data": {
      "text/plain": [
       "count    126.000000\n",
       "mean       0.520761\n",
       "std        0.055188\n",
       "min        0.469797\n",
       "25%        0.487601\n",
       "50%        0.501038\n",
       "75%        0.528817\n",
       "max        0.785457\n",
       "Name: dt_transaction_hash_seconds_total, dtype: float64"
      ]
     },
     "execution_count": 119,
     "metadata": {},
     "output_type": "execute_result"
    }
   ],
   "source": [
    "(\n",
    "    df_pull_inbound_oracle_order\n",
    "        .dt_transaction_hash_seconds_total\n",
    "        .describe()\n",
    ")"
   ]
  },
  {
   "cell_type": "code",
   "execution_count": 120,
   "metadata": {},
   "outputs": [
    {
     "data": {
      "text/plain": [
       "count    126.000000\n",
       "mean      13.395402\n",
       "std       13.409762\n",
       "min        0.031206\n",
       "25%        2.918232\n",
       "50%        8.564830\n",
       "75%       19.865520\n",
       "max       64.741326\n",
       "Name: dt_transaction_mined_seconds_total, dtype: float64"
      ]
     },
     "execution_count": 120,
     "metadata": {},
     "output_type": "execute_result"
    }
   ],
   "source": [
    "(\n",
    "    df_pull_inbound_oracle_order\n",
    "        .dt_transaction_mined_seconds_total\n",
    "        .describe()\n",
    ")"
   ]
  },
  {
   "cell_type": "code",
   "execution_count": 121,
   "metadata": {},
   "outputs": [
    {
     "data": {
      "text/plain": [
       "count    438.000000\n",
       "mean      16.209495\n",
       "std       15.957930\n",
       "min        0.536532\n",
       "25%        5.413601\n",
       "50%       10.719105\n",
       "75%       21.440090\n",
       "max      129.958716\n",
       "Name: dt_transaction_mined_seconds_total, dtype: float64"
      ]
     },
     "execution_count": 121,
     "metadata": {},
     "output_type": "execute_result"
    }
   ],
   "source": [
    "(\n",
    "    df_push_outbound_oracle_arrival\n",
    "        .dt_transaction_mined_seconds_total\n",
    "        .describe()\n",
    ")"
   ]
  },
  {
   "cell_type": "code",
   "execution_count": 122,
   "metadata": {},
   "outputs": [
    {
     "data": {
      "text/plain": [
       "count    2611.000000\n",
       "mean        0.132094\n",
       "std         0.033626\n",
       "min         0.111744\n",
       "25%         0.118931\n",
       "50%         0.122102\n",
       "75%         0.128851\n",
       "max         0.453529\n",
       "Name: dt_transaction_hash_seconds_total, dtype: float64"
      ]
     },
     "execution_count": 122,
     "metadata": {},
     "output_type": "execute_result"
    }
   ],
   "source": [
    "(\n",
    "    df_pull_outbound_oracle_arrival\n",
    "        .dt_transaction_hash_seconds_total\n",
    "        .describe()\n",
    ")"
   ]
  },
  {
   "cell_type": "code",
   "execution_count": 123,
   "metadata": {},
   "outputs": [
    {
     "data": {
      "text/plain": [
       "count      2611.000000\n",
       "mean     132094.389889\n",
       "std       33625.706824\n",
       "min      111744.000000\n",
       "25%      118931.000000\n",
       "50%      122102.000000\n",
       "75%      128851.000000\n",
       "max      453529.000000\n",
       "Name: dt_transaction_hash_microseconds, dtype: float64"
      ]
     },
     "execution_count": 123,
     "metadata": {},
     "output_type": "execute_result"
    }
   ],
   "source": [
    "(\n",
    "    df_pull_outbound_oracle_arrival\n",
    "        .dt_transaction_hash_microseconds\n",
    "        .describe()\n",
    ")"
   ]
  },
  {
   "cell_type": "code",
   "execution_count": 124,
   "metadata": {},
   "outputs": [
    {
     "data": {
      "image/png": "[encoded data removed]",
      "text/plain": [
       "<Figure size 1152x864 with 3 Axes>"
      ]
     },
     "metadata": {
      "needs_background": "light"
     },
     "output_type": "display_data"
    }
   ],
   "source": [
    "FONT_SIZE = \"xx-large\"\n",
    "\n",
    "fig, (ax1, ax2, ax3) = plt.subplots(\n",
    "    nrows=3,\n",
    "    ncols=1,\n",
    "    figsize=(16, 12))\n",
    "\n",
    "fig.suptitle(\n",
    "    \"Push Inbound and Push Outbound Oracle Roundtrip\",\n",
    "    y=0.92,\n",
    "    fontsize=24)\n",
    "\n",
    "\n",
    "\n",
    "ax1.boxplot(\n",
    "    df_push_outbound_oracle_arrival.dt_round_trip_time_seconds_total,\n",
    "    notch=True,\n",
    "    vert=False)\n",
    "\n",
    "ax1.tick_params(\n",
    "    left=False, labelleft=False)\n",
    "\n",
    "\n",
    "\n",
    "ax2.boxplot(\n",
    "    (df_push_outbound_oracle_arrival.sort_values('dt_transaction_mined_seconds_total', ascending=False)\n",
    "                                   .dt_transaction_mined_seconds_total[3:]\n",
    "                                   [df_push_inbound_oracle_arrival.dt_transaction_mined_seconds_total > 0]),\n",
    "    notch=True,\n",
    "    vert=False)\n",
    "\n",
    "ax2.tick_params(\n",
    "    left=False, labelleft=False)\n",
    "\n",
    "\n",
    "\n",
    "ax3.boxplot(\n",
    "    (df_push_outbound_oracle_arrival.sort_values('dt_transaction_mined_seconds_total', ascending=False)\n",
    "                                   .dt_transaction_mined_seconds_total[9:]\n",
    "                                   [df_push_inbound_oracle_arrival.dt_transaction_mined_seconds_total > 0]),\n",
    "    notch=True,\n",
    "    vert=False)\n",
    "\n",
    "ax3.tick_params(\n",
    "    left=False, labelleft=False)\n",
    "\n",
    "ax3.set_xlabel(\"$dt_{RoundTrip}$ [seconds]\", fontsize=\"x-large\")\n",
    "# ax1.set_xlim(0, 1)\n",
    "\n",
    "ax1.set_ylabel(\"\", fontsize=FONT_SIZE)\n",
    "\n",
    "\n",
    "fig.savefig(\"qa_boxplot_push_inbound_push_outbound_round_trip_performance.pdf\", dpi=400)"
   ]
  },
  {
   "cell_type": "markdown",
   "metadata": {},
   "source": [
    "## Gas"
   ]
  },
  {
   "cell_type": "code",
   "execution_count": 125,
   "metadata": {},
   "outputs": [
    {
     "data": {
      "text/plain": [
       "count     2586.000000\n",
       "mean     44808.763341\n",
       "std       1291.081997\n",
       "min      36739.000000\n",
       "25%      45139.000000\n",
       "50%      45235.000000\n",
       "75%      45259.000000\n",
       "max      45319.000000\n",
       "Name: transactionGasUsed, dtype: float64"
      ]
     },
     "execution_count": 125,
     "metadata": {},
     "output_type": "execute_result"
    }
   ],
   "source": [
    "(df_push_inbound_oracle_arrival\n",
    "     .transactionGasUsed\n",
    "     .describe())"
   ]
  },
  {
   "cell_type": "code",
   "execution_count": 126,
   "metadata": {},
   "outputs": [
    {
     "data": {
      "image/png": "[encoded data removed]",
      "text/plain": [
       "<Figure size 1152x720 with 2 Axes>"
      ]
     },
     "metadata": {
      "needs_background": "light"
     },
     "output_type": "display_data"
    }
   ],
   "source": [
    "FONT_SIZE = \"xx-large\"\n",
    "\n",
    "fig, (ax1, ax2) = plt.subplots(\n",
    "    nrows=2,\n",
    "    ncols=1,\n",
    "    figsize=(16, 10))\n",
    "\n",
    "fig.suptitle(\n",
    "    \"Gas Consumption for the Transaction Sending Oracles\",\n",
    "    y=0.94,\n",
    "    fontsize=24)\n",
    "\n",
    "\n",
    "\n",
    "ax1.boxplot(\n",
    "    df_push_inbound_oracle_arrival.transactionGasUsed,\n",
    "    notch=True,\n",
    "    vert=False)\n",
    "\n",
    "ax1.tick_params(\n",
    "    left=False, labelleft=False)\n",
    "\n",
    "# ax1.set_xlabel(\"Gas Used by a Transaction\", fontsize=\"x-large\")\n",
    "\n",
    "ax1.set_ylabel(\"Push Inbound Oracle\", fontsize=FONT_SIZE)\n",
    "\n",
    "\n",
    "\n",
    "ax2.boxplot(\n",
    "    df_pull_inbound_oracle_order.transactionGasUsed,\n",
    "    notch=True,\n",
    "    vert=False)\n",
    "\n",
    "ax2.tick_params(\n",
    "    left=False, labelleft=False)\n",
    "\n",
    "ax2.set_xlabel(\"Gas Used by a Transaction\", fontsize=\"xx-large\")\n",
    "\n",
    "ax2.set_ylabel(\"Pull Inbound Oracle\", fontsize=FONT_SIZE)\n",
    "\n",
    "\n",
    "fig.savefig(\"qa_boxplot_gas_performance_for_each_oracle.pdf\", dpi=400)"
   ]
  },
  {
   "cell_type": "code",
   "execution_count": 127,
   "metadata": {},
   "outputs": [
    {
     "data": {
      "text/plain": [
       "count     2586.000000\n",
       "mean     44808.763341\n",
       "std       1291.081997\n",
       "min      36739.000000\n",
       "25%      45139.000000\n",
       "50%      45235.000000\n",
       "75%      45259.000000\n",
       "max      45319.000000\n",
       "Name: transactionGasUsed, dtype: float64"
      ]
     },
     "execution_count": 127,
     "metadata": {},
     "output_type": "execute_result"
    }
   ],
   "source": [
    "df_push_inbound_oracle_arrival.transactionGasUsed.describe()"
   ]
  },
  {
   "cell_type": "code",
   "execution_count": 128,
   "metadata": {},
   "outputs": [
    {
     "data": {
      "text/plain": [
       "count      126.0\n",
       "mean     22770.0\n",
       "std          0.0\n",
       "min      22770.0\n",
       "25%      22770.0\n",
       "50%      22770.0\n",
       "75%      22770.0\n",
       "max      22770.0\n",
       "Name: transactionGasUsed, dtype: float64"
      ]
     },
     "execution_count": 128,
     "metadata": {},
     "output_type": "execute_result"
    }
   ],
   "source": [
    "df_pull_inbound_oracle_order.transactionGasUsed.describe()"
   ]
  },
  {
   "cell_type": "markdown",
   "metadata": {},
   "source": [
    "## Transaction Costs in Gwei, Ether, and Money (€)"
   ]
  },
  {
   "cell_type": "code",
   "execution_count": 129,
   "metadata": {},
   "outputs": [
    {
     "data": {
      "text/plain": [
       "count      2586.000000\n",
       "mean      35727.016156\n",
       "std       42570.292602\n",
       "min           0.000205\n",
       "25%         452.710000\n",
       "50%       45151.000000\n",
       "75%       45259.000000\n",
       "max      950691.000000\n",
       "Name: transactionFeeGwei, dtype: float64"
      ]
     },
     "execution_count": 129,
     "metadata": {},
     "output_type": "execute_result"
    }
   ],
   "source": [
    "df_push_inbound_oracle_arrival.transactionFeeGwei.astype(float).describe()"
   ]
  },
  {
   "cell_type": "code",
   "execution_count": 130,
   "metadata": {},
   "outputs": [
    {
     "data": {
      "text/plain": [
       "count    2.586000e+03\n",
       "mean     5.526969e-03\n",
       "std      6.585624e-03\n",
       "min      3.170344e-11\n",
       "25%      7.003424e-05\n",
       "50%      6.984860e-03\n",
       "75%      7.001567e-03\n",
       "max      1.470719e-01\n",
       "Name: transactionFeeEuroAverage, dtype: float64"
      ]
     },
     "execution_count": 130,
     "metadata": {},
     "output_type": "execute_result"
    }
   ],
   "source": [
    "df_push_inbound_oracle_arrival.transactionFeeEuroAverage.astype(float).describe()"
   ]
  },
  {
   "cell_type": "code",
   "execution_count": 131,
   "metadata": {},
   "outputs": [
    {
     "data": {
      "text/plain": [
       "count      126.000000\n",
       "mean       615.115286\n",
       "std       2737.323892\n",
       "min          5.464800\n",
       "25%          5.464800\n",
       "50%          5.464800\n",
       "75%          5.464800\n",
       "max      12808.125000\n",
       "Name: transactionFeeGwei, dtype: float64"
      ]
     },
     "execution_count": 131,
     "metadata": {},
     "output_type": "execute_result"
    }
   ],
   "source": [
    "df_pull_inbound_oracle_order.transactionFeeGwei.astype(float).describe()"
   ]
  },
  {
   "cell_type": "code",
   "execution_count": 132,
   "metadata": {},
   "outputs": [
    {
     "data": {
      "text/plain": [
       "count    1.260000e+02\n",
       "mean     1.440390e-03\n",
       "std      1.537865e-03\n",
       "min      6.333263e-07\n",
       "25%      1.679040e-06\n",
       "50%      2.092952e-03\n",
       "75%      2.101027e-03\n",
       "max      3.941514e-03\n",
       "Name: transactionFeeEuroAverage, dtype: float64"
      ]
     },
     "execution_count": 132,
     "metadata": {},
     "output_type": "execute_result"
    }
   ],
   "source": [
    "df_pull_inbound_oracle_order.transactionFeeEuroAverage.astype(float).describe()"
   ]
  },
  {
   "cell_type": "code",
   "execution_count": 133,
   "metadata": {},
   "outputs": [
    {
     "data": {
      "image/png": "[encoded data removed]",
      "text/plain": [
       "<Figure size 1152x720 with 2 Axes>"
      ]
     },
     "metadata": {
      "needs_background": "light"
     },
     "output_type": "display_data"
    }
   ],
   "source": [
    "FONT_SIZE = \"xx-large\"\n",
    "\n",
    "fig, (ax1, ax2) = plt.subplots(\n",
    "    nrows=2,\n",
    "    ncols=1,\n",
    "    figsize=(16, 10))\n",
    "\n",
    "fig.suptitle(\n",
    "    \"Transaction Fee Distribution for the Transaction Sending Oracles\",\n",
    "    y=0.94,\n",
    "    fontsize=24)\n",
    "\n",
    "\n",
    "\n",
    "ax1.hist(\n",
    "    df_push_inbound_oracle_arrival.transactionFeeEuroAverage.astype(float),\n",
    "    bins=60)\n",
    "\n",
    "# ax1.set_xlabel(\"Transaction Fee [€]\", fontsize=\"x-large\")\n",
    "ax1.set_xlim(0, 0.02)\n",
    "ax1.set_ylabel(\"Push Inbound Oracle\", fontsize=FONT_SIZE)\n",
    "\n",
    "\n",
    "\n",
    "ax2.hist(\n",
    "    df_pull_inbound_oracle_order.transactionFeeEuroAverage.astype(float),\n",
    "    bins=30)\n",
    "\n",
    "ax2.set_xlabel(\"Transaction Fee [€]\", fontsize=FONT_SIZE)\n",
    "\n",
    "ax2.set_ylabel(\"Pull Inbound Oracle\", fontsize=FONT_SIZE)\n",
    "\n",
    "\n",
    "\n",
    "fig.savefig(\"qa_histogram_cost_performance_for_each_oracle.pdf\", dpi=400)"
   ]
  },
  {
   "cell_type": "code",
   "execution_count": 134,
   "metadata": {},
   "outputs": [
    {
     "data": {
      "image/png": "[encoded data removed]",
      "text/plain": [
       "<Figure size 1152x432 with 1 Axes>"
      ]
     },
     "metadata": {
      "needs_background": "light"
     },
     "output_type": "display_data"
    }
   ],
   "source": [
    "FONT_SIZE = \"xx-large\"\n",
    "\n",
    "fig, (ax1) = plt.subplots(\n",
    "    nrows=1,\n",
    "    ncols=1,\n",
    "    figsize=(16, 6))\n",
    "\n",
    "fig.suptitle(\n",
    "    \"Transaction Fee\",\n",
    "    y=0.94,\n",
    "    fontsize=24)\n",
    "\n",
    "\n",
    "\n",
    "ax1.boxplot(\n",
    "    df_push_inbound_oracle_arrival.transactionFeeEuroAverage.astype(float),\n",
    "    notch=True,\n",
    "    vert=False)\n",
    "\n",
    "ax1.tick_params(\n",
    "    left=False, labelleft=False)\n",
    "\n",
    "ax1.set_xlabel(\"Transaction Fee [€]\", fontsize=\"x-large\")\n",
    "\n",
    "ax1.set_ylabel(\"Push Inbound Oracle\", fontsize=FONT_SIZE)\n",
    "\n",
    "\n",
    "fig.savefig(\"qa_boxplot_cost_performance_for_each_oracle.pdf\", dpi=400)"
   ]
  },
  {
   "cell_type": "markdown",
   "metadata": {},
   "source": [
    "# Save Data Frames for R"
   ]
  },
  {
   "cell_type": "code",
   "execution_count": 135,
   "metadata": {},
   "outputs": [],
   "source": [
    "df_push_inbound_oracle_arrival.to_csv(\"./df_push_inbound_oracle_arrival\")"
   ]
  },
  {
   "cell_type": "code",
   "execution_count": 136,
   "metadata": {},
   "outputs": [],
   "source": [
    "df_pull_inbound_oracle_order.to_csv(\"./df_pull_inbound_oracle_order.csv\")"
   ]
  },
  {
   "cell_type": "code",
   "execution_count": 137,
   "metadata": {},
   "outputs": [],
   "source": [
    "df_pull_inbound_oracle_verify_customer.to_csv(\"./df_pull_inbound_oracle_verify_customer.csv\")"
   ]
  },
  {
   "cell_type": "code",
   "execution_count": 138,
   "metadata": {},
   "outputs": [
    {
     "data": {
      "text/plain": [
       "Index(['_id', 'received_timestamp', 'event', 'transaction', 'block',\n",
       "       'decodedInput', 'arrivalCreationTimestamp', 'transaction_timestamp',\n",
       "       'received_datetime', 'transaction_datetime',\n",
       "       'arrival_creation_datetime', 'dt_transaction_mined',\n",
       "       'dt_transaction_mined_seconds_total', 'dt_round_trip_time',\n",
       "       'dt_round_trip_time_seconds_total', 'transactionCountInBlock'],\n",
       "      dtype='object')"
      ]
     },
     "execution_count": 138,
     "metadata": {},
     "output_type": "execute_result"
    }
   ],
   "source": [
    "df_push_outbound_oracle_arrival.columns"
   ]
  },
  {
   "cell_type": "code",
   "execution_count": 139,
   "metadata": {},
   "outputs": [],
   "source": [
    "df_push_outbound_oracle_arrival.to_csv(\n",
    "    \"./df_push_outbound_oracle_arrival.csv\",\n",
    "    columns=['dt_transaction_mined_seconds_total', 'dt_round_trip_time_seconds_total', 'transactionCountInBlock'])"
   ]
  },
  {
   "cell_type": "code",
   "execution_count": 140,
   "metadata": {
    "scrolled": true
   },
   "outputs": [
    {
     "data": {
      "text/plain": [
       "Index(['_id', 'start_timestamp', 'end_timestamp', 'transaction_hash', 'state',\n",
       "       'transaction', 'block', 'start_datetime', 'end_datetime',\n",
       "       'dt_transaction_hash', 'dt_transactoin_hash_seconds',\n",
       "       'dt_transaction_hash_seconds_total',\n",
       "       'dt_transaction_hash_microseconds'],\n",
       "      dtype='object')"
      ]
     },
     "execution_count": 140,
     "metadata": {},
     "output_type": "execute_result"
    }
   ],
   "source": [
    "df_pull_outbound_oracle_arrival.columns"
   ]
  },
  {
   "cell_type": "code",
   "execution_count": 141,
   "metadata": {},
   "outputs": [],
   "source": [
    "df_pull_outbound_oracle_arrival.to_csv(\"./df_pull_outbound_oracle_arrival.csv\")"
   ]
  },
  {
   "cell_type": "markdown",
   "metadata": {},
   "source": [
    "# Conference Paper Plots\n",
    "First, we delete all $dt < 0$."
   ]
  },
  {
   "cell_type": "code",
   "execution_count": 146,
   "metadata": {},
   "outputs": [],
   "source": [
    "df_conf_push_inbound_oracle_arrival = df_push_inbound_oracle_arrival[\n",
    "    df_push_inbound_oracle_arrival.dt_transaction_mined_seconds_total > 0]"
   ]
  },
  {
   "cell_type": "code",
   "execution_count": 165,
   "metadata": {},
   "outputs": [
    {
     "data": {
      "text/html": [
       "<div>\n",
       "<style scoped>\n",
       "    .dataframe tbody tr th:only-of-type {\n",
       "        vertical-align: middle;\n",
       "    }\n",
       "\n",
       "    .dataframe tbody tr th {\n",
       "        vertical-align: top;\n",
       "    }\n",
       "\n",
       "    .dataframe thead th {\n",
       "        text-align: right;\n",
       "    }\n",
       "</style>\n",
       "<table border=\"1\" class=\"dataframe\">\n",
       "  <thead>\n",
       "    <tr style=\"text-align: right;\">\n",
       "      <th></th>\n",
       "      <th>_id</th>\n",
       "      <th>transaction_hash</th>\n",
       "      <th>start_timestamp</th>\n",
       "      <th>end_timestamp</th>\n",
       "      <th>document</th>\n",
       "      <th>transaction</th>\n",
       "      <th>block</th>\n",
       "      <th>transaction_timestamp</th>\n",
       "      <th>start_datetime</th>\n",
       "      <th>end_datetime</th>\n",
       "      <th>...</th>\n",
       "      <th>dt_transaction_mined_seconds_total</th>\n",
       "      <th>transactionGasLimit</th>\n",
       "      <th>transactionGasUsed</th>\n",
       "      <th>gasPriceEther</th>\n",
       "      <th>gasPriceGwei</th>\n",
       "      <th>transactionFeeWei</th>\n",
       "      <th>transactionFeeGwei</th>\n",
       "      <th>transactionFeeEther</th>\n",
       "      <th>transactionFeeEuroAverage</th>\n",
       "      <th>transactionCountInBlock</th>\n",
       "    </tr>\n",
       "  </thead>\n",
       "  <tbody>\n",
       "    <tr>\n",
       "      <td>0</td>\n",
       "      <td>5e976a8d53a82761edb60a2f</td>\n",
       "      <td>0x904bb68ca50b9f8a1f1059b789ec2d87dcab55d066fb...</td>\n",
       "      <td>1.586982e+09</td>\n",
       "      <td>1.586982e+09</td>\n",
       "      <td>{'order': 'Samsung Galaxy S10e', 'location': '...</td>\n",
       "      <td>(blockHash, blockNumber, from, gas, gasPrice, ...</td>\n",
       "      <td>(difficulty, extraData, gasLimit, gasUsed, has...</td>\n",
       "      <td>1586981538</td>\n",
       "      <td>2020-04-15 22:11:56.899098</td>\n",
       "      <td>2020-04-15 22:11:57.421184</td>\n",
       "      <td>...</td>\n",
       "      <td>21.100902</td>\n",
       "      <td>54339</td>\n",
       "      <td>45283</td>\n",
       "      <td>5.625E-10</td>\n",
       "      <td>0.5625</td>\n",
       "      <td>25471687500000</td>\n",
       "      <td>25471.6875</td>\n",
       "      <td>0.0000254716875</td>\n",
       "      <td>0.003940</td>\n",
       "      <td>19</td>\n",
       "    </tr>\n",
       "    <tr>\n",
       "      <td>1</td>\n",
       "      <td>5e976e1153a82761edb60a31</td>\n",
       "      <td>0xc2c2df9ec9c21d99497550ec6482a93a062ffac06d2f...</td>\n",
       "      <td>1.586982e+09</td>\n",
       "      <td>1.586982e+09</td>\n",
       "      <td>{'order': 'Motorola Moto G7 Plus', 'location':...</td>\n",
       "      <td>(blockHash, blockNumber, from, gas, gasPrice, ...</td>\n",
       "      <td>(difficulty, extraData, gasLimit, gasUsed, has...</td>\n",
       "      <td>1586982429</td>\n",
       "      <td>2020-04-15 22:26:56.887283</td>\n",
       "      <td>2020-04-15 22:26:57.426909</td>\n",
       "      <td>...</td>\n",
       "      <td>12.112717</td>\n",
       "      <td>54339</td>\n",
       "      <td>45283</td>\n",
       "      <td>5.625E-10</td>\n",
       "      <td>0.5625</td>\n",
       "      <td>25471687500000</td>\n",
       "      <td>25471.6875</td>\n",
       "      <td>0.0000254716875</td>\n",
       "      <td>0.003940</td>\n",
       "      <td>13</td>\n",
       "    </tr>\n",
       "    <tr>\n",
       "      <td>2</td>\n",
       "      <td>5e97719553a82761edb60a33</td>\n",
       "      <td>0x51e549887956adcce5ccf699dabaf766b006602fc360...</td>\n",
       "      <td>1.586983e+09</td>\n",
       "      <td>1.586983e+09</td>\n",
       "      <td>{'order': 'iPhone 11 Pro', 'location': 'Budape...</td>\n",
       "      <td>(blockHash, blockNumber, from, gas, gasPrice, ...</td>\n",
       "      <td>(difficulty, extraData, gasLimit, gasUsed, has...</td>\n",
       "      <td>1586983324</td>\n",
       "      <td>2020-04-15 22:41:57.045447</td>\n",
       "      <td>2020-04-15 22:41:57.560157</td>\n",
       "      <td>...</td>\n",
       "      <td>6.954553</td>\n",
       "      <td>54224</td>\n",
       "      <td>45187</td>\n",
       "      <td>5.625E-10</td>\n",
       "      <td>0.5625</td>\n",
       "      <td>25417687500000</td>\n",
       "      <td>25417.6875</td>\n",
       "      <td>0.0000254176875</td>\n",
       "      <td>0.003932</td>\n",
       "      <td>7</td>\n",
       "    </tr>\n",
       "    <tr>\n",
       "      <td>3</td>\n",
       "      <td>5e97751953a82761edb60a35</td>\n",
       "      <td>0x8202187cb0c3b49a02c65c2869fa09dd605c0b1894b2...</td>\n",
       "      <td>1.586984e+09</td>\n",
       "      <td>1.586984e+09</td>\n",
       "      <td>{'order': 'Samsung Galaxy Note10+', 'location'...</td>\n",
       "      <td>(blockHash, blockNumber, from, gas, gasPrice, ...</td>\n",
       "      <td>(difficulty, extraData, gasLimit, gasUsed, has...</td>\n",
       "      <td>1586984217</td>\n",
       "      <td>2020-04-15 22:56:56.880384</td>\n",
       "      <td>2020-04-15 22:56:57.436024</td>\n",
       "      <td>...</td>\n",
       "      <td>0.119616</td>\n",
       "      <td>54354</td>\n",
       "      <td>45295</td>\n",
       "      <td>5.625E-10</td>\n",
       "      <td>0.5625</td>\n",
       "      <td>25478437500000</td>\n",
       "      <td>25478.4375</td>\n",
       "      <td>0.0000254784375</td>\n",
       "      <td>0.003942</td>\n",
       "      <td>24</td>\n",
       "    </tr>\n",
       "    <tr>\n",
       "      <td>4</td>\n",
       "      <td>5e97789d53a82761edb60a37</td>\n",
       "      <td>0xda20a5ff5535d6931e057eb5ff5d57568594e13981e1...</td>\n",
       "      <td>1.586985e+09</td>\n",
       "      <td>1.586985e+09</td>\n",
       "      <td>{'order': 'Samsung Galaxy S10e', 'location': '...</td>\n",
       "      <td>(blockHash, blockNumber, from, gas, gasPrice, ...</td>\n",
       "      <td>(difficulty, extraData, gasLimit, gasUsed, has...</td>\n",
       "      <td>1586985118</td>\n",
       "      <td>2020-04-15 23:11:56.956362</td>\n",
       "      <td>2020-04-15 23:11:57.470046</td>\n",
       "      <td>...</td>\n",
       "      <td>1.043638</td>\n",
       "      <td>54310</td>\n",
       "      <td>45259</td>\n",
       "      <td>5.625E-10</td>\n",
       "      <td>0.5625</td>\n",
       "      <td>25458187500000</td>\n",
       "      <td>25458.1875</td>\n",
       "      <td>0.0000254581875</td>\n",
       "      <td>0.003938</td>\n",
       "      <td>4</td>\n",
       "    </tr>\n",
       "  </tbody>\n",
       "</table>\n",
       "<p>5 rows × 27 columns</p>\n",
       "</div>"
      ],
      "text/plain": [
       "                        _id  \\\n",
       "0  5e976a8d53a82761edb60a2f   \n",
       "1  5e976e1153a82761edb60a31   \n",
       "2  5e97719553a82761edb60a33   \n",
       "3  5e97751953a82761edb60a35   \n",
       "4  5e97789d53a82761edb60a37   \n",
       "\n",
       "                                    transaction_hash  start_timestamp  \\\n",
       "0  0x904bb68ca50b9f8a1f1059b789ec2d87dcab55d066fb...     1.586982e+09   \n",
       "1  0xc2c2df9ec9c21d99497550ec6482a93a062ffac06d2f...     1.586982e+09   \n",
       "2  0x51e549887956adcce5ccf699dabaf766b006602fc360...     1.586983e+09   \n",
       "3  0x8202187cb0c3b49a02c65c2869fa09dd605c0b1894b2...     1.586984e+09   \n",
       "4  0xda20a5ff5535d6931e057eb5ff5d57568594e13981e1...     1.586985e+09   \n",
       "\n",
       "   end_timestamp                                           document  \\\n",
       "0   1.586982e+09  {'order': 'Samsung Galaxy S10e', 'location': '...   \n",
       "1   1.586982e+09  {'order': 'Motorola Moto G7 Plus', 'location':...   \n",
       "2   1.586983e+09  {'order': 'iPhone 11 Pro', 'location': 'Budape...   \n",
       "3   1.586984e+09  {'order': 'Samsung Galaxy Note10+', 'location'...   \n",
       "4   1.586985e+09  {'order': 'Samsung Galaxy S10e', 'location': '...   \n",
       "\n",
       "                                         transaction  \\\n",
       "0  (blockHash, blockNumber, from, gas, gasPrice, ...   \n",
       "1  (blockHash, blockNumber, from, gas, gasPrice, ...   \n",
       "2  (blockHash, blockNumber, from, gas, gasPrice, ...   \n",
       "3  (blockHash, blockNumber, from, gas, gasPrice, ...   \n",
       "4  (blockHash, blockNumber, from, gas, gasPrice, ...   \n",
       "\n",
       "                                               block  transaction_timestamp  \\\n",
       "0  (difficulty, extraData, gasLimit, gasUsed, has...             1586981538   \n",
       "1  (difficulty, extraData, gasLimit, gasUsed, has...             1586982429   \n",
       "2  (difficulty, extraData, gasLimit, gasUsed, has...             1586983324   \n",
       "3  (difficulty, extraData, gasLimit, gasUsed, has...             1586984217   \n",
       "4  (difficulty, extraData, gasLimit, gasUsed, has...             1586985118   \n",
       "\n",
       "              start_datetime               end_datetime  ...  \\\n",
       "0 2020-04-15 22:11:56.899098 2020-04-15 22:11:57.421184  ...   \n",
       "1 2020-04-15 22:26:56.887283 2020-04-15 22:26:57.426909  ...   \n",
       "2 2020-04-15 22:41:57.045447 2020-04-15 22:41:57.560157  ...   \n",
       "3 2020-04-15 22:56:56.880384 2020-04-15 22:56:57.436024  ...   \n",
       "4 2020-04-15 23:11:56.956362 2020-04-15 23:11:57.470046  ...   \n",
       "\n",
       "  dt_transaction_mined_seconds_total transactionGasLimit  transactionGasUsed  \\\n",
       "0                          21.100902               54339               45283   \n",
       "1                          12.112717               54339               45283   \n",
       "2                           6.954553               54224               45187   \n",
       "3                           0.119616               54354               45295   \n",
       "4                           1.043638               54310               45259   \n",
       "\n",
       "   gasPriceEther  gasPriceGwei transactionFeeWei  transactionFeeGwei  \\\n",
       "0      5.625E-10        0.5625    25471687500000          25471.6875   \n",
       "1      5.625E-10        0.5625    25471687500000          25471.6875   \n",
       "2      5.625E-10        0.5625    25417687500000          25417.6875   \n",
       "3      5.625E-10        0.5625    25478437500000          25478.4375   \n",
       "4      5.625E-10        0.5625    25458187500000          25458.1875   \n",
       "\n",
       "   transactionFeeEther  transactionFeeEuroAverage  transactionCountInBlock  \n",
       "0      0.0000254716875                   0.003940                       19  \n",
       "1      0.0000254716875                   0.003940                       13  \n",
       "2      0.0000254176875                   0.003932                        7  \n",
       "3      0.0000254784375                   0.003942                       24  \n",
       "4      0.0000254581875                   0.003938                        4  \n",
       "\n",
       "[5 rows x 27 columns]"
      ]
     },
     "execution_count": 165,
     "metadata": {},
     "output_type": "execute_result"
    }
   ],
   "source": [
    "df_conf_push_inbound_oracle_arrival.head()"
   ]
  },
  {
   "cell_type": "code",
   "execution_count": 150,
   "metadata": {},
   "outputs": [],
   "source": [
    "df_conf_pull_inbound_oracle_order = df_pull_inbound_oracle_order[\n",
    "    df_pull_inbound_oracle_order.dt_transaction_mined_seconds_total > 0]"
   ]
  },
  {
   "cell_type": "code",
   "execution_count": 166,
   "metadata": {},
   "outputs": [
    {
     "data": {
      "text/html": [
       "<div>\n",
       "<style scoped>\n",
       "    .dataframe tbody tr th:only-of-type {\n",
       "        vertical-align: middle;\n",
       "    }\n",
       "\n",
       "    .dataframe tbody tr th {\n",
       "        vertical-align: top;\n",
       "    }\n",
       "\n",
       "    .dataframe thead th {\n",
       "        text-align: right;\n",
       "    }\n",
       "</style>\n",
       "<table border=\"1\" class=\"dataframe\">\n",
       "  <thead>\n",
       "    <tr style=\"text-align: right;\">\n",
       "      <th></th>\n",
       "      <th>_id</th>\n",
       "      <th>transaction_hash</th>\n",
       "      <th>order</th>\n",
       "      <th>order_start_timestamp</th>\n",
       "      <th>order_end_timestamp</th>\n",
       "      <th>verify_customer</th>\n",
       "      <th>verify_customer_received_timestamp</th>\n",
       "      <th>transaction</th>\n",
       "      <th>block</th>\n",
       "      <th>transaction_timestamp</th>\n",
       "      <th>...</th>\n",
       "      <th>dt_transaction_mined_seconds_total</th>\n",
       "      <th>transactionGasLimit</th>\n",
       "      <th>transactionGasUsed</th>\n",
       "      <th>gasPriceEther</th>\n",
       "      <th>gasPriceGwei</th>\n",
       "      <th>transactionFeeWei</th>\n",
       "      <th>transactionFeeGwei</th>\n",
       "      <th>transactionFeeEther</th>\n",
       "      <th>transactionFeeEuroAverage</th>\n",
       "      <th>transactionCountInBlock</th>\n",
       "    </tr>\n",
       "  </thead>\n",
       "  <tbody>\n",
       "    <tr>\n",
       "      <td>0</td>\n",
       "      <td>5e976ca52f3ca046f03a6f53</td>\n",
       "      <td>0xbe5e22a75965be9e86d6cd47276fe58ee6b33d8167f7...</td>\n",
       "      <td>{'is_verified': True, 'order_ID': 1, 'error_co...</td>\n",
       "      <td>1.586982e+09</td>\n",
       "      <td>1.586982e+09</td>\n",
       "      <td>{'address': '0x0a4D9d49Bd7e4402a8CfbA0B6d6C699...</td>\n",
       "      <td>1.586982e+09</td>\n",
       "      <td>(blockHash, blockNumber, from, gas, gasPrice, ...</td>\n",
       "      <td>(difficulty, extraData, gasLimit, gasUsed, has...</td>\n",
       "      <td>1586982055</td>\n",
       "      <td>...</td>\n",
       "      <td>1.662398</td>\n",
       "      <td>27324</td>\n",
       "      <td>22770</td>\n",
       "      <td>5.625E-10</td>\n",
       "      <td>0.5625</td>\n",
       "      <td>12808125000000</td>\n",
       "      <td>12808.1250</td>\n",
       "      <td>0.0000128081250</td>\n",
       "      <td>0.003940</td>\n",
       "      <td>3</td>\n",
       "    </tr>\n",
       "    <tr>\n",
       "      <td>1</td>\n",
       "      <td>5e9770362f3ca046f03a6f57</td>\n",
       "      <td>0x07eb2eaa20021d65429969959558236388e4906c0a94...</td>\n",
       "      <td>{'is_verified': True, 'order_ID': 2, 'error_co...</td>\n",
       "      <td>1.586983e+09</td>\n",
       "      <td>1.586983e+09</td>\n",
       "      <td>{'address': '0x0a4D9d49Bd7e4402a8CfbA0B6d6C699...</td>\n",
       "      <td>1.586983e+09</td>\n",
       "      <td>(blockHash, blockNumber, from, gas, gasPrice, ...</td>\n",
       "      <td>(difficulty, extraData, gasLimit, gasUsed, has...</td>\n",
       "      <td>1586982969</td>\n",
       "      <td>...</td>\n",
       "      <td>2.893511</td>\n",
       "      <td>27324</td>\n",
       "      <td>22770</td>\n",
       "      <td>5.625E-10</td>\n",
       "      <td>0.5625</td>\n",
       "      <td>12808125000000</td>\n",
       "      <td>12808.1250</td>\n",
       "      <td>0.0000128081250</td>\n",
       "      <td>0.003940</td>\n",
       "      <td>4</td>\n",
       "    </tr>\n",
       "    <tr>\n",
       "      <td>2</td>\n",
       "      <td>5e9773c52f3ca046f03a6f5b</td>\n",
       "      <td>0x91c8720954668a676689c8b3730b239dc9d1fe1336d5...</td>\n",
       "      <td>{'is_verified': True, 'order_ID': 3, 'error_co...</td>\n",
       "      <td>1.586984e+09</td>\n",
       "      <td>1.586984e+09</td>\n",
       "      <td>{'address': '0x0a4D9d49Bd7e4402a8CfbA0B6d6C699...</td>\n",
       "      <td>1.586984e+09</td>\n",
       "      <td>(blockHash, blockNumber, from, gas, gasPrice, ...</td>\n",
       "      <td>(difficulty, extraData, gasLimit, gasUsed, has...</td>\n",
       "      <td>1586983901</td>\n",
       "      <td>...</td>\n",
       "      <td>24.376213</td>\n",
       "      <td>27324</td>\n",
       "      <td>22770</td>\n",
       "      <td>5.625E-10</td>\n",
       "      <td>0.5625</td>\n",
       "      <td>12808125000000</td>\n",
       "      <td>12808.1250</td>\n",
       "      <td>0.0000128081250</td>\n",
       "      <td>0.003932</td>\n",
       "      <td>19</td>\n",
       "    </tr>\n",
       "    <tr>\n",
       "      <td>3</td>\n",
       "      <td>5e9777452f3ca046f03a6f5f</td>\n",
       "      <td>0x6a8af4435823d0b5e195ab726e602fbc7f2ba12f04f1...</td>\n",
       "      <td>{'is_verified': True, 'order_ID': 4, 'error_co...</td>\n",
       "      <td>1.586985e+09</td>\n",
       "      <td>1.586985e+09</td>\n",
       "      <td>{'address': '0x0a4D9d49Bd7e4402a8CfbA0B6d6C699...</td>\n",
       "      <td>1.586985e+09</td>\n",
       "      <td>(blockHash, blockNumber, from, gas, gasPrice, ...</td>\n",
       "      <td>(difficulty, extraData, gasLimit, gasUsed, has...</td>\n",
       "      <td>1586984774</td>\n",
       "      <td>...</td>\n",
       "      <td>1.506046</td>\n",
       "      <td>27324</td>\n",
       "      <td>22770</td>\n",
       "      <td>5.625E-10</td>\n",
       "      <td>0.5625</td>\n",
       "      <td>12808125000000</td>\n",
       "      <td>12808.1250</td>\n",
       "      <td>0.0000128081250</td>\n",
       "      <td>0.003942</td>\n",
       "      <td>7</td>\n",
       "    </tr>\n",
       "    <tr>\n",
       "      <td>4</td>\n",
       "      <td>5e977acd2f3ca046f03a6f63</td>\n",
       "      <td>0x71a6436d8ba4e22482811d12f77a5c6b55dc6d824fd8...</td>\n",
       "      <td>{'is_verified': True, 'order_ID': 5, 'error_co...</td>\n",
       "      <td>1.586986e+09</td>\n",
       "      <td>1.586986e+09</td>\n",
       "      <td>{'address': '0x0a4D9d49Bd7e4402a8CfbA0B6d6C699...</td>\n",
       "      <td>1.586986e+09</td>\n",
       "      <td>(blockHash, blockNumber, from, gas, gasPrice, ...</td>\n",
       "      <td>(difficulty, extraData, gasLimit, gasUsed, has...</td>\n",
       "      <td>1586985683</td>\n",
       "      <td>...</td>\n",
       "      <td>5.940713</td>\n",
       "      <td>27324</td>\n",
       "      <td>22770</td>\n",
       "      <td>5.625E-10</td>\n",
       "      <td>0.5625</td>\n",
       "      <td>12808125000000</td>\n",
       "      <td>12808.1250</td>\n",
       "      <td>0.0000128081250</td>\n",
       "      <td>0.003938</td>\n",
       "      <td>9</td>\n",
       "    </tr>\n",
       "  </tbody>\n",
       "</table>\n",
       "<p>5 rows × 27 columns</p>\n",
       "</div>"
      ],
      "text/plain": [
       "                        _id  \\\n",
       "0  5e976ca52f3ca046f03a6f53   \n",
       "1  5e9770362f3ca046f03a6f57   \n",
       "2  5e9773c52f3ca046f03a6f5b   \n",
       "3  5e9777452f3ca046f03a6f5f   \n",
       "4  5e977acd2f3ca046f03a6f63   \n",
       "\n",
       "                                    transaction_hash  \\\n",
       "0  0xbe5e22a75965be9e86d6cd47276fe58ee6b33d8167f7...   \n",
       "1  0x07eb2eaa20021d65429969959558236388e4906c0a94...   \n",
       "2  0x91c8720954668a676689c8b3730b239dc9d1fe1336d5...   \n",
       "3  0x6a8af4435823d0b5e195ab726e602fbc7f2ba12f04f1...   \n",
       "4  0x71a6436d8ba4e22482811d12f77a5c6b55dc6d824fd8...   \n",
       "\n",
       "                                               order  order_start_timestamp  \\\n",
       "0  {'is_verified': True, 'order_ID': 1, 'error_co...           1.586982e+09   \n",
       "1  {'is_verified': True, 'order_ID': 2, 'error_co...           1.586983e+09   \n",
       "2  {'is_verified': True, 'order_ID': 3, 'error_co...           1.586984e+09   \n",
       "3  {'is_verified': True, 'order_ID': 4, 'error_co...           1.586985e+09   \n",
       "4  {'is_verified': True, 'order_ID': 5, 'error_co...           1.586986e+09   \n",
       "\n",
       "   order_end_timestamp                                    verify_customer  \\\n",
       "0         1.586982e+09  {'address': '0x0a4D9d49Bd7e4402a8CfbA0B6d6C699...   \n",
       "1         1.586983e+09  {'address': '0x0a4D9d49Bd7e4402a8CfbA0B6d6C699...   \n",
       "2         1.586984e+09  {'address': '0x0a4D9d49Bd7e4402a8CfbA0B6d6C699...   \n",
       "3         1.586985e+09  {'address': '0x0a4D9d49Bd7e4402a8CfbA0B6d6C699...   \n",
       "4         1.586986e+09  {'address': '0x0a4D9d49Bd7e4402a8CfbA0B6d6C699...   \n",
       "\n",
       "   verify_customer_received_timestamp  \\\n",
       "0                        1.586982e+09   \n",
       "1                        1.586983e+09   \n",
       "2                        1.586984e+09   \n",
       "3                        1.586985e+09   \n",
       "4                        1.586986e+09   \n",
       "\n",
       "                                         transaction  \\\n",
       "0  (blockHash, blockNumber, from, gas, gasPrice, ...   \n",
       "1  (blockHash, blockNumber, from, gas, gasPrice, ...   \n",
       "2  (blockHash, blockNumber, from, gas, gasPrice, ...   \n",
       "3  (blockHash, blockNumber, from, gas, gasPrice, ...   \n",
       "4  (blockHash, blockNumber, from, gas, gasPrice, ...   \n",
       "\n",
       "                                               block  transaction_timestamp  \\\n",
       "0  (difficulty, extraData, gasLimit, gasUsed, has...             1586982055   \n",
       "1  (difficulty, extraData, gasLimit, gasUsed, has...             1586982969   \n",
       "2  (difficulty, extraData, gasLimit, gasUsed, has...             1586983901   \n",
       "3  (difficulty, extraData, gasLimit, gasUsed, has...             1586984774   \n",
       "4  (difficulty, extraData, gasLimit, gasUsed, has...             1586985683   \n",
       "\n",
       "   ... dt_transaction_mined_seconds_total transactionGasLimit  \\\n",
       "0  ...                           1.662398               27324   \n",
       "1  ...                           2.893511               27324   \n",
       "2  ...                          24.376213               27324   \n",
       "3  ...                           1.506046               27324   \n",
       "4  ...                           5.940713               27324   \n",
       "\n",
       "  transactionGasUsed gasPriceEther gasPriceGwei  transactionFeeWei  \\\n",
       "0              22770     5.625E-10       0.5625     12808125000000   \n",
       "1              22770     5.625E-10       0.5625     12808125000000   \n",
       "2              22770     5.625E-10       0.5625     12808125000000   \n",
       "3              22770     5.625E-10       0.5625     12808125000000   \n",
       "4              22770     5.625E-10       0.5625     12808125000000   \n",
       "\n",
       "  transactionFeeGwei  transactionFeeEther  transactionFeeEuroAverage  \\\n",
       "0         12808.1250      0.0000128081250                   0.003940   \n",
       "1         12808.1250      0.0000128081250                   0.003940   \n",
       "2         12808.1250      0.0000128081250                   0.003932   \n",
       "3         12808.1250      0.0000128081250                   0.003942   \n",
       "4         12808.1250      0.0000128081250                   0.003938   \n",
       "\n",
       "   transactionCountInBlock  \n",
       "0                        3  \n",
       "1                        4  \n",
       "2                       19  \n",
       "3                        7  \n",
       "4                        9  \n",
       "\n",
       "[5 rows x 27 columns]"
      ]
     },
     "execution_count": 166,
     "metadata": {},
     "output_type": "execute_result"
    }
   ],
   "source": [
    "df_conf_pull_inbound_oracle_order.head()"
   ]
  },
  {
   "cell_type": "code",
   "execution_count": 151,
   "metadata": {},
   "outputs": [],
   "source": [
    "df_conf_push_outbound_oracle_arrival = df_push_outbound_oracle_arrival[\n",
    "    df_push_outbound_oracle_arrival.dt_transaction_mined_seconds_total > 0]"
   ]
  },
  {
   "cell_type": "code",
   "execution_count": 167,
   "metadata": {},
   "outputs": [
    {
     "data": {
      "text/html": [
       "<div>\n",
       "<style scoped>\n",
       "    .dataframe tbody tr th:only-of-type {\n",
       "        vertical-align: middle;\n",
       "    }\n",
       "\n",
       "    .dataframe tbody tr th {\n",
       "        vertical-align: top;\n",
       "    }\n",
       "\n",
       "    .dataframe thead th {\n",
       "        text-align: right;\n",
       "    }\n",
       "</style>\n",
       "<table border=\"1\" class=\"dataframe\">\n",
       "  <thead>\n",
       "    <tr style=\"text-align: right;\">\n",
       "      <th></th>\n",
       "      <th>_id</th>\n",
       "      <th>received_timestamp</th>\n",
       "      <th>event</th>\n",
       "      <th>transaction</th>\n",
       "      <th>block</th>\n",
       "      <th>decodedInput</th>\n",
       "      <th>arrivalCreationTimestamp</th>\n",
       "      <th>transaction_timestamp</th>\n",
       "      <th>received_datetime</th>\n",
       "      <th>transaction_datetime</th>\n",
       "      <th>arrival_creation_datetime</th>\n",
       "      <th>dt_transaction_mined</th>\n",
       "      <th>dt_transaction_mined_seconds_total</th>\n",
       "      <th>dt_round_trip_time</th>\n",
       "      <th>dt_round_trip_time_seconds_total</th>\n",
       "      <th>transactionCountInBlock</th>\n",
       "    </tr>\n",
       "  </thead>\n",
       "  <tbody>\n",
       "    <tr>\n",
       "      <td>0</td>\n",
       "      <td>5e976aa69c1a8f290e4bf129</td>\n",
       "      <td>1.586982e+09</td>\n",
       "      <td>{'address': '0x1186aEDAb8f37C08CC00a887dBb1197...</td>\n",
       "      <td>(blockHash, blockNumber, from, gas, gasPrice, ...</td>\n",
       "      <td>(difficulty, extraData, gasLimit, gasUsed, has...</td>\n",
       "      <td>(&lt;Function setArrival(string,string,uint256)&gt;,...</td>\n",
       "      <td>1586981516</td>\n",
       "      <td>1586981538</td>\n",
       "      <td>2020-04-15 22:12:22.582107</td>\n",
       "      <td>2020-04-15 22:12:18</td>\n",
       "      <td>2020-04-15 22:11:56</td>\n",
       "      <td>00:00:04.582107</td>\n",
       "      <td>4.582107</td>\n",
       "      <td>00:00:26.582107</td>\n",
       "      <td>26.582107</td>\n",
       "      <td>19</td>\n",
       "    </tr>\n",
       "    <tr>\n",
       "      <td>1</td>\n",
       "      <td>5e976e269c1a8f290e4bf12b</td>\n",
       "      <td>1.586982e+09</td>\n",
       "      <td>{'address': '0x1186aEDAb8f37C08CC00a887dBb1197...</td>\n",
       "      <td>(blockHash, blockNumber, from, gas, gasPrice, ...</td>\n",
       "      <td>(difficulty, extraData, gasLimit, gasUsed, has...</td>\n",
       "      <td>(&lt;Function setArrival(string,string,uint256)&gt;,...</td>\n",
       "      <td>1586982416</td>\n",
       "      <td>1586982429</td>\n",
       "      <td>2020-04-15 22:27:18.970490</td>\n",
       "      <td>2020-04-15 22:27:09</td>\n",
       "      <td>2020-04-15 22:26:56</td>\n",
       "      <td>00:00:09.970490</td>\n",
       "      <td>9.970490</td>\n",
       "      <td>00:00:22.970490</td>\n",
       "      <td>22.970490</td>\n",
       "      <td>13</td>\n",
       "    </tr>\n",
       "    <tr>\n",
       "      <td>2</td>\n",
       "      <td>5e9771c59c1a8f290e4bf12d</td>\n",
       "      <td>1.586983e+09</td>\n",
       "      <td>{'address': '0x1186aEDAb8f37C08CC00a887dBb1197...</td>\n",
       "      <td>(blockHash, blockNumber, from, gas, gasPrice, ...</td>\n",
       "      <td>(difficulty, extraData, gasLimit, gasUsed, has...</td>\n",
       "      <td>(&lt;Function setArrival(string,string,uint256)&gt;,...</td>\n",
       "      <td>1586983316</td>\n",
       "      <td>1586983324</td>\n",
       "      <td>2020-04-15 22:42:45.414425</td>\n",
       "      <td>2020-04-15 22:42:04</td>\n",
       "      <td>2020-04-15 22:41:56</td>\n",
       "      <td>00:00:41.414425</td>\n",
       "      <td>41.414425</td>\n",
       "      <td>00:00:49.414425</td>\n",
       "      <td>49.414425</td>\n",
       "      <td>7</td>\n",
       "    </tr>\n",
       "    <tr>\n",
       "      <td>3</td>\n",
       "      <td>5e97751e9c1a8f290e4bf12f</td>\n",
       "      <td>1.586984e+09</td>\n",
       "      <td>{'address': '0x1186aEDAb8f37C08CC00a887dBb1197...</td>\n",
       "      <td>(blockHash, blockNumber, from, gas, gasPrice, ...</td>\n",
       "      <td>(difficulty, extraData, gasLimit, gasUsed, has...</td>\n",
       "      <td>(&lt;Function setArrival(string,string,uint256)&gt;,...</td>\n",
       "      <td>1586984216</td>\n",
       "      <td>1586984217</td>\n",
       "      <td>2020-04-15 22:57:02.534216</td>\n",
       "      <td>2020-04-15 22:56:57</td>\n",
       "      <td>2020-04-15 22:56:56</td>\n",
       "      <td>00:00:05.534216</td>\n",
       "      <td>5.534216</td>\n",
       "      <td>00:00:06.534216</td>\n",
       "      <td>6.534216</td>\n",
       "      <td>24</td>\n",
       "    </tr>\n",
       "    <tr>\n",
       "      <td>4</td>\n",
       "      <td>5e9778a49c1a8f290e4bf131</td>\n",
       "      <td>1.586985e+09</td>\n",
       "      <td>{'address': '0x1186aEDAb8f37C08CC00a887dBb1197...</td>\n",
       "      <td>(blockHash, blockNumber, from, gas, gasPrice, ...</td>\n",
       "      <td>(difficulty, extraData, gasLimit, gasUsed, has...</td>\n",
       "      <td>(&lt;Function setArrival(string,string,uint256)&gt;,...</td>\n",
       "      <td>1586985116</td>\n",
       "      <td>1586985118</td>\n",
       "      <td>2020-04-15 23:12:04.667391</td>\n",
       "      <td>2020-04-15 23:11:58</td>\n",
       "      <td>2020-04-15 23:11:56</td>\n",
       "      <td>00:00:06.667391</td>\n",
       "      <td>6.667391</td>\n",
       "      <td>00:00:08.667391</td>\n",
       "      <td>8.667391</td>\n",
       "      <td>4</td>\n",
       "    </tr>\n",
       "  </tbody>\n",
       "</table>\n",
       "</div>"
      ],
      "text/plain": [
       "                        _id  received_timestamp  \\\n",
       "0  5e976aa69c1a8f290e4bf129        1.586982e+09   \n",
       "1  5e976e269c1a8f290e4bf12b        1.586982e+09   \n",
       "2  5e9771c59c1a8f290e4bf12d        1.586983e+09   \n",
       "3  5e97751e9c1a8f290e4bf12f        1.586984e+09   \n",
       "4  5e9778a49c1a8f290e4bf131        1.586985e+09   \n",
       "\n",
       "                                               event  \\\n",
       "0  {'address': '0x1186aEDAb8f37C08CC00a887dBb1197...   \n",
       "1  {'address': '0x1186aEDAb8f37C08CC00a887dBb1197...   \n",
       "2  {'address': '0x1186aEDAb8f37C08CC00a887dBb1197...   \n",
       "3  {'address': '0x1186aEDAb8f37C08CC00a887dBb1197...   \n",
       "4  {'address': '0x1186aEDAb8f37C08CC00a887dBb1197...   \n",
       "\n",
       "                                         transaction  \\\n",
       "0  (blockHash, blockNumber, from, gas, gasPrice, ...   \n",
       "1  (blockHash, blockNumber, from, gas, gasPrice, ...   \n",
       "2  (blockHash, blockNumber, from, gas, gasPrice, ...   \n",
       "3  (blockHash, blockNumber, from, gas, gasPrice, ...   \n",
       "4  (blockHash, blockNumber, from, gas, gasPrice, ...   \n",
       "\n",
       "                                               block  \\\n",
       "0  (difficulty, extraData, gasLimit, gasUsed, has...   \n",
       "1  (difficulty, extraData, gasLimit, gasUsed, has...   \n",
       "2  (difficulty, extraData, gasLimit, gasUsed, has...   \n",
       "3  (difficulty, extraData, gasLimit, gasUsed, has...   \n",
       "4  (difficulty, extraData, gasLimit, gasUsed, has...   \n",
       "\n",
       "                                        decodedInput  \\\n",
       "0  (<Function setArrival(string,string,uint256)>,...   \n",
       "1  (<Function setArrival(string,string,uint256)>,...   \n",
       "2  (<Function setArrival(string,string,uint256)>,...   \n",
       "3  (<Function setArrival(string,string,uint256)>,...   \n",
       "4  (<Function setArrival(string,string,uint256)>,...   \n",
       "\n",
       "   arrivalCreationTimestamp  transaction_timestamp          received_datetime  \\\n",
       "0                1586981516             1586981538 2020-04-15 22:12:22.582107   \n",
       "1                1586982416             1586982429 2020-04-15 22:27:18.970490   \n",
       "2                1586983316             1586983324 2020-04-15 22:42:45.414425   \n",
       "3                1586984216             1586984217 2020-04-15 22:57:02.534216   \n",
       "4                1586985116             1586985118 2020-04-15 23:12:04.667391   \n",
       "\n",
       "  transaction_datetime arrival_creation_datetime dt_transaction_mined  \\\n",
       "0  2020-04-15 22:12:18       2020-04-15 22:11:56      00:00:04.582107   \n",
       "1  2020-04-15 22:27:09       2020-04-15 22:26:56      00:00:09.970490   \n",
       "2  2020-04-15 22:42:04       2020-04-15 22:41:56      00:00:41.414425   \n",
       "3  2020-04-15 22:56:57       2020-04-15 22:56:56      00:00:05.534216   \n",
       "4  2020-04-15 23:11:58       2020-04-15 23:11:56      00:00:06.667391   \n",
       "\n",
       "   dt_transaction_mined_seconds_total dt_round_trip_time  \\\n",
       "0                            4.582107    00:00:26.582107   \n",
       "1                            9.970490    00:00:22.970490   \n",
       "2                           41.414425    00:00:49.414425   \n",
       "3                            5.534216    00:00:06.534216   \n",
       "4                            6.667391    00:00:08.667391   \n",
       "\n",
       "   dt_round_trip_time_seconds_total  transactionCountInBlock  \n",
       "0                         26.582107                       19  \n",
       "1                         22.970490                       13  \n",
       "2                         49.414425                        7  \n",
       "3                          6.534216                       24  \n",
       "4                          8.667391                        4  "
      ]
     },
     "execution_count": 167,
     "metadata": {},
     "output_type": "execute_result"
    }
   ],
   "source": [
    "df_conf_push_outbound_oracle_arrival.head()"
   ]
  },
  {
   "cell_type": "code",
   "execution_count": 152,
   "metadata": {},
   "outputs": [],
   "source": [
    "df_conf_pull_outbound_oracle_arrival = df_pull_outbound_oracle_arrival"
   ]
  },
  {
   "cell_type": "code",
   "execution_count": 168,
   "metadata": {},
   "outputs": [
    {
     "data": {
      "text/html": [
       "<div>\n",
       "<style scoped>\n",
       "    .dataframe tbody tr th:only-of-type {\n",
       "        vertical-align: middle;\n",
       "    }\n",
       "\n",
       "    .dataframe tbody tr th {\n",
       "        vertical-align: top;\n",
       "    }\n",
       "\n",
       "    .dataframe thead th {\n",
       "        text-align: right;\n",
       "    }\n",
       "</style>\n",
       "<table border=\"1\" class=\"dataframe\">\n",
       "  <thead>\n",
       "    <tr style=\"text-align: right;\">\n",
       "      <th></th>\n",
       "      <th>_id</th>\n",
       "      <th>start_timestamp</th>\n",
       "      <th>end_timestamp</th>\n",
       "      <th>transaction_hash</th>\n",
       "      <th>state</th>\n",
       "      <th>transaction</th>\n",
       "      <th>block</th>\n",
       "      <th>start_datetime</th>\n",
       "      <th>end_datetime</th>\n",
       "      <th>dt_transaction_hash</th>\n",
       "      <th>dt_transactoin_hash_seconds</th>\n",
       "      <th>dt_transaction_hash_seconds_total</th>\n",
       "      <th>dt_transaction_hash_microseconds</th>\n",
       "    </tr>\n",
       "  </thead>\n",
       "  <tbody>\n",
       "    <tr>\n",
       "      <td>0</td>\n",
       "      <td>5e976b9d4854cbebf27c7b1f</td>\n",
       "      <td>1.586982e+09</td>\n",
       "      <td>1.586982e+09</td>\n",
       "      <td>0xf15753a9ef3d83e6d9974a936795039605449cdf2530...</td>\n",
       "      <td>{'_order': 'iPhone 11', '_location': 'Zagreb',...</td>\n",
       "      <td>(blockHash, blockNumber, from, gas, gasPrice, ...</td>\n",
       "      <td>(difficulty, extraData, gasLimit, gasUsed, has...</td>\n",
       "      <td>2020-04-15 22:16:29.712676</td>\n",
       "      <td>2020-04-15 22:16:29.841327</td>\n",
       "      <td>00:00:00.128651</td>\n",
       "      <td>0</td>\n",
       "      <td>0.128651</td>\n",
       "      <td>128651</td>\n",
       "    </tr>\n",
       "    <tr>\n",
       "      <td>1</td>\n",
       "      <td>5e976f214854cbebf27c7b21</td>\n",
       "      <td>1.586983e+09</td>\n",
       "      <td>1.586983e+09</td>\n",
       "      <td>0xf15753a9ef3d83e6d9974a936795039605449cdf2530...</td>\n",
       "      <td>{'_order': 'iPhone 11', '_location': 'Zagreb',...</td>\n",
       "      <td>(blockHash, blockNumber, from, gas, gasPrice, ...</td>\n",
       "      <td>(difficulty, extraData, gasLimit, gasUsed, has...</td>\n",
       "      <td>2020-04-15 22:31:29.738051</td>\n",
       "      <td>2020-04-15 22:31:29.859117</td>\n",
       "      <td>00:00:00.121066</td>\n",
       "      <td>0</td>\n",
       "      <td>0.121066</td>\n",
       "      <td>121066</td>\n",
       "    </tr>\n",
       "    <tr>\n",
       "      <td>2</td>\n",
       "      <td>5e9772a54854cbebf27c7b23</td>\n",
       "      <td>1.586984e+09</td>\n",
       "      <td>1.586984e+09</td>\n",
       "      <td>0xf15753a9ef3d83e6d9974a936795039605449cdf2530...</td>\n",
       "      <td>{'_order': 'iPhone 11', '_location': 'Zagreb',...</td>\n",
       "      <td>(blockHash, blockNumber, from, gas, gasPrice, ...</td>\n",
       "      <td>(difficulty, extraData, gasLimit, gasUsed, has...</td>\n",
       "      <td>2020-04-15 22:46:29.623616</td>\n",
       "      <td>2020-04-15 22:46:29.747954</td>\n",
       "      <td>00:00:00.124338</td>\n",
       "      <td>0</td>\n",
       "      <td>0.124338</td>\n",
       "      <td>124338</td>\n",
       "    </tr>\n",
       "    <tr>\n",
       "      <td>3</td>\n",
       "      <td>5e9776294854cbebf27c7b25</td>\n",
       "      <td>1.586984e+09</td>\n",
       "      <td>1.586984e+09</td>\n",
       "      <td>0xf15753a9ef3d83e6d9974a936795039605449cdf2530...</td>\n",
       "      <td>{'_order': 'iPhone 11', '_location': 'Zagreb',...</td>\n",
       "      <td>(blockHash, blockNumber, from, gas, gasPrice, ...</td>\n",
       "      <td>(difficulty, extraData, gasLimit, gasUsed, has...</td>\n",
       "      <td>2020-04-15 23:01:29.653028</td>\n",
       "      <td>2020-04-15 23:01:29.774662</td>\n",
       "      <td>00:00:00.121634</td>\n",
       "      <td>0</td>\n",
       "      <td>0.121634</td>\n",
       "      <td>121634</td>\n",
       "    </tr>\n",
       "    <tr>\n",
       "      <td>4</td>\n",
       "      <td>5e9779ad4854cbebf27c7b27</td>\n",
       "      <td>1.586985e+09</td>\n",
       "      <td>1.586985e+09</td>\n",
       "      <td>0xf15753a9ef3d83e6d9974a936795039605449cdf2530...</td>\n",
       "      <td>{'_order': 'iPhone 11', '_location': 'Zagreb',...</td>\n",
       "      <td>(blockHash, blockNumber, from, gas, gasPrice, ...</td>\n",
       "      <td>(difficulty, extraData, gasLimit, gasUsed, has...</td>\n",
       "      <td>2020-04-15 23:16:29.658536</td>\n",
       "      <td>2020-04-15 23:16:29.775482</td>\n",
       "      <td>00:00:00.116946</td>\n",
       "      <td>0</td>\n",
       "      <td>0.116946</td>\n",
       "      <td>116946</td>\n",
       "    </tr>\n",
       "  </tbody>\n",
       "</table>\n",
       "</div>"
      ],
      "text/plain": [
       "                        _id  start_timestamp  end_timestamp  \\\n",
       "0  5e976b9d4854cbebf27c7b1f     1.586982e+09   1.586982e+09   \n",
       "1  5e976f214854cbebf27c7b21     1.586983e+09   1.586983e+09   \n",
       "2  5e9772a54854cbebf27c7b23     1.586984e+09   1.586984e+09   \n",
       "3  5e9776294854cbebf27c7b25     1.586984e+09   1.586984e+09   \n",
       "4  5e9779ad4854cbebf27c7b27     1.586985e+09   1.586985e+09   \n",
       "\n",
       "                                    transaction_hash  \\\n",
       "0  0xf15753a9ef3d83e6d9974a936795039605449cdf2530...   \n",
       "1  0xf15753a9ef3d83e6d9974a936795039605449cdf2530...   \n",
       "2  0xf15753a9ef3d83e6d9974a936795039605449cdf2530...   \n",
       "3  0xf15753a9ef3d83e6d9974a936795039605449cdf2530...   \n",
       "4  0xf15753a9ef3d83e6d9974a936795039605449cdf2530...   \n",
       "\n",
       "                                               state  \\\n",
       "0  {'_order': 'iPhone 11', '_location': 'Zagreb',...   \n",
       "1  {'_order': 'iPhone 11', '_location': 'Zagreb',...   \n",
       "2  {'_order': 'iPhone 11', '_location': 'Zagreb',...   \n",
       "3  {'_order': 'iPhone 11', '_location': 'Zagreb',...   \n",
       "4  {'_order': 'iPhone 11', '_location': 'Zagreb',...   \n",
       "\n",
       "                                         transaction  \\\n",
       "0  (blockHash, blockNumber, from, gas, gasPrice, ...   \n",
       "1  (blockHash, blockNumber, from, gas, gasPrice, ...   \n",
       "2  (blockHash, blockNumber, from, gas, gasPrice, ...   \n",
       "3  (blockHash, blockNumber, from, gas, gasPrice, ...   \n",
       "4  (blockHash, blockNumber, from, gas, gasPrice, ...   \n",
       "\n",
       "                                               block  \\\n",
       "0  (difficulty, extraData, gasLimit, gasUsed, has...   \n",
       "1  (difficulty, extraData, gasLimit, gasUsed, has...   \n",
       "2  (difficulty, extraData, gasLimit, gasUsed, has...   \n",
       "3  (difficulty, extraData, gasLimit, gasUsed, has...   \n",
       "4  (difficulty, extraData, gasLimit, gasUsed, has...   \n",
       "\n",
       "              start_datetime               end_datetime dt_transaction_hash  \\\n",
       "0 2020-04-15 22:16:29.712676 2020-04-15 22:16:29.841327     00:00:00.128651   \n",
       "1 2020-04-15 22:31:29.738051 2020-04-15 22:31:29.859117     00:00:00.121066   \n",
       "2 2020-04-15 22:46:29.623616 2020-04-15 22:46:29.747954     00:00:00.124338   \n",
       "3 2020-04-15 23:01:29.653028 2020-04-15 23:01:29.774662     00:00:00.121634   \n",
       "4 2020-04-15 23:16:29.658536 2020-04-15 23:16:29.775482     00:00:00.116946   \n",
       "\n",
       "   dt_transactoin_hash_seconds  dt_transaction_hash_seconds_total  \\\n",
       "0                            0                           0.128651   \n",
       "1                            0                           0.121066   \n",
       "2                            0                           0.124338   \n",
       "3                            0                           0.121634   \n",
       "4                            0                           0.116946   \n",
       "\n",
       "   dt_transaction_hash_microseconds  \n",
       "0                            128651  \n",
       "1                            121066  \n",
       "2                            124338  \n",
       "3                            121634  \n",
       "4                            116946  "
      ]
     },
     "execution_count": 168,
     "metadata": {},
     "output_type": "execute_result"
    }
   ],
   "source": [
    "df_conf_pull_outbound_oracle_arrival.head()"
   ]
  },
  {
   "cell_type": "code",
   "execution_count": 175,
   "metadata": {
    "scrolled": true
   },
   "outputs": [
    {
     "name": "stdout",
     "output_type": "stream",
     "text": [
      "2020-04-15 22:20:55\n",
      "2020-04-19 23:07:34\n"
     ]
    }
   ],
   "source": [
    "print(df_conf_pull_inbound_oracle_order.transaction_datetime.min())\n",
    "print(df_conf_pull_inbound_oracle_order.transaction_datetime.max())"
   ]
  },
  {
   "cell_type": "markdown",
   "metadata": {},
   "source": [
    "[Coinbase](https://www.coinbase.com/price/ethereum?locale=de)\n",
    "\n",
    "|Date Time | €/Eth |\n",
    "|-------|----|\n",
    "|2020-04-15 2h00m |$144.86$|\n",
    "|2020-04-19 2h00m |$172.56$|"
   ]
  },
  {
   "cell_type": "code",
   "execution_count": 178,
   "metadata": {},
   "outputs": [],
   "source": [
    "start_price = 144.86\n",
    "end_price = 172.56\n",
    "\n",
    "mu_price = (start_price+end_price)/2\n",
    "\n",
    "df_conf_pull_inbound_oracle_order[\"transactionFeeEuroAverage\"] = (\n",
    "    df_conf_pull_inbound_oracle_order\n",
    "        .transactionFeeEther\n",
    "        .apply(\n",
    "            lambda transactionFeeEther: float(transactionFeeEther) * mu_euro))"
   ]
  },
  {
   "cell_type": "code",
   "execution_count": 176,
   "metadata": {},
   "outputs": [
    {
     "name": "stdout",
     "output_type": "stream",
     "text": [
      "2020-04-15 22:12:18\n",
      "2020-05-13 01:41:58\n"
     ]
    }
   ],
   "source": [
    "print(df_conf_push_inbound_oracle_arrival.transaction_datetime.min())\n",
    "print(df_conf_push_inbound_oracle_arrival.transaction_datetime.max())"
   ]
  },
  {
   "cell_type": "markdown",
   "metadata": {},
   "source": [
    "| Date Time | €/Eth |\n",
    "|--|--|\n",
    "|2020-04-15 2h:00m| 144.86 |\n",
    "|2020-05-13 2h:00m| 175.43 |"
   ]
  },
  {
   "cell_type": "code",
   "execution_count": 179,
   "metadata": {},
   "outputs": [
    {
     "name": "stderr",
     "output_type": "stream",
     "text": [
      "/home/stefan/anaconda3/envs/blockchain/lib/python3.7/site-packages/ipykernel_launcher.py:10: SettingWithCopyWarning: \n",
      "A value is trying to be set on a copy of a slice from a DataFrame.\n",
      "Try using .loc[row_indexer,col_indexer] = value instead\n",
      "\n",
      "See the caveats in the documentation: http://pandas.pydata.org/pandas-docs/stable/user_guide/indexing.html#returning-a-view-versus-a-copy\n",
      "  # Remove the CWD from sys.path while we load stuff.\n"
     ]
    }
   ],
   "source": [
    "start_price = 144.86\n",
    "end_price = 175.43\n",
    "\n",
    "mu_price = (start_price+end_price)/2\n",
    "\n",
    "df_conf_push_inbound_oracle_arrival[\"transactionFeeEuroAverage\"] = (\n",
    "    df_conf_push_inbound_oracle_arrival\n",
    "        .transactionFeeEther\n",
    "        .apply(\n",
    "            lambda transactionFeeEther: float(transactionFeeEther) * mu_euro))"
   ]
  },
  {
   "cell_type": "code",
   "execution_count": 181,
   "metadata": {},
   "outputs": [
    {
     "name": "stdout",
     "output_type": "stream",
     "text": [
      "2020-04-15 22:12:18\n",
      "2020-04-19 23:57:07\n"
     ]
    }
   ],
   "source": [
    "print(df_conf_push_outbound_oracle_arrival.transaction_datetime.min())\n",
    "print(df_conf_push_outbound_oracle_arrival.transaction_datetime.max())"
   ]
  },
  {
   "cell_type": "code",
   "execution_count": 184,
   "metadata": {},
   "outputs": [
    {
     "name": "stdout",
     "output_type": "stream",
     "text": [
      "2020-04-15 22:16:29.712676\n",
      "2020-05-13 02:46:29.785781\n"
     ]
    }
   ],
   "source": [
    "print(df_conf_pull_outbound_oracle_arrival.start_datetime.min())\n",
    "print(df_conf_pull_outbound_oracle_arrival.start_datetime.max())"
   ]
  },
  {
   "cell_type": "code",
   "execution_count": 196,
   "metadata": {},
   "outputs": [
    {
     "data": {
      "text/plain": [
       "Index(['_id', 'received_timestamp', 'event', 'transaction', 'block',\n",
       "       'decodedInput', 'arrivalCreationTimestamp', 'transaction_timestamp',\n",
       "       'received_datetime', 'transaction_datetime',\n",
       "       'arrival_creation_datetime', 'dt_transaction_mined',\n",
       "       'dt_transaction_mined_seconds_total', 'dt_round_trip_time',\n",
       "       'dt_round_trip_time_seconds_total', 'transactionCountInBlock'],\n",
       "      dtype='object')"
      ]
     },
     "execution_count": 196,
     "metadata": {},
     "output_type": "execute_result"
    }
   ],
   "source": [
    "df_push_outbound_oracle_arrival.columns"
   ]
  },
  {
   "cell_type": "code",
   "execution_count": 199,
   "metadata": {},
   "outputs": [
    {
     "data": {
      "image/png": "[encoded data removed]",
      "text/plain": [
       "<Figure size 1152x1296 with 6 Axes>"
      ]
     },
     "metadata": {
      "needs_background": "light"
     },
     "output_type": "display_data"
    }
   ],
   "source": [
    "FONT_SIZE = \"xx-large\"\n",
    "\n",
    "fig, ax = plt.subplots(\n",
    "    nrows=3,\n",
    "    ncols=2,\n",
    "    figsize=(16, 18))\n",
    "\n",
    "fig.suptitle(\n",
    "    \"Performance for each Oracle\",\n",
    "    y=0.92,\n",
    "    fontsize=24)\n",
    "\n",
    "\n",
    "\n",
    "ax[0, 0].boxplot(\n",
    "    df_conf_push_inbound_oracle_arrival.dt_transaction_hash_seconds_total,\n",
    "    notch=True,\n",
    "    vert=False)\n",
    "\n",
    "ax[0, 0].tick_params(\n",
    "    left=False, labelleft=False)\n",
    "\n",
    "ax[0, 0].set_xlabel(\"$dt_{Transaction Hash}$ [seconds]\", fontsize=\"x-large\")\n",
    "\n",
    "ax[0, 0].set_ylabel(\"Push Inbound Oracle\", fontsize=FONT_SIZE)\n",
    "\n",
    "\n",
    "\n",
    "ax[0, 1].boxplot(\n",
    "    df_conf_pull_inbound_oracle_order.dt_transaction_hash_seconds_total,\n",
    "    notch=True,\n",
    "    vert=False)\n",
    "\n",
    "ax[0, 1].tick_params(\n",
    "    left=False, labelleft=False)\n",
    "\n",
    "ax[0, 1].set_xlabel(\"$dt_{Transaction Hash}$ [seconds]\", fontsize=\"x-large\")\n",
    "\n",
    "ax[0, 1].set_ylabel(\"Pull Inbound Oracle\", fontsize=FONT_SIZE)\n",
    "\n",
    "\n",
    "ax[1, 0].boxplot(\n",
    "    df_conf_push_outbound_oracle_arrival.dt_transaction_mined_seconds_total,\n",
    "    notch=True,\n",
    "    vert=False)\n",
    "\n",
    "ax[1, 0].tick_params(\n",
    "    left=False, labelleft=False)\n",
    "\n",
    "ax[1, 0].set_xlabel(\"$dt_{Transaction Mined}$ [seconds]\", fontsize=\"x-large\")\n",
    "\n",
    "ax[1, 0].set_ylabel(\"Push Outbound Oracle\", fontsize=FONT_SIZE)\n",
    "\n",
    "\n",
    "\n",
    "ax[1, 1].boxplot(\n",
    "    df_conf_pull_outbound_oracle_arrival.dt_transaction_hash_seconds_total,\n",
    "    notch=True,\n",
    "    vert=False)\n",
    "\n",
    "ax[1, 1].tick_params(\n",
    "    left=False, labelleft=False)\n",
    "\n",
    "ax[1, 1].set_xlabel(\"$dt_{Transaction Hash}$ [seconds]\", fontsize=\"x-large\")\n",
    "\n",
    "ax[1, 1].set_ylabel(\"Pull Outbound Oracle\", fontsize=FONT_SIZE)\n",
    "\n",
    "\n",
    "\n",
    "ax[2, 0].hist(\n",
    "    df_push_inbound_oracle_arrival.transactionFeeEuroAverage.astype(float),\n",
    "    bins=60)\n",
    "\n",
    "ax[2, 0].set_xlabel(\"Transaction Fee [€]\", fontsize=\"x-large\")\n",
    "ax[2, 0].set_xlim(0, 0.02)\n",
    "ax[2, 0].set_ylabel(\"Push Inbound Oracle\", fontsize=FONT_SIZE)\n",
    "\n",
    "\n",
    "\n",
    "ax[2, 1].hist(\n",
    "    df_pull_inbound_oracle_order.transactionFeeEuroAverage.astype(float),\n",
    "    bins=60)\n",
    "\n",
    "ax[2, 1].set_xlabel(\"Transaction Fee [€]\", fontsize=\"x-large\")\n",
    "\n",
    "ax[2, 1].set_ylabel(\"Pull Inbound Oracle\", fontsize=FONT_SIZE)\n",
    "\n",
    "\n",
    "fig.savefig(\"qa_conf_boxplot_for_each_oracle.pdf\", dpi=400)"
   ]
  },
  {
   "cell_type": "code",
   "execution_count": 211,
   "metadata": {},
   "outputs": [
    {
     "data": {
      "text/plain": [
       "count    438.000000\n",
       "mean      34.328217\n",
       "std       40.269652\n",
       "min        2.826764\n",
       "25%       14.962902\n",
       "50%       26.118423\n",
       "75%       44.218345\n",
       "max      693.719596\n",
       "Name: dt_round_trip_time_seconds_total, dtype: float64"
      ]
     },
     "execution_count": 211,
     "metadata": {},
     "output_type": "execute_result"
    }
   ],
   "source": [
    "df_conf_push_outbound_oracle_arrival.dt_round_trip_time_seconds_total.describe()"
   ]
  },
  {
   "cell_type": "code",
   "execution_count": 213,
   "metadata": {},
   "outputs": [
    {
     "data": {
      "text/html": [
       "<div>\n",
       "<style scoped>\n",
       "    .dataframe tbody tr th:only-of-type {\n",
       "        vertical-align: middle;\n",
       "    }\n",
       "\n",
       "    .dataframe tbody tr th {\n",
       "        vertical-align: top;\n",
       "    }\n",
       "\n",
       "    .dataframe thead th {\n",
       "        text-align: right;\n",
       "    }\n",
       "</style>\n",
       "<table border=\"1\" class=\"dataframe\">\n",
       "  <thead>\n",
       "    <tr style=\"text-align: right;\">\n",
       "      <th></th>\n",
       "      <th>_id</th>\n",
       "      <th>received_timestamp</th>\n",
       "      <th>event</th>\n",
       "      <th>transaction</th>\n",
       "      <th>block</th>\n",
       "      <th>decodedInput</th>\n",
       "      <th>arrivalCreationTimestamp</th>\n",
       "      <th>transaction_timestamp</th>\n",
       "      <th>received_datetime</th>\n",
       "      <th>transaction_datetime</th>\n",
       "      <th>arrival_creation_datetime</th>\n",
       "      <th>dt_transaction_mined</th>\n",
       "      <th>dt_transaction_mined_seconds_total</th>\n",
       "      <th>dt_round_trip_time</th>\n",
       "      <th>dt_round_trip_time_seconds_total</th>\n",
       "      <th>transactionCountInBlock</th>\n",
       "    </tr>\n",
       "  </thead>\n",
       "  <tbody>\n",
       "    <tr>\n",
       "      <td>66</td>\n",
       "      <td>5e982b199c1a8f290e4bf1ad</td>\n",
       "      <td>1.587031e+09</td>\n",
       "      <td>{'address': '0x1186aEDAb8f37C08CC00a887dBb1197...</td>\n",
       "      <td>(blockHash, blockNumber, from, gas, gasPrice, ...</td>\n",
       "      <td>(difficulty, extraData, gasLimit, gasUsed, has...</td>\n",
       "      <td>(&lt;Function setArrival(string,string,uint256)&gt;,...</td>\n",
       "      <td>1587030116</td>\n",
       "      <td>1587030804</td>\n",
       "      <td>2020-04-16 11:53:29.719596</td>\n",
       "      <td>2020-04-16 11:53:24</td>\n",
       "      <td>2020-04-16 11:41:56</td>\n",
       "      <td>00:00:05.719596</td>\n",
       "      <td>5.719596</td>\n",
       "      <td>00:11:33.719596</td>\n",
       "      <td>693.719596</td>\n",
       "      <td>48</td>\n",
       "    </tr>\n",
       "  </tbody>\n",
       "</table>\n",
       "</div>"
      ],
      "text/plain": [
       "                         _id  received_timestamp  \\\n",
       "66  5e982b199c1a8f290e4bf1ad        1.587031e+09   \n",
       "\n",
       "                                                event  \\\n",
       "66  {'address': '0x1186aEDAb8f37C08CC00a887dBb1197...   \n",
       "\n",
       "                                          transaction  \\\n",
       "66  (blockHash, blockNumber, from, gas, gasPrice, ...   \n",
       "\n",
       "                                                block  \\\n",
       "66  (difficulty, extraData, gasLimit, gasUsed, has...   \n",
       "\n",
       "                                         decodedInput  \\\n",
       "66  (<Function setArrival(string,string,uint256)>,...   \n",
       "\n",
       "    arrivalCreationTimestamp  transaction_timestamp  \\\n",
       "66                1587030116             1587030804   \n",
       "\n",
       "            received_datetime transaction_datetime arrival_creation_datetime  \\\n",
       "66 2020-04-16 11:53:29.719596  2020-04-16 11:53:24       2020-04-16 11:41:56   \n",
       "\n",
       "   dt_transaction_mined  dt_transaction_mined_seconds_total  \\\n",
       "66      00:00:05.719596                            5.719596   \n",
       "\n",
       "   dt_round_trip_time  dt_round_trip_time_seconds_total  \\\n",
       "66    00:11:33.719596                        693.719596   \n",
       "\n",
       "    transactionCountInBlock  \n",
       "66                       48  "
      ]
     },
     "execution_count": 213,
     "metadata": {},
     "output_type": "execute_result"
    }
   ],
   "source": [
    "df_conf_push_outbound_oracle_arrival[\n",
    "    df_conf_push_outbound_oracle_arrival.dt_round_trip_time_seconds_total == 693.719596]"
   ]
  },
  {
   "cell_type": "code",
   "execution_count": 214,
   "metadata": {},
   "outputs": [
    {
     "data": {
      "text/html": [
       "<div>\n",
       "<style scoped>\n",
       "    .dataframe tbody tr th:only-of-type {\n",
       "        vertical-align: middle;\n",
       "    }\n",
       "\n",
       "    .dataframe tbody tr th {\n",
       "        vertical-align: top;\n",
       "    }\n",
       "\n",
       "    .dataframe thead th {\n",
       "        text-align: right;\n",
       "    }\n",
       "</style>\n",
       "<table border=\"1\" class=\"dataframe\">\n",
       "  <thead>\n",
       "    <tr style=\"text-align: right;\">\n",
       "      <th></th>\n",
       "      <th>_id</th>\n",
       "      <th>received_timestamp</th>\n",
       "      <th>event</th>\n",
       "      <th>transaction</th>\n",
       "      <th>block</th>\n",
       "      <th>decodedInput</th>\n",
       "      <th>arrivalCreationTimestamp</th>\n",
       "      <th>transaction_timestamp</th>\n",
       "      <th>received_datetime</th>\n",
       "      <th>transaction_datetime</th>\n",
       "      <th>arrival_creation_datetime</th>\n",
       "      <th>dt_transaction_mined</th>\n",
       "      <th>dt_transaction_mined_seconds_total</th>\n",
       "      <th>dt_round_trip_time</th>\n",
       "      <th>dt_round_trip_time_seconds_total</th>\n",
       "      <th>transactionCountInBlock</th>\n",
       "    </tr>\n",
       "  </thead>\n",
       "  <tbody>\n",
       "    <tr>\n",
       "      <td>66</td>\n",
       "      <td>5e982b199c1a8f290e4bf1ad</td>\n",
       "      <td>1.587031e+09</td>\n",
       "      <td>{'address': '0x1186aEDAb8f37C08CC00a887dBb1197...</td>\n",
       "      <td>(blockHash, blockNumber, from, gas, gasPrice, ...</td>\n",
       "      <td>(difficulty, extraData, gasLimit, gasUsed, has...</td>\n",
       "      <td>(&lt;Function setArrival(string,string,uint256)&gt;,...</td>\n",
       "      <td>1587030116</td>\n",
       "      <td>1587030804</td>\n",
       "      <td>2020-04-16 11:53:29.719596</td>\n",
       "      <td>2020-04-16 11:53:24</td>\n",
       "      <td>2020-04-16 11:41:56</td>\n",
       "      <td>00:00:05.719596</td>\n",
       "      <td>5.719596</td>\n",
       "      <td>00:11:33.719596</td>\n",
       "      <td>693.719596</td>\n",
       "      <td>48</td>\n",
       "    </tr>\n",
       "    <tr>\n",
       "      <td>160</td>\n",
       "      <td>5e9949739c1a8f290e4bf269</td>\n",
       "      <td>1.587104e+09</td>\n",
       "      <td>{'address': '0x1186aEDAb8f37C08CC00a887dBb1197...</td>\n",
       "      <td>(blockHash, blockNumber, from, gas, gasPrice, ...</td>\n",
       "      <td>(difficulty, extraData, gasLimit, gasUsed, has...</td>\n",
       "      <td>(&lt;Function setArrival(string,string,uint256)&gt;,...</td>\n",
       "      <td>1587103916</td>\n",
       "      <td>1587104078</td>\n",
       "      <td>2020-04-17 08:15:15.312900</td>\n",
       "      <td>2020-04-17 08:14:38</td>\n",
       "      <td>2020-04-17 08:11:56</td>\n",
       "      <td>00:00:37.312900</td>\n",
       "      <td>37.312900</td>\n",
       "      <td>00:03:19.312900</td>\n",
       "      <td>199.312900</td>\n",
       "      <td>93</td>\n",
       "    </tr>\n",
       "    <tr>\n",
       "      <td>58</td>\n",
       "      <td>5e980cdb9c1a8f290e4bf19d</td>\n",
       "      <td>1.587023e+09</td>\n",
       "      <td>{'address': '0x1186aEDAb8f37C08CC00a887dBb1197...</td>\n",
       "      <td>(blockHash, blockNumber, from, gas, gasPrice, ...</td>\n",
       "      <td>(difficulty, extraData, gasLimit, gasUsed, has...</td>\n",
       "      <td>(&lt;Function setArrival(string,string,uint256)&gt;,...</td>\n",
       "      <td>1587022916</td>\n",
       "      <td>1587022966</td>\n",
       "      <td>2020-04-16 09:44:27.289289</td>\n",
       "      <td>2020-04-16 09:42:46</td>\n",
       "      <td>2020-04-16 09:41:56</td>\n",
       "      <td>00:01:41.289289</td>\n",
       "      <td>101.289289</td>\n",
       "      <td>00:02:31.289289</td>\n",
       "      <td>151.289289</td>\n",
       "      <td>49</td>\n",
       "    </tr>\n",
       "    <tr>\n",
       "      <td>153</td>\n",
       "      <td>5e99309c9c1a8f290e4bf25b</td>\n",
       "      <td>1.587098e+09</td>\n",
       "      <td>{'address': '0x1186aEDAb8f37C08CC00a887dBb1197...</td>\n",
       "      <td>(blockHash, blockNumber, from, gas, gasPrice, ...</td>\n",
       "      <td>(difficulty, extraData, gasLimit, gasUsed, has...</td>\n",
       "      <td>(&lt;Function setArrival(string,string,uint256)&gt;,...</td>\n",
       "      <td>1587097616</td>\n",
       "      <td>1587097720</td>\n",
       "      <td>2020-04-17 06:29:16.656997</td>\n",
       "      <td>2020-04-17 06:28:40</td>\n",
       "      <td>2020-04-17 06:26:56</td>\n",
       "      <td>00:00:36.656997</td>\n",
       "      <td>36.656997</td>\n",
       "      <td>00:02:20.656997</td>\n",
       "      <td>140.656997</td>\n",
       "      <td>78</td>\n",
       "    </tr>\n",
       "    <tr>\n",
       "      <td>148</td>\n",
       "      <td>5e991f069c1a8f290e4bf251</td>\n",
       "      <td>1.587093e+09</td>\n",
       "      <td>{'address': '0x1186aEDAb8f37C08CC00a887dBb1197...</td>\n",
       "      <td>(blockHash, blockNumber, from, gas, gasPrice, ...</td>\n",
       "      <td>(difficulty, extraData, gasLimit, gasUsed, has...</td>\n",
       "      <td>(&lt;Function setArrival(string,string,uint256)&gt;,...</td>\n",
       "      <td>1587093116</td>\n",
       "      <td>1587093237</td>\n",
       "      <td>2020-04-17 05:14:14.589597</td>\n",
       "      <td>2020-04-17 05:13:57</td>\n",
       "      <td>2020-04-17 05:11:56</td>\n",
       "      <td>00:00:17.589597</td>\n",
       "      <td>17.589597</td>\n",
       "      <td>00:02:18.589597</td>\n",
       "      <td>138.589597</td>\n",
       "      <td>69</td>\n",
       "    </tr>\n",
       "  </tbody>\n",
       "</table>\n",
       "</div>"
      ],
      "text/plain": [
       "                          _id  received_timestamp  \\\n",
       "66   5e982b199c1a8f290e4bf1ad        1.587031e+09   \n",
       "160  5e9949739c1a8f290e4bf269        1.587104e+09   \n",
       "58   5e980cdb9c1a8f290e4bf19d        1.587023e+09   \n",
       "153  5e99309c9c1a8f290e4bf25b        1.587098e+09   \n",
       "148  5e991f069c1a8f290e4bf251        1.587093e+09   \n",
       "\n",
       "                                                 event  \\\n",
       "66   {'address': '0x1186aEDAb8f37C08CC00a887dBb1197...   \n",
       "160  {'address': '0x1186aEDAb8f37C08CC00a887dBb1197...   \n",
       "58   {'address': '0x1186aEDAb8f37C08CC00a887dBb1197...   \n",
       "153  {'address': '0x1186aEDAb8f37C08CC00a887dBb1197...   \n",
       "148  {'address': '0x1186aEDAb8f37C08CC00a887dBb1197...   \n",
       "\n",
       "                                           transaction  \\\n",
       "66   (blockHash, blockNumber, from, gas, gasPrice, ...   \n",
       "160  (blockHash, blockNumber, from, gas, gasPrice, ...   \n",
       "58   (blockHash, blockNumber, from, gas, gasPrice, ...   \n",
       "153  (blockHash, blockNumber, from, gas, gasPrice, ...   \n",
       "148  (blockHash, blockNumber, from, gas, gasPrice, ...   \n",
       "\n",
       "                                                 block  \\\n",
       "66   (difficulty, extraData, gasLimit, gasUsed, has...   \n",
       "160  (difficulty, extraData, gasLimit, gasUsed, has...   \n",
       "58   (difficulty, extraData, gasLimit, gasUsed, has...   \n",
       "153  (difficulty, extraData, gasLimit, gasUsed, has...   \n",
       "148  (difficulty, extraData, gasLimit, gasUsed, has...   \n",
       "\n",
       "                                          decodedInput  \\\n",
       "66   (<Function setArrival(string,string,uint256)>,...   \n",
       "160  (<Function setArrival(string,string,uint256)>,...   \n",
       "58   (<Function setArrival(string,string,uint256)>,...   \n",
       "153  (<Function setArrival(string,string,uint256)>,...   \n",
       "148  (<Function setArrival(string,string,uint256)>,...   \n",
       "\n",
       "     arrivalCreationTimestamp  transaction_timestamp  \\\n",
       "66                 1587030116             1587030804   \n",
       "160                1587103916             1587104078   \n",
       "58                 1587022916             1587022966   \n",
       "153                1587097616             1587097720   \n",
       "148                1587093116             1587093237   \n",
       "\n",
       "             received_datetime transaction_datetime arrival_creation_datetime  \\\n",
       "66  2020-04-16 11:53:29.719596  2020-04-16 11:53:24       2020-04-16 11:41:56   \n",
       "160 2020-04-17 08:15:15.312900  2020-04-17 08:14:38       2020-04-17 08:11:56   \n",
       "58  2020-04-16 09:44:27.289289  2020-04-16 09:42:46       2020-04-16 09:41:56   \n",
       "153 2020-04-17 06:29:16.656997  2020-04-17 06:28:40       2020-04-17 06:26:56   \n",
       "148 2020-04-17 05:14:14.589597  2020-04-17 05:13:57       2020-04-17 05:11:56   \n",
       "\n",
       "    dt_transaction_mined  dt_transaction_mined_seconds_total  \\\n",
       "66       00:00:05.719596                            5.719596   \n",
       "160      00:00:37.312900                           37.312900   \n",
       "58       00:01:41.289289                          101.289289   \n",
       "153      00:00:36.656997                           36.656997   \n",
       "148      00:00:17.589597                           17.589597   \n",
       "\n",
       "    dt_round_trip_time  dt_round_trip_time_seconds_total  \\\n",
       "66     00:11:33.719596                        693.719596   \n",
       "160    00:03:19.312900                        199.312900   \n",
       "58     00:02:31.289289                        151.289289   \n",
       "153    00:02:20.656997                        140.656997   \n",
       "148    00:02:18.589597                        138.589597   \n",
       "\n",
       "     transactionCountInBlock  \n",
       "66                        48  \n",
       "160                       93  \n",
       "58                        49  \n",
       "153                       78  \n",
       "148                       69  "
      ]
     },
     "execution_count": 214,
     "metadata": {},
     "output_type": "execute_result"
    }
   ],
   "source": [
    "df_conf_push_outbound_oracle_arrival.sort_values(\n",
    "    by=\"dt_round_trip_time_seconds_total\", ascending=False).head()"
   ]
  },
  {
   "cell_type": "code",
   "execution_count": 207,
   "metadata": {},
   "outputs": [
    {
     "data": {
      "image/png": "[encoded data removed]",
      "text/plain": [
       "<Figure size 1152x1872 with 7 Axes>"
      ]
     },
     "metadata": {
      "needs_background": "light"
     },
     "output_type": "display_data"
    }
   ],
   "source": [
    "FONT_SIZE = \"xx-large\"\n",
    "\n",
    "fig = plt.figure(figsize=(16, 26))\n",
    "\n",
    "fig.suptitle(\n",
    "    \"Performance for each Oracle\",\n",
    "    y=0.9,\n",
    "    fontsize=24)\n",
    "\n",
    "gs = fig.add_gridspec(4, 2)\n",
    "\n",
    "\n",
    "fig_ax1 = fig.add_subplot(gs[0, 0])\n",
    "fig_ax1.boxplot(\n",
    "    df_conf_push_inbound_oracle_arrival.dt_transaction_hash_seconds_total,\n",
    "    notch=True,\n",
    "    vert=False)\n",
    "\n",
    "fig_ax1.tick_params(\n",
    "    left=False, labelleft=False)\n",
    "\n",
    "fig_ax1.set_xlabel(\"$dt_{Transaction Hash}$ [seconds]\", fontsize=\"x-large\")\n",
    "\n",
    "fig_ax1.set_ylabel(\"Push Inbound Oracle\", fontsize=FONT_SIZE)\n",
    "\n",
    "\n",
    "\n",
    "fig_ax2 = fig.add_subplot(gs[0, 1])\n",
    "fig_ax2.boxplot(\n",
    "    df_conf_pull_inbound_oracle_order.dt_transaction_hash_seconds_total,\n",
    "    notch=True,\n",
    "    vert=False)\n",
    "\n",
    "fig_ax2.tick_params(\n",
    "    left=False, labelleft=False)\n",
    "\n",
    "fig_ax2.set_xlabel(\"$dt_{Transaction Hash}$ [seconds]\", fontsize=\"x-large\")\n",
    "\n",
    "fig_ax2.set_ylabel(\"Pull Inbound Oracle\", fontsize=FONT_SIZE)\n",
    "\n",
    "\n",
    "fig_ax3 = fig.add_subplot(gs[1, 0])\n",
    "fig_ax3.boxplot(\n",
    "    df_conf_push_outbound_oracle_arrival.dt_transaction_mined_seconds_total,\n",
    "    notch=True,\n",
    "    vert=False)\n",
    "\n",
    "fig_ax3.tick_params(\n",
    "    left=False, labelleft=False)\n",
    "\n",
    "fig_ax3.set_xlabel(\"$dt_{Transaction Mined}$ [seconds]\", fontsize=\"x-large\")\n",
    "\n",
    "fig_ax3.set_ylabel(\"Push Outbound Oracle\", fontsize=FONT_SIZE)\n",
    "\n",
    "\n",
    "fig_ax4 = fig.add_subplot(gs[1, 1])\n",
    "fig_ax4.boxplot(\n",
    "    df_conf_pull_outbound_oracle_arrival.dt_transaction_hash_seconds_total,\n",
    "    notch=True,\n",
    "    vert=False)\n",
    "\n",
    "fig_ax4.tick_params(\n",
    "    left=False, labelleft=False)\n",
    "\n",
    "fig_ax4.set_xlabel(\"$dt_{Transaction Hash}$ [seconds]\", fontsize=\"x-large\")\n",
    "\n",
    "fig_ax4.set_ylabel(\"Pull Outbound Oracle\", fontsize=FONT_SIZE)\n",
    "\n",
    "\n",
    "fig_ax5 = fig.add_subplot(gs[2, 0])\n",
    "fig_ax5.hist(\n",
    "    df_push_inbound_oracle_arrival.transactionFeeEuroAverage.astype(float),\n",
    "    bins=60)\n",
    "\n",
    "fig_ax5.set_xlabel(\"Transaction Fee [€]\", fontsize=\"x-large\")\n",
    "fig_ax5.set_xlim(0, 0.02)\n",
    "fig_ax5.set_ylabel(\"Push Inbound Oracle\", fontsize=FONT_SIZE)\n",
    "\n",
    "\n",
    "fig_ax6 = fig.add_subplot(gs[2, 1])\n",
    "fig_ax6.hist(\n",
    "    df_pull_inbound_oracle_order.transactionFeeEuroAverage.astype(float),\n",
    "    bins=60)\n",
    "\n",
    "fig_ax6.set_xlabel(\"Transaction Fee [€]\", fontsize=\"x-large\")\n",
    "\n",
    "fig_ax6.set_ylabel(\"Pull Inbound Oracle\", fontsize=FONT_SIZE)\n",
    "\n",
    "\n",
    "\n",
    "fig_ax7 = fig.add_subplot(gs[3, :])\n",
    "fig_ax7.set_title(\"Push Inbound and Push Outbound Round Trip\", fontsize=\"x-large\")\n",
    "fig_ax7.boxplot(\n",
    "    df_push_outbound_oracle_arrival.dt_round_trip_time_seconds_total,\n",
    "    notch=True,\n",
    "    vert=False)\n",
    "\n",
    "fig_ax7.tick_params(\n",
    "    left=False, labelleft=False)\n",
    "\n",
    "fig_ax7.set_xlabel(\"$dt_{Round Trip}$ [seconds]\", fontsize=\"x-large\")\n",
    "\n",
    "\n",
    "\n",
    "fig.savefig(\"qa_conf_evaluation_plots_for_each_oracle.pdf\", dpi=400)"
   ]
  },
  {
   "cell_type": "code",
   "execution_count": 186,
   "metadata": {},
   "outputs": [
    {
     "data": {
      "text/plain": [
       "count    1.260000e+02\n",
       "mean     1.440390e-03\n",
       "std      1.537865e-03\n",
       "min      6.333263e-07\n",
       "25%      1.679040e-06\n",
       "50%      2.092952e-03\n",
       "75%      2.101027e-03\n",
       "max      3.941514e-03\n",
       "Name: transactionFeeEuroAverage, dtype: float64"
      ]
     },
     "execution_count": 186,
     "metadata": {},
     "output_type": "execute_result"
    }
   ],
   "source": [
    "df_pull_inbound_oracle_order.transactionFeeEuroAverage.describe()"
   ]
  },
  {
   "cell_type": "code",
   "execution_count": 195,
   "metadata": {},
   "outputs": [
    {
     "data": {
      "text/plain": [
       "array([Decimal('0.0000128081250'), Decimal('5.46480E-9')], dtype=object)"
      ]
     },
     "execution_count": 195,
     "metadata": {},
     "output_type": "execute_result"
    }
   ],
   "source": [
    "df_pull_inbound_oracle_order.transactionFeeEther.unique()"
   ]
  },
  {
   "cell_type": "markdown",
   "metadata": {},
   "source": [
    "Total costs of inbound oracles."
   ]
  },
  {
   "cell_type": "code",
   "execution_count": 187,
   "metadata": {},
   "outputs": [
    {
     "data": {
      "text/plain": [
       "14.47423202994693"
      ]
     },
     "execution_count": 187,
     "metadata": {},
     "output_type": "execute_result"
    }
   ],
   "source": [
    "(\n",
    "    df_pull_inbound_oracle_order.transactionFeeEuroAverage.sum() + \n",
    "    df_push_inbound_oracle_arrival.transactionFeeEuroAverage.sum()\n",
    ")"
   ]
  },
  {
   "cell_type": "markdown",
   "metadata": {},
   "source": [
    "Number of transaction for all inbound oracles."
   ]
  },
  {
   "cell_type": "code",
   "execution_count": 192,
   "metadata": {},
   "outputs": [
    {
     "data": {
      "text/plain": [
       "2712"
      ]
     },
     "execution_count": 192,
     "metadata": {},
     "output_type": "execute_result"
    }
   ],
   "source": [
    "(\n",
    "    df_pull_inbound_oracle_order.shape[0] +\n",
    "    df_push_inbound_oracle_arrival.shape[0]\n",
    ")"
   ]
  }
 ],
 "metadata": {
  "kernelspec": {
   "display_name": "Python 3",
   "language": "python",
   "name": "python3"
  },
  "language_info": {
   "codemirror_mode": {
    "name": "ipython",
    "version": 3
   },
   "file_extension": ".py",
   "mimetype": "text/x-python",
   "name": "python",
   "nbconvert_exporter": "python",
   "pygments_lexer": "ipython3",
   "version": "3.7.4"
  }
 },
 "nbformat": 4,
 "nbformat_minor": 2
}
